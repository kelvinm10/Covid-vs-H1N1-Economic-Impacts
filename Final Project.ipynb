{
 "cells": [
  {
   "cell_type": "markdown",
   "metadata": {},
   "source": [
    "# Covid-19 and H1N1 Effects on US Unemployment"
   ]
  },
  {
   "cell_type": "code",
   "execution_count": 10,
   "metadata": {
    "extensions": {
     "jupyter_dashboards": {
      "version": 1,
      "views": {
       "grid_default": {
        "hidden": true
       },
       "report_default": {
        "hidden": true
       }
      }
     }
    }
   },
   "outputs": [],
   "source": [
    "import pandas as pd\n",
    "import numpy as np\n",
    "import sklearn\n",
    "import matplotlib.pyplot as plt\n",
    "from sklearn.svm import SVR\n",
    "from sklearn.preprocessing import StandardScaler\n",
    "from sklearn.model_selection import train_test_split\n",
    "from sklearn.metrics import mean_squared_error\n",
    "from sklearn.neighbors import KNeighborsRegressor\n",
    "from ipywidgets import *\n",
    "import warnings;\n",
    "warnings.filterwarnings('ignore');"
   ]
  },
  {
   "cell_type": "markdown",
   "metadata": {},
   "source": [
    "### Data Cleanup"
   ]
  },
  {
   "cell_type": "code",
   "execution_count": 11,
   "metadata": {
    "extensions": {
     "jupyter_dashboards": {
      "version": 1,
      "views": {
       "grid_default": {
        "hidden": true
       },
       "report_default": {
        "hidden": true
       }
      }
     }
    }
   },
   "outputs": [
    {
     "data": {
      "text/html": [
       "<div>\n",
       "<style scoped>\n",
       "    .dataframe tbody tr th:only-of-type {\n",
       "        vertical-align: middle;\n",
       "    }\n",
       "\n",
       "    .dataframe tbody tr th {\n",
       "        vertical-align: top;\n",
       "    }\n",
       "\n",
       "    .dataframe thead th {\n",
       "        text-align: right;\n",
       "    }\n",
       "</style>\n",
       "<table border=\"1\" class=\"dataframe\">\n",
       "  <thead>\n",
       "    <tr style=\"text-align: right;\">\n",
       "      <th></th>\n",
       "      <th>State and area</th>\n",
       "      <th>Year</th>\n",
       "      <th>Month</th>\n",
       "      <th>Civilian non-institutional population</th>\n",
       "      <th>Civilian labor force</th>\n",
       "      <th>Percent of population</th>\n",
       "      <th>Total</th>\n",
       "      <th>Percent of population.1</th>\n",
       "      <th>Rate</th>\n",
       "    </tr>\n",
       "  </thead>\n",
       "  <tbody>\n",
       "    <tr>\n",
       "      <th>0</th>\n",
       "      <td>Alabama</td>\n",
       "      <td>1976</td>\n",
       "      <td>1</td>\n",
       "      <td>2605000.0</td>\n",
       "      <td>1479554.0</td>\n",
       "      <td>56.8</td>\n",
       "      <td>1362852.0</td>\n",
       "      <td>52.3</td>\n",
       "      <td>7.9</td>\n",
       "    </tr>\n",
       "    <tr>\n",
       "      <th>1</th>\n",
       "      <td>Alaska</td>\n",
       "      <td>1976</td>\n",
       "      <td>1</td>\n",
       "      <td>232000.0</td>\n",
       "      <td>153109.0</td>\n",
       "      <td>66.0</td>\n",
       "      <td>138852.0</td>\n",
       "      <td>59.8</td>\n",
       "      <td>9.3</td>\n",
       "    </tr>\n",
       "    <tr>\n",
       "      <th>2</th>\n",
       "      <td>Arizona</td>\n",
       "      <td>1976</td>\n",
       "      <td>1</td>\n",
       "      <td>1621000.0</td>\n",
       "      <td>959530.0</td>\n",
       "      <td>59.2</td>\n",
       "      <td>847058.0</td>\n",
       "      <td>52.3</td>\n",
       "      <td>11.7</td>\n",
       "    </tr>\n",
       "    <tr>\n",
       "      <th>3</th>\n",
       "      <td>Arkansas</td>\n",
       "      <td>1976</td>\n",
       "      <td>1</td>\n",
       "      <td>1536000.0</td>\n",
       "      <td>857544.0</td>\n",
       "      <td>55.8</td>\n",
       "      <td>781080.0</td>\n",
       "      <td>50.9</td>\n",
       "      <td>8.9</td>\n",
       "    </tr>\n",
       "    <tr>\n",
       "      <th>4</th>\n",
       "      <td>California</td>\n",
       "      <td>1976</td>\n",
       "      <td>1</td>\n",
       "      <td>15621000.0</td>\n",
       "      <td>9686520.0</td>\n",
       "      <td>62.0</td>\n",
       "      <td>8689249.0</td>\n",
       "      <td>55.6</td>\n",
       "      <td>10.3</td>\n",
       "    </tr>\n",
       "    <tr>\n",
       "      <th>...</th>\n",
       "      <td>...</td>\n",
       "      <td>...</td>\n",
       "      <td>...</td>\n",
       "      <td>...</td>\n",
       "      <td>...</td>\n",
       "      <td>...</td>\n",
       "      <td>...</td>\n",
       "      <td>...</td>\n",
       "      <td>...</td>\n",
       "    </tr>\n",
       "    <tr>\n",
       "      <th>28403</th>\n",
       "      <td>Virginia</td>\n",
       "      <td>2020</td>\n",
       "      <td>8</td>\n",
       "      <td>6715430.0</td>\n",
       "      <td>4348190.0</td>\n",
       "      <td>64.7</td>\n",
       "      <td>4073362.0</td>\n",
       "      <td>60.7</td>\n",
       "      <td>6.3</td>\n",
       "    </tr>\n",
       "    <tr>\n",
       "      <th>28404</th>\n",
       "      <td>Washington</td>\n",
       "      <td>2020</td>\n",
       "      <td>8</td>\n",
       "      <td>6114953.0</td>\n",
       "      <td>3963255.0</td>\n",
       "      <td>64.8</td>\n",
       "      <td>3630085.0</td>\n",
       "      <td>59.4</td>\n",
       "      <td>8.4</td>\n",
       "    </tr>\n",
       "    <tr>\n",
       "      <th>28405</th>\n",
       "      <td>West Virginia</td>\n",
       "      <td>2020</td>\n",
       "      <td>8</td>\n",
       "      <td>1438628.0</td>\n",
       "      <td>772389.0</td>\n",
       "      <td>53.7</td>\n",
       "      <td>705328.0</td>\n",
       "      <td>49.0</td>\n",
       "      <td>8.7</td>\n",
       "    </tr>\n",
       "    <tr>\n",
       "      <th>28406</th>\n",
       "      <td>Wisconsin</td>\n",
       "      <td>2020</td>\n",
       "      <td>8</td>\n",
       "      <td>4659832.0</td>\n",
       "      <td>3062770.0</td>\n",
       "      <td>65.7</td>\n",
       "      <td>2876913.0</td>\n",
       "      <td>61.7</td>\n",
       "      <td>6.1</td>\n",
       "    </tr>\n",
       "    <tr>\n",
       "      <th>28407</th>\n",
       "      <td>Wyoming</td>\n",
       "      <td>2020</td>\n",
       "      <td>8</td>\n",
       "      <td>452313.0</td>\n",
       "      <td>295091.0</td>\n",
       "      <td>65.2</td>\n",
       "      <td>277249.0</td>\n",
       "      <td>61.3</td>\n",
       "      <td>6.0</td>\n",
       "    </tr>\n",
       "  </tbody>\n",
       "</table>\n",
       "<p>26800 rows × 9 columns</p>\n",
       "</div>"
      ],
      "text/plain": [
       "      State and area  Year  Month  Civilian non-institutional population  \\\n",
       "0            Alabama  1976      1                              2605000.0   \n",
       "1             Alaska  1976      1                               232000.0   \n",
       "2            Arizona  1976      1                              1621000.0   \n",
       "3           Arkansas  1976      1                              1536000.0   \n",
       "4         California  1976      1                             15621000.0   \n",
       "...              ...   ...    ...                                    ...   \n",
       "28403       Virginia  2020      8                              6715430.0   \n",
       "28404     Washington  2020      8                              6114953.0   \n",
       "28405  West Virginia  2020      8                              1438628.0   \n",
       "28406      Wisconsin  2020      8                              4659832.0   \n",
       "28407        Wyoming  2020      8                               452313.0   \n",
       "\n",
       "       Civilian labor force  Percent of population      Total  \\\n",
       "0                 1479554.0                   56.8  1362852.0   \n",
       "1                  153109.0                   66.0   138852.0   \n",
       "2                  959530.0                   59.2   847058.0   \n",
       "3                  857544.0                   55.8   781080.0   \n",
       "4                 9686520.0                   62.0  8689249.0   \n",
       "...                     ...                    ...        ...   \n",
       "28403             4348190.0                   64.7  4073362.0   \n",
       "28404             3963255.0                   64.8  3630085.0   \n",
       "28405              772389.0                   53.7   705328.0   \n",
       "28406             3062770.0                   65.7  2876913.0   \n",
       "28407              295091.0                   65.2   277249.0   \n",
       "\n",
       "       Percent of population.1  Rate  \n",
       "0                         52.3   7.9  \n",
       "1                         59.8   9.3  \n",
       "2                         52.3  11.7  \n",
       "3                         50.9   8.9  \n",
       "4                         55.6  10.3  \n",
       "...                        ...   ...  \n",
       "28403                     60.7   6.3  \n",
       "28404                     59.4   8.4  \n",
       "28405                     49.0   8.7  \n",
       "28406                     61.7   6.1  \n",
       "28407                     61.3   6.0  \n",
       "\n",
       "[26800 rows x 9 columns]"
      ]
     },
     "execution_count": 11,
     "metadata": {},
     "output_type": "execute_result"
    }
   ],
   "source": [
    "#UnempUpdated (incuded in githup repo) is a semi cleaned version of the unemployment data in BLS\n",
    "\n",
    "df = pd.read_csv(\"UnempUpdated.csv\")\n",
    "df = df.rename(columns={\"Year \":\"Year\"})\n",
    "# DC, Los Angeles County, and New York City is included, drop these rows\n",
    "drop = df[df[\"State and area\"] != \"Los Angeles County\"]\n",
    "drop = drop[drop[\"State and area\"] != \"New York city\"]\n",
    "df = drop[drop[\"State and area\"] != \"District of Columbia\"]\n",
    "df = df.drop(columns=[\"Unemployment Total\"])\n",
    "df"
   ]
  },
  {
   "cell_type": "markdown",
   "metadata": {},
   "source": [
    "## Covid-19 "
   ]
  },
  {
   "cell_type": "markdown",
   "metadata": {},
   "source": [
    "### Support Vector Regression by State and Year"
   ]
  },
  {
   "cell_type": "code",
   "execution_count": 12,
   "metadata": {
    "extensions": {
     "jupyter_dashboards": {
      "version": 1,
      "views": {
       "grid_default": {
        "hidden": true
       },
       "report_default": {
        "hidden": true
       }
      }
     }
    }
   },
   "outputs": [],
   "source": [
    "def pred_by_state_andYr(state,year):\n",
    "    newDf = df[df[\"State and area\"] == state]\n",
    "    X = newDf[newDf[\"Year\"] != year].values\n",
    "    y = newDf[newDf[\"Year\"] == year].values\n",
    "    \n",
    "    x_features = X[:,2:8]\n",
    "    x_target = X[:,8]\n",
    "    y_features = y[:,2:8]\n",
    "    y_target = y[:,8]\n",
    "    x_target = np.array(x_target).reshape(-1,1)\n",
    "    y_target = np.array(y_target).reshape(-1,1)\n",
    "    \n",
    "\n",
    "    sc_X = StandardScaler()\n",
    "    sc_y = StandardScaler()\n",
    "    X = sc_X.fit_transform(x_features)\n",
    "    y = sc_y.fit_transform(x_target)\n",
    "    y2 = sc_y.fit_transform(y_target)\n",
    "    x2 = sc_X.fit_transform(y_features)\n",
    "\n",
    "\n",
    "    X_train, X_test, y_train, y_test = train_test_split(X, y, test_size = 0.2)\n",
    "    regressor = SVR(kernel = 'rbf',C = 1, gamma = 0.01, epsilon = 0.1)\n",
    "    regressor.fit(X_train,y_train)\n",
    "    y_pred = regressor.predict(x2)\n",
    "    y_pred = sc_y.inverse_transform(y_pred)\n",
    "    plt.plot(y_features[:,0],y_pred,label = \"Predicted\")\n",
    "    plt.plot(y_features[:,0],y_target,label=\"Actual\")\n",
    "    plt.legend()\n",
    "    plt.xlabel(\"Month\")\n",
    "    plt.ylabel(\"Unemployment Rate\")\n",
    "    plt.xticks(np.arange(1, 13, step=1))\n",
    "    plt.title(\"Pred vs Actual Unemployment Rate in \" + state + \" \" + str(year))\n",
    "    plt.show()\n",
    "   \n",
    "    \n",
    "    return tuple((y_pred,sc_y.inverse_transform(y2)))\n",
    "    "
   ]
  },
  {
   "cell_type": "markdown",
   "metadata": {},
   "source": [
    "### SVR not effective in displaying difference due to Covids impact on the 2020 data"
   ]
  },
  {
   "cell_type": "code",
   "execution_count": 13,
   "metadata": {
    "extensions": {
     "jupyter_dashboards": {
      "version": 1,
      "views": {
       "grid_default": {
        "col": 0,
        "height": 10,
        "hidden": false,
        "row": 0,
        "width": 4
       },
       "report_default": {
        "hidden": false
       }
      }
     }
    }
   },
   "outputs": [
    {
     "data": {
      "image/png": "[encoded data removed]",
      "text/plain": [
       "<Figure size 432x288 with 1 Axes>"
      ]
     },
     "metadata": {
      "needs_background": "light"
     },
     "output_type": "display_data"
    },
    {
     "name": "stdout",
     "output_type": "stream",
     "text": [
      "Mean Squared Error: 3.314366425963975\n"
     ]
    }
   ],
   "source": [
    "value = pred_by_state_andYr(\"California\",2020)\n",
    "print(\"Mean Squared Error: \" + str(mean_squared_error(value[1],value[0])))\n"
   ]
  },
  {
   "cell_type": "markdown",
   "metadata": {},
   "source": [
    "### 2020 covid impact using K nearest neighbors "
   ]
  },
  {
   "cell_type": "markdown",
   "metadata": {},
   "source": [
    "##### Using KNN, we can find the 3 nearest neighbors to the year of 2020, and output the mean unemployment rate of the 3 nearest neighbors. This will provide a better prediction for what the 2020 Unemployment rate would have been without covid"
   ]
  },
  {
   "cell_type": "code",
   "execution_count": 14,
   "metadata": {
    "extensions": {
     "jupyter_dashboards": {
      "version": 1,
      "views": {
       "grid_default": {
        "hidden": true
       },
       "report_default": {
        "hidden": true
       }
      }
     }
    }
   },
   "outputs": [],
   "source": [
    "def graph_2020impact(state):\n",
    "    newDf = df[df[\"State and area\"] == state]\n",
    "    X = newDf[newDf[\"Year\"] != 2020].values\n",
    "    y = newDf[newDf[\"Year\"] == 2020].values\n",
    "    x_features = X[:,2:8]\n",
    "    x_target = X[:,8]\n",
    "    y_features = y[:,2:8]\n",
    "    y_target = y[:,8]\n",
    "    \n",
    "    \n",
    "    neigh = KNeighborsRegressor(n_neighbors=3)\n",
    "    neigh.fit(x_features,x_target)\n",
    "    prediction = neigh.predict(y_features)\n",
    "    \n",
    "    plt.plot(y_features[:,0],prediction,label = \"Predicted\")\n",
    "    plt.plot(y_features[:,0],y_target,label=\"Actual\")\n",
    "    plt.legend()\n",
    "    plt.xlabel(\"Month\")\n",
    "    plt.ylabel(\"Unemployment Rate\")\n",
    "    plt.title(\"Impact of Covid in \" + state +  \" Unemployment Rate\")\n",
    "    plt.savefig(state + \" covid impact\")\n",
    "    plt.show()\n",
    "    print(\"Mean Squared Error: \" + str(mean_squared_error(prediction,y_target)))\n",
    "    \n",
    "\n",
    "  "
   ]
  },
  {
   "cell_type": "markdown",
   "metadata": {},
   "source": [
    "#### Widget"
   ]
  },
  {
   "cell_type": "code",
   "execution_count": 15,
   "metadata": {},
   "outputs": [
    {
     "data": {
      "application/vnd.jupyter.widget-view+json": {
       "model_id": "180698734f0344999f36eb4e76901ba8",
       "version_major": 2,
       "version_minor": 0
      },
      "text/plain": [
       "interactive(children=(Dropdown(description='state', options=('Alabama', 'Alaska', 'Arizona', 'Arkansas', 'Cali…"
      ]
     },
     "metadata": {},
     "output_type": "display_data"
    }
   ],
   "source": [
    "stateArray = df[\"State and area\"]\n",
    "stateArray = stateArray[0:50]\n",
    "\n",
    "slider = interact(graph_2020impact,state =(stateArray)) "
   ]
  },
  {
   "cell_type": "markdown",
   "metadata": {},
   "source": [
    "# H1N1 "
   ]
  },
  {
   "cell_type": "markdown",
   "metadata": {},
   "source": [
    "### KNN Model for H1N1 (2009)"
   ]
  },
  {
   "cell_type": "code",
   "execution_count": 16,
   "metadata": {},
   "outputs": [],
   "source": [
    "months = [1,2,3,4,5,6,7,8,9,10,11,12]\n",
    "def graph_2009impact(state):\n",
    "    newDf = df[df[\"Year\"] != 2020]\n",
    "    newDf = newDf[newDf[\"State and area\"] == state]\n",
    "    X = newDf[newDf[\"Year\"] != 2009].values\n",
    "    y = newDf[newDf[\"Year\"] == 2009].values\n",
    "    x_features = X[:,2:8]\n",
    "    x_target = X[:,8]\n",
    "    y_features = y[:,2:8]\n",
    "    y_target = y[:,8]\n",
    "    \n",
    "    \n",
    "    neigh = KNeighborsRegressor(n_neighbors=3)\n",
    "    neigh.fit(x_features,x_target)\n",
    "    prediction = neigh.predict(y_features)\n",
    "    \n",
    "    plt.plot(months,prediction,label = \"Predicted\")\n",
    "    plt.plot(months,y_target,label=\"Actual\")\n",
    "    plt.legend(loc = \"upper left\")\n",
    "    plt.xlabel(\"Month\")\n",
    "    plt.ylabel(\"Unemployment Rate\")\n",
    "    plt.ylim(0,32)\n",
    "    plt.title(state,fontsize = 16, fontweight= \"bold\")\n",
    "    plt.text(7,30,\"Mean Squared Error: \" + str(round(mean_squared_error(prediction,y_target),3)),fontsize=10)\n",
    "    plt.savefig(state + \" H1N1 impact\")\n",
    "    plt.xticks(months)\n",
    "    plt.show()\n",
    "    print(\"Mean Squared Error: \" + str(mean_squared_error(prediction,y_target)))\n",
    "    \n"
   ]
  },
  {
   "cell_type": "markdown",
   "metadata": {},
   "source": [
    "#### Widget for H1N1"
   ]
  },
  {
   "cell_type": "code",
   "execution_count": 17,
   "metadata": {},
   "outputs": [
    {
     "data": {
      "application/vnd.jupyter.widget-view+json": {
       "model_id": "42a36a399a0b43b19733c9bcc2368fd0",
       "version_major": 2,
       "version_minor": 0
      },
      "text/plain": [
       "interactive(children=(Dropdown(description='state', options=('Alabama', 'Alaska', 'Arizona', 'Arkansas', 'Cali…"
      ]
     },
     "metadata": {},
     "output_type": "display_data"
    }
   ],
   "source": [
    "stateArray = df[\"State and area\"]\n",
    "stateArray = stateArray[0:50]\n",
    "\n",
    "\n",
    "slider = interact(graph_2009impact,state =(stateArray)) "
   ]
  },
  {
   "cell_type": "markdown",
   "metadata": {},
   "source": [
    "# Making graphs for the United States in General"
   ]
  },
  {
   "cell_type": "markdown",
   "metadata": {},
   "source": [
    "### Data Cleanup"
   ]
  },
  {
   "cell_type": "code",
   "execution_count": 50,
   "metadata": {},
   "outputs": [
    {
     "data": {
      "text/plain": [
       "536"
      ]
     },
     "execution_count": 50,
     "metadata": {},
     "output_type": "execute_result"
    }
   ],
   "source": [
    "# Data Cleanup\n",
    "\n",
    "\n",
    "start = 0\n",
    "end = 50\n",
    "\n",
    "UScnp = []\n",
    "years = []\n",
    "months = []\n",
    "cvl = []\n",
    "percPop = []\n",
    "total = []\n",
    "percPop1 = []\n",
    "rate = []\n",
    "country = []\n",
    "for end in range(50,26850,50):\n",
    "    value = 0\n",
    "    partition = df[start:end]\n",
    "    UScnp.append(partition[\"Civilian non-institutional population\"].sum())\n",
    "    years.append(partition[\"Year\"].values)\n",
    "    months.append(partition[\"Month\"].values)\n",
    "    cvl.append(partition[\"Civilian labor force\"].sum())\n",
    "    percPop.append((partition[\"Percent of population\"].sum())/50)\n",
    "    total.append(partition[\"Total\"].sum())\n",
    "    percPop1.append((partition[\"Percent of population.1\"].sum())/50)\n",
    "    rate.append((partition[\"Rate\"].sum())/50)\n",
    "    country.append(\"US\")\n",
    "    start += 50 \n",
    "\n",
    "    \n",
    "arr = []\n",
    "currMonth = 1\n",
    "for i in range(536):\n",
    "    arr.append(currMonth)\n",
    "    currMonth +=1\n",
    "    if currMonth == 13:\n",
    "        currMonth = 1\n",
    "        \n",
    "#arr = np.concatenate(arr)  \n",
    "len(arr)"
   ]
  },
  {
   "cell_type": "markdown",
   "metadata": {},
   "source": [
    "### Create new Dataframe with US totals"
   ]
  },
  {
   "cell_type": "code",
   "execution_count": 52,
   "metadata": {},
   "outputs": [
    {
     "data": {
      "text/html": [
       "<div>\n",
       "<style scoped>\n",
       "    .dataframe tbody tr th:only-of-type {\n",
       "        vertical-align: middle;\n",
       "    }\n",
       "\n",
       "    .dataframe tbody tr th {\n",
       "        vertical-align: top;\n",
       "    }\n",
       "\n",
       "    .dataframe thead th {\n",
       "        text-align: right;\n",
       "    }\n",
       "</style>\n",
       "<table border=\"1\" class=\"dataframe\">\n",
       "  <thead>\n",
       "    <tr style=\"text-align: right;\">\n",
       "      <th></th>\n",
       "      <th>Area</th>\n",
       "      <th>Year</th>\n",
       "      <th>Month</th>\n",
       "      <th>Civilian non-institutional population</th>\n",
       "      <th>Civilian labor force</th>\n",
       "      <th>Percent of population</th>\n",
       "      <th>Total</th>\n",
       "      <th>Percent of population.1</th>\n",
       "      <th>Rate</th>\n",
       "    </tr>\n",
       "  </thead>\n",
       "  <tbody>\n",
       "    <tr>\n",
       "      <th>0</th>\n",
       "      <td>US</td>\n",
       "      <td>[1976, 1976, 1976, 1976, 1976, 1976, 1976, 197...</td>\n",
       "      <td>1</td>\n",
       "      <td>153943000.0</td>\n",
       "      <td>93510926.0</td>\n",
       "      <td>61.428</td>\n",
       "      <td>85231152.0</td>\n",
       "      <td>56.298</td>\n",
       "      <td>8.352</td>\n",
       "    </tr>\n",
       "    <tr>\n",
       "      <th>1</th>\n",
       "      <td>US</td>\n",
       "      <td>[1976, 1976, 1976, 1976, 1976, 1976, 1976, 197...</td>\n",
       "      <td>2</td>\n",
       "      <td>154200000.0</td>\n",
       "      <td>93702263.0</td>\n",
       "      <td>61.460</td>\n",
       "      <td>85557692.0</td>\n",
       "      <td>56.460</td>\n",
       "      <td>8.154</td>\n",
       "    </tr>\n",
       "    <tr>\n",
       "      <th>2</th>\n",
       "      <td>US</td>\n",
       "      <td>[1976, 1976, 1976, 1976, 1976, 1976, 1976, 197...</td>\n",
       "      <td>3</td>\n",
       "      <td>154444000.0</td>\n",
       "      <td>94048631.0</td>\n",
       "      <td>61.604</td>\n",
       "      <td>86414322.0</td>\n",
       "      <td>56.932</td>\n",
       "      <td>7.616</td>\n",
       "    </tr>\n",
       "    <tr>\n",
       "      <th>3</th>\n",
       "      <td>US</td>\n",
       "      <td>[1976, 1976, 1976, 1976, 1976, 1976, 1976, 197...</td>\n",
       "      <td>4</td>\n",
       "      <td>154691000.0</td>\n",
       "      <td>94335822.0</td>\n",
       "      <td>61.750</td>\n",
       "      <td>87379702.0</td>\n",
       "      <td>57.546</td>\n",
       "      <td>6.836</td>\n",
       "    </tr>\n",
       "    <tr>\n",
       "      <th>4</th>\n",
       "      <td>US</td>\n",
       "      <td>[1976, 1976, 1976, 1976, 1976, 1976, 1976, 197...</td>\n",
       "      <td>5</td>\n",
       "      <td>154945000.0</td>\n",
       "      <td>94554692.0</td>\n",
       "      <td>61.948</td>\n",
       "      <td>88152449.0</td>\n",
       "      <td>58.052</td>\n",
       "      <td>6.292</td>\n",
       "    </tr>\n",
       "    <tr>\n",
       "      <th>...</th>\n",
       "      <td>...</td>\n",
       "      <td>...</td>\n",
       "      <td>...</td>\n",
       "      <td>...</td>\n",
       "      <td>...</td>\n",
       "      <td>...</td>\n",
       "      <td>...</td>\n",
       "      <td>...</td>\n",
       "      <td>...</td>\n",
       "    </tr>\n",
       "    <tr>\n",
       "      <th>531</th>\n",
       "      <td>US</td>\n",
       "      <td>[2020, 2020, 2020, 2020, 2020, 2020, 2020, 202...</td>\n",
       "      <td>4</td>\n",
       "      <td>259316540.0</td>\n",
       "      <td>155426261.0</td>\n",
       "      <td>61.146</td>\n",
       "      <td>132966966.0</td>\n",
       "      <td>52.652</td>\n",
       "      <td>14.004</td>\n",
       "    </tr>\n",
       "    <tr>\n",
       "      <th>532</th>\n",
       "      <td>US</td>\n",
       "      <td>[2020, 2020, 2020, 2020, 2020, 2020, 2020, 202...</td>\n",
       "      <td>5</td>\n",
       "      <td>259466728.0</td>\n",
       "      <td>157587949.0</td>\n",
       "      <td>61.662</td>\n",
       "      <td>137106989.0</td>\n",
       "      <td>54.214</td>\n",
       "      <td>12.164</td>\n",
       "    </tr>\n",
       "    <tr>\n",
       "      <th>533</th>\n",
       "      <td>US</td>\n",
       "      <td>[2020, 2020, 2020, 2020, 2020, 2020, 2020, 202...</td>\n",
       "      <td>6</td>\n",
       "      <td>259624018.0</td>\n",
       "      <td>160486471.0</td>\n",
       "      <td>62.736</td>\n",
       "      <td>142450300.0</td>\n",
       "      <td>56.474</td>\n",
       "      <td>10.010</td>\n",
       "    </tr>\n",
       "    <tr>\n",
       "      <th>534</th>\n",
       "      <td>US</td>\n",
       "      <td>[2020, 2020, 2020, 2020, 2020, 2020, 2020, 202...</td>\n",
       "      <td>7</td>\n",
       "      <td>259792118.0</td>\n",
       "      <td>160975013.0</td>\n",
       "      <td>62.876</td>\n",
       "      <td>144128456.0</td>\n",
       "      <td>57.056</td>\n",
       "      <td>9.316</td>\n",
       "    </tr>\n",
       "    <tr>\n",
       "      <th>535</th>\n",
       "      <td>US</td>\n",
       "      <td>[2020, 2020, 2020, 2020, 2020, 2020, 2020, 202...</td>\n",
       "      <td>8</td>\n",
       "      <td>259977318.0</td>\n",
       "      <td>160571985.0</td>\n",
       "      <td>62.354</td>\n",
       "      <td>146864101.0</td>\n",
       "      <td>57.592</td>\n",
       "      <td>7.700</td>\n",
       "    </tr>\n",
       "  </tbody>\n",
       "</table>\n",
       "<p>536 rows × 9 columns</p>\n",
       "</div>"
      ],
      "text/plain": [
       "    Area                                               Year  Month  \\\n",
       "0     US  [1976, 1976, 1976, 1976, 1976, 1976, 1976, 197...      1   \n",
       "1     US  [1976, 1976, 1976, 1976, 1976, 1976, 1976, 197...      2   \n",
       "2     US  [1976, 1976, 1976, 1976, 1976, 1976, 1976, 197...      3   \n",
       "3     US  [1976, 1976, 1976, 1976, 1976, 1976, 1976, 197...      4   \n",
       "4     US  [1976, 1976, 1976, 1976, 1976, 1976, 1976, 197...      5   \n",
       "..   ...                                                ...    ...   \n",
       "531   US  [2020, 2020, 2020, 2020, 2020, 2020, 2020, 202...      4   \n",
       "532   US  [2020, 2020, 2020, 2020, 2020, 2020, 2020, 202...      5   \n",
       "533   US  [2020, 2020, 2020, 2020, 2020, 2020, 2020, 202...      6   \n",
       "534   US  [2020, 2020, 2020, 2020, 2020, 2020, 2020, 202...      7   \n",
       "535   US  [2020, 2020, 2020, 2020, 2020, 2020, 2020, 202...      8   \n",
       "\n",
       "     Civilian non-institutional population  Civilian labor force  \\\n",
       "0                              153943000.0            93510926.0   \n",
       "1                              154200000.0            93702263.0   \n",
       "2                              154444000.0            94048631.0   \n",
       "3                              154691000.0            94335822.0   \n",
       "4                              154945000.0            94554692.0   \n",
       "..                                     ...                   ...   \n",
       "531                            259316540.0           155426261.0   \n",
       "532                            259466728.0           157587949.0   \n",
       "533                            259624018.0           160486471.0   \n",
       "534                            259792118.0           160975013.0   \n",
       "535                            259977318.0           160571985.0   \n",
       "\n",
       "     Percent of population        Total  Percent of population.1    Rate  \n",
       "0                   61.428   85231152.0                   56.298   8.352  \n",
       "1                   61.460   85557692.0                   56.460   8.154  \n",
       "2                   61.604   86414322.0                   56.932   7.616  \n",
       "3                   61.750   87379702.0                   57.546   6.836  \n",
       "4                   61.948   88152449.0                   58.052   6.292  \n",
       "..                     ...          ...                      ...     ...  \n",
       "531                 61.146  132966966.0                   52.652  14.004  \n",
       "532                 61.662  137106989.0                   54.214  12.164  \n",
       "533                 62.736  142450300.0                   56.474  10.010  \n",
       "534                 62.876  144128456.0                   57.056   9.316  \n",
       "535                 62.354  146864101.0                   57.592   7.700  \n",
       "\n",
       "[536 rows x 9 columns]"
      ]
     },
     "execution_count": 52,
     "metadata": {},
     "output_type": "execute_result"
    }
   ],
   "source": [
    "d = {\"Area\":country,\"Year\":years,\"Month\":arr,\"Civilian non-institutional population\":UScnp, \\\n",
    "     \"Civilian labor force\":cvl,\"Percent of population\":percPop,\"Total\":total,\"Percent of population.1\":percPop1, \\\n",
    "    \"Rate\":rate}\n",
    "usDf = pd.DataFrame(data=d)\n",
    "usDf"
   ]
  },
  {
   "cell_type": "markdown",
   "metadata": {},
   "source": [
    "### Covid Effects on Entire USA (2020)"
   ]
  },
  {
   "cell_type": "code",
   "execution_count": 71,
   "metadata": {},
   "outputs": [
    {
     "data": {
      "image/png": "[encoded data removed]",
      "text/plain": [
       "<Figure size 432x288 with 1 Axes>"
      ]
     },
     "metadata": {
      "needs_background": "light"
     },
     "output_type": "display_data"
    },
    {
     "name": "stdout",
     "output_type": "stream",
     "text": [
      "Mean Squared Error: 20.522431555555556\n"
     ]
    }
   ],
   "source": [
    "X = usDf[0:528].values\n",
    "y = usDf[528:].values\n",
    "x_features = X[:,2:8]\n",
    "x_target = X[:,8]\n",
    "y_features = y[:,2:8]\n",
    "y_target = y[:,8]\n",
    "    \n",
    "    \n",
    "neigh = KNeighborsRegressor(n_neighbors=3)\n",
    "neigh.fit(x_features,x_target)\n",
    "prediction = neigh.predict(y_features)\n",
    "    \n",
    "plt.plot(y_features[:,0],prediction,label = \"Predicted\")\n",
    "plt.plot(y_features[:,0],y_target,label=\"Actual\")\n",
    "plt.legend(loc = \"upper left\")\n",
    "plt.xlabel(\"Month\")\n",
    "plt.ylabel(\"Unemployment Rate\")\n",
    "plt.ylim(0,32)\n",
    "plt.title(\"Enitre USA\",fontsize = 16, fontweight= \"bold\")\n",
    "plt.text(5,30,\"Mean Squared Error: \" + str(round(mean_squared_error(prediction,y_target),3)),fontsize=10)\n",
    "plt.savefig(\"USA Graph\")\n",
    "\n",
    "plt.show()\n",
    "print(\"Mean Squared Error: \" + str(mean_squared_error(prediction,y_target)))  \n"
   ]
  },
  {
   "cell_type": "markdown",
   "metadata": {},
   "source": [
    "### H1N1 Effects on Entire USA (2009)"
   ]
  },
  {
   "cell_type": "code",
   "execution_count": 72,
   "metadata": {},
   "outputs": [
    {
     "data": {
      "image/png": "[encoded data removed]",
      "text/plain": [
       "<Figure size 432x288 with 1 Axes>"
      ]
     },
     "metadata": {
      "needs_background": "light"
     },
     "output_type": "display_data"
    },
    {
     "name": "stdout",
     "output_type": "stream",
     "text": [
      "Mean Squared Error: 1.4314458148148148\n"
     ]
    }
   ],
   "source": [
    "\n",
    "X = usDf[0:384].values\n",
    "y = usDf[384:396].values\n",
    "x_features = X[:,2:8]\n",
    "x_target = X[:,8]\n",
    "y_features = y[:,2:8]\n",
    "y_target = y[:,8]\n",
    "    \n",
    "    \n",
    "neigh = KNeighborsRegressor(n_neighbors=3)\n",
    "neigh.fit(x_features,x_target)\n",
    "prediction = neigh.predict(y_features)\n",
    "    \n",
    "plt.plot(y_features[:,0],prediction,label = \"Predicted\")\n",
    "plt.plot(y_features[:,0],y_target,label=\"Actual\")\n",
    "plt.legend(loc = \"upper left\")\n",
    "plt.xlabel(\"Month\")\n",
    "plt.ylabel(\"Unemployment Rate\")\n",
    "plt.ylim(0,32)\n",
    "plt.title(\"Enitre USA\",fontsize = 16, fontweight= \"bold\")\n",
    "plt.text(7,30,\"Mean Squared Error: \" + str(round(mean_squared_error(prediction,y_target),3)),fontsize=10)\n",
    "plt.savefig(\"USA Graph H1N1\")\n",
    "\n",
    "plt.show()\n",
    "print(\"Mean Squared Error: \" + str(mean_squared_error(prediction,y_target)))\n",
    "    \n"
   ]
  },
  {
   "cell_type": "code",
   "execution_count": null,
   "metadata": {},
   "outputs": [],
   "source": []
  }
 ],
 "metadata": {
  "extensions": {
   "jupyter_dashboards": {
    "activeView": "grid_default",
    "version": 1,
    "views": {
     "grid_default": {
      "cellMargin": 10,
      "defaultCellHeight": 20,
      "maxColumns": 12,
      "name": "grid",
      "type": "grid"
     },
     "report_default": {
      "name": "report",
      "type": "report"
     }
    }
   }
  },
  "kernelspec": {
   "display_name": "Python 3",
   "language": "python",
   "name": "python3"
  },
  "language_info": {
   "codemirror_mode": {
    "name": "ipython",
    "version": 3
   },
   "file_extension": ".py",
   "mimetype": "text/x-python",
   "name": "python",
   "nbconvert_exporter": "python",
   "pygments_lexer": "ipython3",
   "version": "3.6.12"
  },
  "widgets": {
   "application/vnd.jupyter.widget-state+json": {
    "state": {
     "003ca46184da4f568ae0f6ec2d8634a3": {
      "model_module": "@jupyter-widgets/controls",
      "model_module_version": "1.5.0",
      "model_name": "DropdownModel",
      "state": {
       "_options_labels": [
        "Alabama",
        "Alaska",
        "Arizona",
        "Arkansas",
        "California",
        "Colorado",
        "Connecticut",
        "Delaware",
        "Florida",
        "Georgia",
        "Hawaii",
        "Idaho",
        "Illinois",
        "Indiana",
        "Iowa",
        "Kansas",
        "Kentucky",
        "Louisiana",
        "Maine",
        "Maryland",
        "Massachusetts",
        "Michigan",
        "Minnesota",
        "Mississippi",
        "Missouri",
        "Montana",
        "Nebraska",
        "Nevada",
        "New Hampshire",
        "New Jersey",
        "New Mexico",
        "New York",
        "North Carolina",
        "North Dakota",
        "Ohio",
        "Oklahoma",
        "Oregon",
        "Pennsylvania",
        "Rhode Island",
        "South Carolina",
        "South Dakota",
        "Tennessee",
        "Texas",
        "Utah",
        "Vermont",
        "Virginia",
        "Washington",
        "West Virginia",
        "Wisconsin",
        "Wyoming"
       ],
       "description": "state",
       "index": 5,
       "layout": "IPY_MODEL_e31e620047d443a689fcfc49358f92c1",
       "style": "IPY_MODEL_05f69be2dad04ff4b00f9e181693da11"
      }
     },
     "0154bcc88ddf4d1cad554a6123026e86": {
      "model_module": "@jupyter-widgets/base",
      "model_module_version": "1.2.0",
      "model_name": "LayoutModel",
      "state": {}
     },
     "0176541aac804d6f94d0f92df70022e3": {
      "model_module": "@jupyter-widgets/controls",
      "model_module_version": "1.5.0",
      "model_name": "VBoxModel",
      "state": {
       "_dom_classes": [
        "widget-interact"
       ],
       "children": [
        "IPY_MODEL_76b38bc8d08e4a2fb598072a39383775",
        "IPY_MODEL_5d9506febef441f884c6912990d0eebb"
       ],
       "layout": "IPY_MODEL_4f9f4105d1f44a298e952de79819917a"
      }
     },
     "018c7a1cfa6d42c2a95d082312bb7838": {
      "model_module": "@jupyter-widgets/base",
      "model_module_version": "1.2.0",
      "model_name": "LayoutModel",
      "state": {}
     },
     "02426d14d2ff48358071074ed25051ba": {
      "model_module": "@jupyter-widgets/controls",
      "model_module_version": "1.5.0",
      "model_name": "DropdownModel",
      "state": {
       "_options_labels": [
        "Alabama",
        "Alaska",
        "Arizona",
        "Arkansas",
        "California",
        "Colorado",
        "Connecticut",
        "Delaware",
        "Florida",
        "Georgia",
        "Hawaii",
        "Idaho",
        "Illinois",
        "Indiana",
        "Iowa",
        "Kansas",
        "Kentucky",
        "Louisiana",
        "Maine",
        "Maryland",
        "Massachusetts",
        "Michigan",
        "Minnesota",
        "Mississippi",
        "Missouri",
        "Montana",
        "Nebraska",
        "Nevada",
        "New Hampshire",
        "New Jersey",
        "New Mexico",
        "New York",
        "North Carolina",
        "North Dakota",
        "Ohio",
        "Oklahoma",
        "Oregon",
        "Pennsylvania",
        "Rhode Island",
        "South Carolina",
        "South Dakota",
        "Tennessee",
        "Texas",
        "Utah",
        "Vermont",
        "Virginia",
        "Washington",
        "West Virginia",
        "Wisconsin",
        "Wyoming"
       ],
       "description": "state",
       "index": 8,
       "layout": "IPY_MODEL_a8bf5f7a83684ce59b5ad0dd791b4eba",
       "style": "IPY_MODEL_d214d8a3a62b48c2ace86d4f85b76584"
      }
     },
     "02709b8fcdba41be97fe82fdd8ca1b64": {
      "model_module": "@jupyter-widgets/base",
      "model_module_version": "1.2.0",
      "model_name": "LayoutModel",
      "state": {}
     },
     "0579eb9226434336929450fe87533ae7": {
      "model_module": "@jupyter-widgets/controls",
      "model_module_version": "1.5.0",
      "model_name": "SliderStyleModel",
      "state": {
       "description_width": ""
      }
     },
     "05f69be2dad04ff4b00f9e181693da11": {
      "model_module": "@jupyter-widgets/controls",
      "model_module_version": "1.5.0",
      "model_name": "DescriptionStyleModel",
      "state": {
       "description_width": ""
      }
     },
     "069216dc399a4cb0a9bcf581f2dbe933": {
      "model_module": "@jupyter-widgets/base",
      "model_module_version": "1.2.0",
      "model_name": "LayoutModel",
      "state": {}
     },
     "0886e516163e47e299f70d6590a74988": {
      "model_module": "@jupyter-widgets/controls",
      "model_module_version": "1.5.0",
      "model_name": "DescriptionStyleModel",
      "state": {
       "description_width": ""
      }
     },
     "09de10b7c7ed429ab4c3a7387b2e056f": {
      "model_module": "@jupyter-widgets/controls",
      "model_module_version": "1.5.0",
      "model_name": "VBoxModel",
      "state": {
       "_dom_classes": [
        "widget-interact"
       ],
       "children": [
        "IPY_MODEL_56f3e2a8052342658fb323b41ae3913b",
        "IPY_MODEL_43e46a34428a475cb1b9ae1a18e5a193"
       ],
       "layout": "IPY_MODEL_8b9da15cd3694ab68abcc5f18c7d63c6"
      }
     },
     "128075bd2c954f96921823cfd955c212": {
      "model_module": "@jupyter-widgets/controls",
      "model_module_version": "1.5.0",
      "model_name": "DescriptionStyleModel",
      "state": {
       "description_width": ""
      }
     },
     "13e8c609dcad414cb13564dfd0498f46": {
      "model_module": "@jupyter-widgets/base",
      "model_module_version": "1.2.0",
      "model_name": "LayoutModel",
      "state": {}
     },
     "161c2a073871459c93f2dd497ba129bc": {
      "model_module": "@jupyter-widgets/base",
      "model_module_version": "1.2.0",
      "model_name": "LayoutModel",
      "state": {}
     },
     "19c8b1efc18c4584b1f77b082d034317": {
      "model_module": "@jupyter-widgets/output",
      "model_module_version": "1.0.0",
      "model_name": "OutputModel",
      "state": {
       "layout": "IPY_MODEL_b3cbf0978cc94d28955175208ee2ced1",
       "outputs": [
        {
         "data": {
          "image/png": "iVBORw0KGgoAAAANSUhEUgAAAYIAAAEWCAYAAABrDZDcAAAABHNCSVQICAgIfAhkiAAAAAlwSFlz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\nRK5CYII=\n",
          "text/plain": "<matplotlib.figure.Figure at 0x1a1ccf3ba8>"
         },
         "metadata": {},
         "output_type": "display_data"
        },
        {
         "data": {
          "text/plain": "(array([4.4, 4.4, 4.7, 10.2, 10.2, 10.2, 8.4, 7.2], dtype=object),\n array([4.3, 4.3, 5.8, 16.2, 16.0, 15.1, 13.9, 11.6], dtype=object))"
         },
         "metadata": {},
         "output_type": "display_data"
        }
       ]
      }
     },
     "1add5825c51b40e797cc45743be5e749": {
      "model_module": "@jupyter-widgets/controls",
      "model_module_version": "1.5.0",
      "model_name": "DescriptionStyleModel",
      "state": {
       "description_width": ""
      }
     },
     "1ca22adcfacf404ca25be046d2d8e584": {
      "model_module": "@jupyter-widgets/controls",
      "model_module_version": "1.5.0",
      "model_name": "VBoxModel",
      "state": {
       "_dom_classes": [
        "widget-interact"
       ],
       "children": [
        "IPY_MODEL_d1f40bde37fa44d49f98186be2395664",
        "IPY_MODEL_3b59da3fe8e448b1b6e13872d67d5842"
       ],
       "layout": "IPY_MODEL_329afec17ce64a49a306971237932e52"
      }
     },
     "1e3e0646e59c4d87b6d31068de5a5769": {
      "model_module": "@jupyter-widgets/base",
      "model_module_version": "1.2.0",
      "model_name": "LayoutModel",
      "state": {}
     },
     "1ea43d78bc7c4ed6ba3403fa884746cd": {
      "model_module": "@jupyter-widgets/base",
      "model_module_version": "1.2.0",
      "model_name": "LayoutModel",
      "state": {}
     },
     "2747a57ba1254358ad19dc0c959fcee8": {
      "model_module": "@jupyter-widgets/base",
      "model_module_version": "1.2.0",
      "model_name": "LayoutModel",
      "state": {}
     },
     "2cf528f9d9d948438baf89c2fc144d27": {
      "model_module": "@jupyter-widgets/base",
      "model_module_version": "1.2.0",
      "model_name": "LayoutModel",
      "state": {}
     },
     "2d9d5916287741e19a70122deb4c9f22": {
      "model_module": "@jupyter-widgets/controls",
      "model_module_version": "1.5.0",
      "model_name": "VBoxModel",
      "state": {
       "_dom_classes": [
        "widget-interact"
       ],
       "children": [
        "IPY_MODEL_dfae5080058c44058a2d47eaf5729de5",
        "IPY_MODEL_f968d1d6cfd54347bd6393188b694f44"
       ],
       "layout": "IPY_MODEL_89647c360b6242a9b515c90104e37fb4"
      }
     },
     "2e3b9ce35378472db6bf487efab53a90": {
      "model_module": "@jupyter-widgets/base",
      "model_module_version": "1.2.0",
      "model_name": "LayoutModel",
      "state": {}
     },
     "2fac14a402e04663b5417f547e121f79": {
      "model_module": "@jupyter-widgets/base",
      "model_module_version": "1.2.0",
      "model_name": "LayoutModel",
      "state": {}
     },
     "32848ac527594e52b5a86daa2bac9174": {
      "model_module": "@jupyter-widgets/controls",
      "model_module_version": "1.5.0",
      "model_name": "DropdownModel",
      "state": {
       "_options_labels": [
        "Alabama",
        "Alaska",
        "Arizona",
        "Arkansas",
        "California",
        "Colorado",
        "Connecticut",
        "Delaware",
        "Florida",
        "Georgia",
        "Hawaii",
        "Idaho",
        "Illinois",
        "Indiana",
        "Iowa",
        "Kansas",
        "Kentucky",
        "Louisiana",
        "Maine",
        "Maryland",
        "Massachusetts",
        "Michigan",
        "Minnesota",
        "Mississippi",
        "Missouri",
        "Montana",
        "Nebraska",
        "Nevada",
        "New Hampshire",
        "New Jersey",
        "New Mexico",
        "New York",
        "North Carolina",
        "North Dakota",
        "Ohio",
        "Oklahoma",
        "Oregon",
        "Pennsylvania",
        "Rhode Island",
        "South Carolina",
        "South Dakota",
        "Tennessee",
        "Texas",
        "Utah",
        "Vermont",
        "Virginia",
        "Washington",
        "West Virginia",
        "Wisconsin",
        "Wyoming"
       ],
       "description": "state",
       "index": 4,
       "layout": "IPY_MODEL_47eafb146c7c4286abbee54023e16a8e",
       "style": "IPY_MODEL_4d4b076b98624bc789381e47128b9cc2"
      }
     },
     "329afec17ce64a49a306971237932e52": {
      "model_module": "@jupyter-widgets/base",
      "model_module_version": "1.2.0",
      "model_name": "LayoutModel",
      "state": {}
     },
     "3630f5f06d864a59a39d53f6c95dd9ad": {
      "model_module": "@jupyter-widgets/base",
      "model_module_version": "1.2.0",
      "model_name": "LayoutModel",
      "state": {}
     },
     "371cd73211a64731ac33ffd6dd1dc329": {
      "model_module": "@jupyter-widgets/base",
      "model_module_version": "1.2.0",
      "model_name": "LayoutModel",
      "state": {}
     },
     "3b59da3fe8e448b1b6e13872d67d5842": {
      "model_module": "@jupyter-widgets/output",
      "model_module_version": "1.0.0",
      "model_name": "OutputModel",
      "state": {
       "layout": "IPY_MODEL_792786346eb343b1b7790bd278ecfb5b",
       "outputs": [
        {
         "data": {
          "image/png": "iVBORw0KGgoAAAANSUhEUgAAAYIAAAEWCAYAAABrDZDcAAAABHNCSVQICAgIfAhkiAAAAAlwSFlz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\nPHuHWuMAAAAASUVORK5CYII=\n",
          "text/plain": "<matplotlib.figure.Figure at 0x1a1cc1d4a8>"
         },
         "metadata": {},
         "output_type": "display_data"
        },
        {
         "name": "stdout",
         "output_type": "stream",
         "text": "\n"
        },
        {
         "data": {
          "text/plain": "'Mean Squared Error: 3.797500000000001'"
         },
         "metadata": {},
         "output_type": "display_data"
        }
       ]
      }
     },
     "3b6bf362ef5c44e1895d8062d9b6ada2": {
      "model_module": "@jupyter-widgets/base",
      "model_module_version": "1.2.0",
      "model_name": "LayoutModel",
      "state": {}
     },
     "3ecb4a723e174b7bafa42350aa3dd322": {
      "model_module": "@jupyter-widgets/base",
      "model_module_version": "1.2.0",
      "model_name": "LayoutModel",
      "state": {}
     },
     "3fdba4dfd2784f7dbb4d4470cf2fdd16": {
      "model_module": "@jupyter-widgets/base",
      "model_module_version": "1.2.0",
      "model_name": "LayoutModel",
      "state": {}
     },
     "418d7af4500d464c9e12c68805c52cdb": {
      "model_module": "@jupyter-widgets/controls",
      "model_module_version": "1.5.0",
      "model_name": "DescriptionStyleModel",
      "state": {
       "description_width": ""
      }
     },
     "41a633fecb314238880a0a0951ba23dd": {
      "model_module": "@jupyter-widgets/controls",
      "model_module_version": "1.5.0",
      "model_name": "DropdownModel",
      "state": {
       "_options_labels": [
        "Alabama",
        "Alaska",
        "Arizona",
        "Arkansas",
        "California",
        "Colorado",
        "Connecticut",
        "Delaware",
        "Florida",
        "Georgia",
        "Hawaii",
        "Idaho",
        "Illinois",
        "Indiana",
        "Iowa",
        "Kansas",
        "Kentucky",
        "Louisiana",
        "Maine",
        "Maryland",
        "Massachusetts",
        "Michigan",
        "Minnesota",
        "Mississippi",
        "Missouri",
        "Montana",
        "Nebraska",
        "Nevada",
        "New Hampshire",
        "New Jersey",
        "New Mexico",
        "New York",
        "North Carolina",
        "North Dakota",
        "Ohio",
        "Oklahoma",
        "Oregon",
        "Pennsylvania",
        "Rhode Island",
        "South Carolina",
        "South Dakota",
        "Tennessee",
        "Texas",
        "Utah",
        "Vermont",
        "Virginia",
        "Washington",
        "West Virginia",
        "Wisconsin",
        "Wyoming"
       ],
       "description": "state",
       "index": 0,
       "layout": "IPY_MODEL_2747a57ba1254358ad19dc0c959fcee8",
       "style": "IPY_MODEL_63233535c02246febc07093086649646"
      }
     },
     "43e46a34428a475cb1b9ae1a18e5a193": {
      "model_module": "@jupyter-widgets/output",
      "model_module_version": "1.0.0",
      "model_name": "OutputModel",
      "state": {
       "layout": "IPY_MODEL_161c2a073871459c93f2dd497ba129bc",
       "outputs": [
        {
         "data": {
          "image/png": "iVBORw0KGgoAAAANSUhEUgAAAYIAAAEWCAYAAABrDZDcAAAABHNCSVQICAgIfAhkiAAAAAlwSFlz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\nzKzinAjMzCrOicDMrOJ+AqBuYcsdA4hxAAAAAElFTkSuQmCC\n",
          "text/plain": "<matplotlib.figure.Figure at 0x1a1cc69668>"
         },
         "metadata": {},
         "output_type": "display_data"
        },
        {
         "name": "stdout",
         "output_type": "stream",
         "text": "\n"
        },
        {
         "ename": "TypeError",
         "evalue": "must be str, not numpy.float64",
         "output_type": "error",
         "traceback": [
          "\u001b[0;31m---------------------------------------------------------------------------\u001b[0m",
          "\u001b[0;31mTypeError\u001b[0m                                 Traceback (most recent call last)",
          "\u001b[0;32m~/anaconda3/lib/python3.6/site-packages/ipywidgets/widgets/interaction.py\u001b[0m in \u001b[0;36mupdate\u001b[0;34m(self, *args)\u001b[0m\n\u001b[1;32m    248\u001b[0m                     \u001b[0mvalue\u001b[0m \u001b[0;34m=\u001b[0m \u001b[0mwidget\u001b[0m\u001b[0;34m.\u001b[0m\u001b[0mget_interact_value\u001b[0m\u001b[0;34m(\u001b[0m\u001b[0;34m)\u001b[0m\u001b[0;34m\u001b[0m\u001b[0m\n\u001b[1;32m    249\u001b[0m                     \u001b[0mself\u001b[0m\u001b[0;34m.\u001b[0m\u001b[0mkwargs\u001b[0m\u001b[0;34m[\u001b[0m\u001b[0mwidget\u001b[0m\u001b[0;34m.\u001b[0m\u001b[0m_kwarg\u001b[0m\u001b[0;34m]\u001b[0m \u001b[0;34m=\u001b[0m \u001b[0mvalue\u001b[0m\u001b[0;34m\u001b[0m\u001b[0m\n\u001b[0;32m--> 250\u001b[0;31m                 \u001b[0mself\u001b[0m\u001b[0;34m.\u001b[0m\u001b[0mresult\u001b[0m \u001b[0;34m=\u001b[0m \u001b[0mself\u001b[0m\u001b[0;34m.\u001b[0m\u001b[0mf\u001b[0m\u001b[0;34m(\u001b[0m\u001b[0;34m**\u001b[0m\u001b[0mself\u001b[0m\u001b[0;34m.\u001b[0m\u001b[0mkwargs\u001b[0m\u001b[0;34m)\u001b[0m\u001b[0;34m\u001b[0m\u001b[0m\n\u001b[0m\u001b[1;32m    251\u001b[0m                 \u001b[0mshow_inline_matplotlib_plots\u001b[0m\u001b[0;34m(\u001b[0m\u001b[0;34m)\u001b[0m\u001b[0;34m\u001b[0m\u001b[0m\n\u001b[1;32m    252\u001b[0m                 \u001b[0;32mif\u001b[0m \u001b[0mself\u001b[0m\u001b[0;34m.\u001b[0m\u001b[0mauto_display\u001b[0m \u001b[0;32mand\u001b[0m \u001b[0mself\u001b[0m\u001b[0;34m.\u001b[0m\u001b[0mresult\u001b[0m \u001b[0;32mis\u001b[0m \u001b[0;32mnot\u001b[0m \u001b[0;32mNone\u001b[0m\u001b[0;34m:\u001b[0m\u001b[0;34m\u001b[0m\u001b[0m\n",
          "\u001b[0;32m<ipython-input-16-494e72752319>\u001b[0m in \u001b[0;36mgraph_2020impact\u001b[0;34m(state)\u001b[0m\n\u001b[1;32m     19\u001b[0m     \u001b[0mplt\u001b[0m\u001b[0;34m.\u001b[0m\u001b[0mshow\u001b[0m\u001b[0;34m(\u001b[0m\u001b[0;34m)\u001b[0m\u001b[0;34m\u001b[0m\u001b[0m\n\u001b[1;32m     20\u001b[0m     \u001b[0mprint\u001b[0m\u001b[0;34m(\u001b[0m\u001b[0;34m)\u001b[0m\u001b[0;34m\u001b[0m\u001b[0m\n\u001b[0;32m---> 21\u001b[0;31m     \u001b[0;32mreturn\u001b[0m \u001b[0;34m\"Mean Squared Error\"\u001b[0m \u001b[0;34m+\u001b[0m \u001b[0mmean_squared_error\u001b[0m\u001b[0;34m(\u001b[0m\u001b[0mprediction\u001b[0m\u001b[0;34m,\u001b[0m\u001b[0my_target\u001b[0m\u001b[0;34m)\u001b[0m\u001b[0;34m\u001b[0m\u001b[0m\n\u001b[0m\u001b[1;32m     22\u001b[0m \u001b[0;34m\u001b[0m\u001b[0m\n\u001b[1;32m     23\u001b[0m \u001b[0;34m\u001b[0m\u001b[0m\n",
          "\u001b[0;31mTypeError\u001b[0m: must be str, not numpy.float64"
         ]
        }
       ]
      }
     },
     "47eafb146c7c4286abbee54023e16a8e": {
      "model_module": "@jupyter-widgets/base",
      "model_module_version": "1.2.0",
      "model_name": "LayoutModel",
      "state": {}
     },
     "49c7a15c590b44259442ab3d84a559a4": {
      "model_module": "@jupyter-widgets/controls",
      "model_module_version": "1.5.0",
      "model_name": "VBoxModel",
      "state": {
       "_dom_classes": [
        "widget-interact"
       ],
       "children": [
        "IPY_MODEL_c96f13035d444bdc9fdeab70779a5a68",
        "IPY_MODEL_4c813711b5f747da83ad59836e6d640a"
       ],
       "layout": "IPY_MODEL_a5c3d37a09384cb0ab11e0e79498a3c8"
      }
     },
     "4a0a2abb5dbc4fbe9d905c0b4eff64d4": {
      "model_module": "@jupyter-widgets/base",
      "model_module_version": "1.2.0",
      "model_name": "LayoutModel",
      "state": {}
     },
     "4adf05f16dbf4d63b4fd53ba6397d58e": {
      "model_module": "@jupyter-widgets/base",
      "model_module_version": "1.2.0",
      "model_name": "LayoutModel",
      "state": {}
     },
     "4c813711b5f747da83ad59836e6d640a": {
      "model_module": "@jupyter-widgets/output",
      "model_module_version": "1.0.0",
      "model_name": "OutputModel",
      "state": {
       "layout": "IPY_MODEL_54dc20f7b9a04b69829f57d3293e4d10",
       "outputs": [
        {
         "data": {
          "image/png": "iVBORw0KGgoAAAANSUhEUgAAAYIAAAEWCAYAAABrDZDcAAAABHNCSVQICAgIfAhkiAAAAAlwSFlz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\nzKzinAjMzCrOicDMrOJ+AqBuYcsdA4hxAAAAAElFTkSuQmCC\n",
          "text/plain": "<matplotlib.figure.Figure at 0x116fa4438>"
         },
         "metadata": {},
         "output_type": "display_data"
        },
        {
         "name": "stdout",
         "output_type": "stream",
         "text": "\n"
        },
        {
         "data": {
          "text/plain": "'Mean Squared Error: 3.0349999999999984'"
         },
         "metadata": {},
         "output_type": "display_data"
        }
       ]
      }
     },
     "4d4b076b98624bc789381e47128b9cc2": {
      "model_module": "@jupyter-widgets/controls",
      "model_module_version": "1.5.0",
      "model_name": "DescriptionStyleModel",
      "state": {
       "description_width": ""
      }
     },
     "4f9f4105d1f44a298e952de79819917a": {
      "model_module": "@jupyter-widgets/base",
      "model_module_version": "1.2.0",
      "model_name": "LayoutModel",
      "state": {}
     },
     "50e51cbfd35d4ebcb4ab3ee965dacc1d": {
      "model_module": "@jupyter-widgets/controls",
      "model_module_version": "1.5.0",
      "model_name": "VBoxModel",
      "state": {
       "_dom_classes": [
        "widget-interact"
       ],
       "children": [
        "IPY_MODEL_32848ac527594e52b5a86daa2bac9174",
        "IPY_MODEL_541014763c394fa689dad5d98b21f20c"
       ],
       "layout": "IPY_MODEL_ad9dea3ec3ff42f5a8563f20c5698786"
      }
     },
     "52993e8346fe47d3812ac91ea3436178": {
      "model_module": "@jupyter-widgets/base",
      "model_module_version": "1.2.0",
      "model_name": "LayoutModel",
      "state": {}
     },
     "541014763c394fa689dad5d98b21f20c": {
      "model_module": "@jupyter-widgets/output",
      "model_module_version": "1.0.0",
      "model_name": "OutputModel",
      "state": {
       "layout": "IPY_MODEL_b0d2a8909cb743a3aa74c6c5e1868292",
       "outputs": [
        {
         "data": {
          "image/png": "iVBORw0KGgoAAAANSUhEUgAAAYIAAAEWCAYAAABrDZDcAAAABHNCSVQICAgIfAhkiAAAAAlwSFlz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\nRK5CYII=\n",
          "text/plain": "<matplotlib.figure.Figure at 0x1a1ccb95f8>"
         },
         "metadata": {},
         "output_type": "display_data"
        },
        {
         "name": "stdout",
         "output_type": "stream",
         "text": "\n"
        },
        {
         "data": {
          "text/plain": "'Mean Squared Error: 18.06125'"
         },
         "metadata": {},
         "output_type": "display_data"
        }
       ]
      }
     },
     "5422a8694d6c4895be43e5ba1237a7ce": {
      "model_module": "@jupyter-widgets/output",
      "model_module_version": "1.0.0",
      "model_name": "OutputModel",
      "state": {
       "layout": "IPY_MODEL_02709b8fcdba41be97fe82fdd8ca1b64",
       "outputs": [
        {
         "data": {
          "image/png": "iVBORw0KGgoAAAANSUhEUgAAAYIAAAEWCAYAAABrDZDcAAAABHNCSVQICAgIfAhkiAAAAAlwSFlz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\nzKzinAjMzCrOicDMrOJ+AqBuYcsdA4hxAAAAAElFTkSuQmCC\n",
          "text/plain": "<matplotlib.figure.Figure at 0x1a1d95b208>"
         },
         "metadata": {},
         "output_type": "display_data"
        },
        {
         "name": "stdout",
         "output_type": "stream",
         "text": "\n"
        },
        {
         "data": {
          "text/plain": "3.0349999999999984"
         },
         "metadata": {},
         "output_type": "display_data"
        }
       ]
      }
     },
     "54dc20f7b9a04b69829f57d3293e4d10": {
      "model_module": "@jupyter-widgets/base",
      "model_module_version": "1.2.0",
      "model_name": "LayoutModel",
      "state": {}
     },
     "56f3e2a8052342658fb323b41ae3913b": {
      "model_module": "@jupyter-widgets/controls",
      "model_module_version": "1.5.0",
      "model_name": "DropdownModel",
      "state": {
       "_options_labels": [
        "Alabama",
        "Alaska",
        "Arizona",
        "Arkansas",
        "California",
        "Colorado",
        "Connecticut",
        "Delaware",
        "Florida",
        "Georgia",
        "Hawaii",
        "Idaho",
        "Illinois",
        "Indiana",
        "Iowa",
        "Kansas",
        "Kentucky",
        "Louisiana",
        "Maine",
        "Maryland",
        "Massachusetts",
        "Michigan",
        "Minnesota",
        "Mississippi",
        "Missouri",
        "Montana",
        "Nebraska",
        "Nevada",
        "New Hampshire",
        "New Jersey",
        "New Mexico",
        "New York",
        "North Carolina",
        "North Dakota",
        "Ohio",
        "Oklahoma",
        "Oregon",
        "Pennsylvania",
        "Rhode Island",
        "South Carolina",
        "South Dakota",
        "Tennessee",
        "Texas",
        "Utah",
        "Vermont",
        "Virginia",
        "Washington",
        "West Virginia",
        "Wisconsin",
        "Wyoming"
       ],
       "description": "state",
       "index": 0,
       "layout": "IPY_MODEL_3b6bf362ef5c44e1895d8062d9b6ada2",
       "style": "IPY_MODEL_8266076426ce48fba22c01a5a58b4f22"
      }
     },
     "5d9506febef441f884c6912990d0eebb": {
      "model_module": "@jupyter-widgets/output",
      "model_module_version": "1.0.0",
      "model_name": "OutputModel",
      "state": {
       "layout": "IPY_MODEL_4adf05f16dbf4d63b4fd53ba6397d58e",
       "outputs": [
        {
         "data": {
          "image/png": "iVBORw0KGgoAAAANSUhEUgAAAYIAAAEWCAYAAABrDZDcAAAABHNCSVQICAgIfAhkiAAAAAlwSFlz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\nzKzinAjMzCrOicDMrOJ+AqBuYcsdA4hxAAAAAElFTkSuQmCC\n",
          "text/plain": "<matplotlib.figure.Figure at 0x1a1cf31400>"
         },
         "metadata": {},
         "output_type": "display_data"
        },
        {
         "name": "stdout",
         "output_type": "stream",
         "text": "\n"
        },
        {
         "data": {
          "text/plain": "'Mean Squared Error: 3.0349999999999984'"
         },
         "metadata": {},
         "output_type": "display_data"
        }
       ]
      }
     },
     "63233535c02246febc07093086649646": {
      "model_module": "@jupyter-widgets/controls",
      "model_module_version": "1.5.0",
      "model_name": "DescriptionStyleModel",
      "state": {
       "description_width": ""
      }
     },
     "6912f93bc3ef4bab8b8fe0b942c973e5": {
      "model_module": "@jupyter-widgets/base",
      "model_module_version": "1.2.0",
      "model_name": "LayoutModel",
      "state": {}
     },
     "699d586d230f47008a4eaf236b804103": {
      "model_module": "@jupyter-widgets/output",
      "model_module_version": "1.0.0",
      "model_name": "OutputModel",
      "state": {
       "layout": "IPY_MODEL_2fac14a402e04663b5417f547e121f79",
       "outputs": [
        {
         "data": {
          "image/png": "iVBORw0KGgoAAAANSUhEUgAAAYIAAAEWCAYAAABrDZDcAAAABHNCSVQICAgIfAhkiAAAAAlwSFlz\nAAALEgAACxIB0t1+/AAAADl0RVh0U29mdHdhcmUAbWF0cGxvdGxpYiB2ZXJzaW9uIDIuMS4wLCBo\ndHRwOi8vbWF0cGxvdGxpYi5vcmcvpW3flQAAIABJREFUeJzt3XeYVPX1+PH32cayu7SFBekLUpXu\nqiCgqKAIigUV7C2WGLvRoDFfNdH8bDGaRGNIRCyIDVFYhCBiiRVpKrhLkw5Slt63nN8fnwsM65bZ\nMnunnNfzzLMzc+/ce3bmzj1zP1VUFWOMMbErzu8AjDHG+MsSgTHGxDhLBMYYE+MsERhjTIyzRGCM\nMTHOEoExxsQ4SwRRRETOF5HVIrJLRHrW4H77i8iiMpaPFZFHSll2mYhMD110pRORFSIysIb29ZCI\nvFYT+/KTiKiItPM7DlMxMZsIavIkEKxq+BI9BdyiqmmqOq+E7YuI3CYiC0Rkt4isEZG3RaRrFfaJ\nqv5PVTtW8rXjVPWMyu5bRDp4/8NmEdkuIt+LyF0iEl/ZbYYTEcn0jouEYs+XmlxN8IJJ0N65Yq/3\nA+tn771PC3L7JX5+4SZmE0GUag0sLGP5s8DtwG1AOtABeA8YGvrQqp+IHA18A6wGuqpqPeAiIAuo\nE8L9hvWX2oTEOaqaBvQAegL3+RxP9VLVmLwBK4CB3v2rgS+AvwLbgJ+Ak7znVwMbgasCXjsWeAH4\nENgJfAq0Dlj+rPe6HcAcoH/AsnjgfmCZ99o5QEvgM0CB3cAuYEQJMccBDwArvZheAeoBtbzXHHz9\nshJe2x4oBE4o4z2p521zk7ePB7x91vLely4B62YAe4HGwABgTcCynsBc7/97E3gDeKSUfV4NfB7w\nWIGbgCXAVuA5QEp57WvAlHI+52G45LgN+AToXMoxUAt4Bljn3Z4BannLBgBrgN8BPwOvAg2AbO+9\n2urdbxGw7TbecbHTO07+AbwWTFzF4s/03pOEYs+PPfieHnwPcVeEW4HlwFnFPtcXgfXAWuARID5E\nx74C7YI4nrbgkvfB1zXGHU8ZAe/3vd7+1wPnAUOAxd5r7y/2vRiF+07lAW8B6cXev6uAVcBm4Pfe\nssHAASAf9/35rrxzhff4CQKOO9wPqXm47/tq4KGAZau8/e/ybn28568FcrzP67+B76Ev50M/d+7r\nP/7LRFAAXIM7UT/ifYDPeQftGd5BnxbwZdgJnOwtf5YjT2aXAw2BBOBu3Mkj2Vt2D/AD0BEQoDvQ\nsPiXqJSYrwWWAm2BNOBd4NWSvoQlvPYmYGU578krwPu4X9OZ3pfuOm/ZGODRgHV/A0zz7g/ASwRA\nEu5LfyeQCFzofdEqkgiygfpAK9xJZHApr/0ZuKaM/6cDLjEO8mK513v/kko4Bv4IfI07IWUAXwJ/\nCvj/CoDHvc+7tvf5DgdSvPfrbeC9gH1/BTztrX+yd7y8Fkxcxf6HTIJLBPnA9bjj99e4ZCbe8veA\nfwGp3v83C7gxRMd+YCIo63h6Hng84HW3A5OLvd//570/13vHweveto4F9gFtvfXv8D67Fl5M/wLG\nF3v//u19bt2B/XiJF3iIgAQdxLmiBe77+2zA8gFAV1xC6gZsAM4r7fPDJbWlQGfcOeIB4Etfz4d+\n7tzXf/yXiWBJwLKu3ofXJOC5PKBHwJfhjYBlabhf2y1L2ddWoLt3fxFwbinrlZcIPgJuDnjcEXcC\nSCjv9cDvga/L2Ha89wU5JuC5G4FPvPsDgZ8Cln0BXOndH8DhRHAyASch77kvqVgi6Bfw+C1gVCmv\nzaeUJOEt/wPwVsDjONwv4gElHAPLgCEB654JrAj4/w7gJfNS9tUD2Ordb4U7kaUGLH+dw4mgzLiK\nbTeT4BLB0oBlKd5rjgKaeJ9r7YDllwAfh+LYP3gMBnE8nYj79RznPZ4NXBzwfu/l8FVLHW+7JwZs\naw6HT7Y5wOkBy5p6x0ZCwPsXeLU2Cxjp3X+I4BLBLlwCVNz3sH4Z6z8D/LW0zw+YipcQAz7/Pfh4\nVWB1BIdtCLi/F0BViz8XWEG0+uAdVd2Fu1xtBiAid4tIjld5uQ13idzIW70l7qRTGc1wv7YPWok7\n2JsE8do83BekNI04/Gs+cPvNvfszgdoicqKItMad+CaWEuNa9Y7wgO1UxM8B9/dw5PseqLz/6Yj3\nS1WLcJ9b8/LW9e43C3i8SVX3HXwgIiki8i8RWSkiO3BFe/W9SupmuKSwu9j2KhNXgfc3sdjzibiT\n3UGH3jNV3ePdTcPVGyUC60Vkm3c8/gt3ZXBQtR37Aco8nlT1G9xV0Ski0gmXPCYFrJunqoWBMZUQ\n58GYWgMTA/6/HFxyCvxeBHtMleY8Va2DS1KdOPx9xvtOfCwim0RkO+7qu1HJmzkU77MB8W7BlQ6U\n9PnXCEsEldfy4B2vBUE6sE5E+uPKki8GGqhqfWA77oMG9yU6upL7XIc7iA46+MtzQ8mrH+EjoIWI\nZJWyfDPuxFJ8+2vh0MnqLdyvyUuBbFXdWcJ21gPNRUQCnmsVRHyVMQNXPFOaI94vL6aWeP9TWevi\nYl4X8FiPXJ27cVdkJ6pqXdyVELjPeT3QQERSi22vMnGtx30umcWeb0NwCXY17pd5I1Wt793qquqx\nQby2NCUe+8XWKfN48ryMK0a9AngnMNFW0GpcnUj9gFuyqpb0fhZX/HMte2XVT3FXRU8FPP06Lom1\nVNdg4QUOf99L2v5qXNFcYLy1VfXLisRSnSwRVN4QEeknIknAn4BvVHU17jK2AFemmSAi/wfUDXjd\nf4A/iUh7rzlnNxFp6C3bgCv/L8144E4RaeN9Af8MvKmqBWW8BgBVXYIrlx0vIgNEJElEkkVkpIiM\n8n59vQU8KiJ1vF/9d+EqZA96HRgBXObdL8lX3v9/m4gkiMgFwAnlxVdJDwIniciTInIUgIi0E5HX\nRKS+9/8MFZHTRSQRd/LejyuqKm488ICIZIhII1z5dFnNCuvgfpVuE5F0LxYAVHUlrqjjYe997gec\nE/DaoOPyPpcJuM+loYgkisglwDG4IoYyqep6YDrwFxGpKyJxInK0iJxS3mvLUNqxXzzu8o6nV4Hz\nccnglSrE84K3n9YA3md4bpCv3QBkikhFzoXPAINEpIf3uA6wRVX3icgJuB9KB20Cijjye/0CcJ+I\nHOvFW09ELqrA/qudJYLKex335d8CHIc7OYJrATAVVzG2ElepFfgleRr3BZmOa2XwIq4SC1x55cve\nJePFJexzDO7L8xmuZcg+4NYKxHwbrvXKc7gWIstwX8TJ3vJbcZfrP+Faobzu7RM44nK+GaWchFT1\nAHABrux5Ky5xvFuBGIOmqsuAPrhfywu9y/IJuJPwTlVdhDvJ/B33C/UcXDPAAyVs7hHvdd/jKgPn\nes+V5hnc57YZV1E5rdjyS3Hl4Ftwx8mhE10F4wK42dvO97hWNLcAQ4sV35TlSlwxzY+4z+Qdyi5S\nK09px35x5R1Pa3DvswL/q0I8z+J+kU8XkZ24z+PEIF/7tvc3T0TmBvMCVd2E+zz/4D11M/BHb9//\nh/t+H1x3D/Ao8IX3ve6tqhNxDQ/e8IoVFwBnBRlvSBxsVWAqQETG4ipHH/A7FmNqUnUf+yIyBlhn\n3yV/WccYY4wvRCQTd/VYY8OhmJJZ0ZAxpsaJyJ9wRSJPqupyv+OJdVY0ZIwxMc6uCIwxJsZFRB1B\no0aNNDMz0+8wjDEmosyZM2ezqmaUt15EJILMzExmz57tdxjGGBNRRCSoXv1WNGSMMTHOEoExxsQ4\nSwTGGBPjIqKOwBgTffLz81mzZg379lV2rDlzUHJyMi1atCAxsfggtcGxRGCM8cWaNWuoU6cOmZmZ\nHDlYrakIVSUvL481a9bQpk2bSm3DioaMMb7Yt28fDRs2tCRQRSJCw4YNq3RlZYnAGOMbSwLVo6rv\noyUCE/1U4fu3YNcmvyMxJixZIjDRb/mn8O718PLZsHuz39GYMBIfH0+PHj3o0qULF110EXv27Cn/\nRaX45JNPOPvsswGYNGkSjz32WKnrbtu2jeeff77C+3jooYd46qmnyl+xgkKWCERkjIhsFJEFAc89\nKSK5IvK9iEz0ZpEyJrRysiG+FmxdCa+cC3u2+B2RCRO1a9dm/vz5LFiwgKSkJF544YUjlqsqRUVF\nFd7usGHDGDVqVKnLK5sIQiWUVwRjgcHFnvsQ6KKq3XAzeN0Xwv0bA0VFkJsN7QfBJeMhb6lLBnu3\n+h2ZCTP9+/dn6dKlrFixgs6dO3PzzTfTq1cvVq9ezfTp0+nTpw+9evXioosuYteuXQBMmzaNTp06\n0a9fP9599/BEfGPHjuWWW24BYMOGDZx//vl0796d7t278+WXXzJq1CiWLVtGjx49uOeeewB48skn\nOf744+nWrRsPPnho5lMeffRROnbsyMCBA1m0aFFI/veQNR9V1c+8iScCn5se8PBr4MJQ7d8YANbN\nhZ3rodPZcPSpMGIcvHEJvHo+XPk+JNfzO0IDPDx5IT+u21Gt2zymWV0ePOfYoNYtKChg6tSpDB7s\nfrsuWrSIl156ieeff57NmzfzyCOPMGPGDFJTU3n88cd5+umnuffee7n++uuZOXMm7dq1Y8SIESVu\n+7bbbuOUU05h4sSJFBYWsmvXLh577DEWLFjA/PnzAZg+fTpLlixh1qxZqCrDhg3js88+IzU1lTfe\neIN58+ZRUFBAr169OO6446rnDQrgZz+Ca4E3S1soIjcANwC0atWqpmIy0SZnMsQlQIcz3eP2A+Hi\nV+HNy+G14XD5u5Bc198YjW/27t1Ljx5uDvr+/ftz3XXXsW7dOlq3bk3v3r0B+Prrr/nxxx/p27cv\nAAcOHKBPnz7k5ubSpk0b2rdvD8Dll1/O6NGjf7GPmTNn8sorbsrq+Ph46tWrx9atR16RTp8+nenT\np9Ozp5usbdeuXSxZsoSdO3dy/vnnk5KSArgip1DwJRGIyO+BAmBcaeuo6mhgNEBWVpbNnmMqTtUV\nC2X2g5T0w893HAwXjYW3r4JxF8HlE6BWmm9hGoL+5V7dDtYRFJeamnrovqoyaNAgxo8ff8Q68+fP\nr7bmr6rKfffdx4033njE888880yNNLGt8VZDInIVcDZwmdr0aCaUNi1ydQKdzv7lss5nw/AXYc23\n8PoIOLC75uMzEaF379588cUXLF26FIA9e/awePFiOnXqxPLly1m2bBnALxLFQaeffjr//Oc/ASgs\nLGTHjh3UqVOHnTt3HlrnzDPPZMyYMYfqHtauXcvGjRs5+eSTmThxInv37mXnzp1Mnjw5JP9jjSYC\nERkM/A4YpqqVb6dlTDByvS9Np6ElLz/2PLhgNKz6EsaPhPy9NRebiRgZGRmMHTuWSy65hG7dutG7\nd29yc3NJTk5m9OjRDB06lH79+tG6desSX//ss8/y8ccf07VrV4477jgWLlxIw4YN6du3L126dOGe\ne+7hjDPO4NJLL6VPnz507dqVCy+8kJ07d9KrVy9GjBhBjx49GD58OP379w/J/xiyOYtFZDwwAGgE\nbAAexLUSqgXkeat9rao3lbetrKwstYlpTIX96xRXP3D9R2Wv992bMPFGV5k8cjwkJtdMfDEuJyeH\nzp07+x1G1Cjp/RSROaqaVd5rQ9lq6JISnn4xVPsz5gjbVsH6+TDwofLX7T4CivLh/d/AW1fAiNcg\noVaoIzQmbFjPYhOdcqe4v53OCW79npfD2c/Akunw9tVQcCBkoRkTbiwRmOiUkw0ZnaFRu+Bfk3UN\nDHkKFn0AE66DwvzQxWdMGLFEYKLP7s2uArhzCa2FynPC9TD4MciZBO/eAIUF1R+fMWHGJqYx0WfR\nVNCikpuNBqP3r93VwId/cJXN578AcfHVG6MxYcQSgYk+udlQrxU07V75bfS9zVUgf/RHiE+EYf+A\nOLuANtHJjmwTXfbvhGUzXd+BqvbI7H83DLgP5o+D7NvdAHYm6kycOBERITc3t8z1xo4dy7p16yq9\nn8BhqsONJQITXZZ8CIUHKlc/UJJTfgf9fwtzX4EPfuuGrTBRZfz48fTr14833nijzPWqmgjCmSUC\nE11ysyGlEbTqUz3bE4HTHoC+t8PsF2HaKEsGUWTXrl188cUXvPjii0ckgieeeIKuXbvSvXt3Ro0a\nxTvvvMPs2bO57LLL6NGjB3v37iUzM5PNm91ER7Nnz2bAgAEAzJo1i5NOOomePXty0kknhWzo6Opk\ndQQmehTsh8XT3dAR1Vm5KwIDH3YtiL5+zlUgn/FI1YuezGFTR8HPP1TvNo/qCmeVPksYwHvvvcfg\nwYPp0KED6enpzJ07lw0bNvDee+/xzTffkJKSwpYtW0hPT+cf//gHTz31FFlZZXfU7dSpE5999hkJ\nCQnMmDGD+++/nwkTJlTnf1btLBGY6LH8MziwEzoH2YmsIkTgzEehqAC++oerQD79QUsGEW78+PHc\ncccdAIwcOZLx48dTVFTENddcc2jo5/T09LI28Qvbt2/nqquuYsmSJYgI+fnh3x/FEoGJHjmTISkN\n2pwSmu2LwFmPu9ZEn/8V4hLhtN+HZl+xppxf7qGQl5fHzJkzWbBgASJCYWEhIsLw4cODGvo5ISHh\n0DSW+/btO/T8H/7wB0499VQmTpzIihUrDhUZhTOrIzDRoajQ9QhuPyi0g8aJwJC/QM8r4LMn4NMn\nQrcvE1LvvPMOV155JStXrmTFihWsXr2aNm3akJ6ezpgxYw5NZL9li5vjuvjQ0ZmZmcyZMwfgiKKf\n7du307x5c8BVMEcCSwQmOqz+BnZvqnwnsoqIi4Nz/gbdL4GPH4X/PR36fZpqN378eM4///wjnhs+\nfDjr1q1j2LBhZGVl0aNHD5566ikArr76am666aZDlcUPPvggt99+O/379yc+/nCd1L333st9991H\n3759KSwsrNH/qbJCNgx1dbJhqE25pt0P3/4b7llWc1NPFhW64at/eNtVHp90a83sN0rYMNTVKyyH\noTamxqi6SWjaDqjZ+Yfj4uG8F1wF8vQHXJ1B73Kn1zAm7FgiMJHv5x/c/AP9f1vz+45PgAv+7ZLB\ntN+5x8f/qubjMKYKrI7ARL7cbJA46DjEn/3HJ8LwMdDhLJhyN8wZ608cESgSiqYjQVXfR0sEJvLl\nZEPL3pCW4V8MCUlw8cvQbhBMvgPmjfMvlgiRnJxMXl6eJYMqUlXy8vJITq58azkrGjKRLW8ZbFwI\nZ/7Z70jc9JYjXoPxI920l3EJbhpMU6IWLVqwZs0aNm3a5HcoES85OZkWLVpU+vWWCExky812f2ui\n2WgwEpNh5Ovw+sXw3k2uzqDLcL+jCp3CfNiUC026VLiXdWJiIm3atAlRYKYirGjIRLacbDiqGzRo\n7XckhyWlwKVvuoHvJlwPP77vd0TVq2A/LJoG790MT7aDF/rBF8/4HZWpAksEJnLt/BnWzArN2EJV\nlZTqkkGLLHjnWsid4ndEVXNgj0to71wHTxwN40e4JNzhTDekx8f/DzYv8TtKU0lWNGQi18GTa7gU\nCxVXqw5c9g68ej68dRWMHOdOnJFi3w5YMt0lgCUfQsFeqJ3uRnc95lyXABKSYOcGeO4EeP8WuGaq\nzeQWgSwRmMiVmw3pbaFxGPdOTa4Ll0+AV86FNy+HS8ZDu4F+R1W6PVvcnM85k9xMb4UHIK0J9LjU\nnfxb93X1HoHqNIHBj7k6kW//DSfe6E/sptIsEZjItHebG3a6983hPxR07fpwxUR4ZRi8cZkrMmo7\nwO+oDtu1ySXVnEnuPS0qgLotXMe4zsOg5Ynl/8rvPhIWvAMzHnZXPQ0yayR0Uz0sEZjItPi/7oQV\njvUDJUlJhyveh5fPgddHwmVvQ5v+/sWzY50btvvHSbDqS9Aid3XV5xY4Zhg061WxBCsCZz8Dz/eG\nybfDFe+Ff4I2h1giMJEpdzKkHQXNyx1PK3ykNoQr34eXz4bXR7gio9bVNKVmMLaucCf+nEmw5lv3\nXEYnNzTHMedCk2OrdvKu3xIGPex6V897FXpdWS1hm9CzRGAiT/5eWPqRGwY60iom0zLgykkwdgiM\nu9D9cm55fOj2t3mJq+zNmQTrv3PPHdXNzcPc+VzI6FC9+zvuWlgwEf77gOtlXbdp9W7fhIQlAhN5\nls2E/D3QOUxbC5WnThO4ajK8NAReuwCufA+aH1c921aFDQvdif/HSbApxz3f4ngY9CdXlJYewk5c\ncXEw7G/wz74w5S7Xuc6KiMKeJQITeXKyIbkeZPpYxl5VdZvB1dkuGbx6vrtKaNajcttShXXzvJP/\n+7DlJ0Cg9Ukw+HF38q/XvFrDL1PDo90UntMfgAUToOuFNbdvUymWCExkKSyAxVOhw2A36mckq9fC\nXRmMHQqvnufuH9U1uNcWFbnOdD9OcpW+21eBxEObk90EOZ3OhrTGoY2/LL1vhoUTYeq9roVUaiP/\nYjHlClkBq4iMEZGNIrIg4Ll0EflQRJZ4fxuEav8mSq38AvZuDd9OZBXVoLVLAIkprq/Bhh9LX7ew\nAH761FXGPt0Zxpzp2u037gznPg/3LHXFTFnX+psEwE3ac+5zrlPa1Hv9jcWUK5Q1bWOBwcWeGwV8\npKrtgY+8x8YEL2cyJCRDu9P9jqT6pLdxySAu0fU12LT48LKCA7BkBky6Ff7SwS2fN85VMF/wHzc1\n52VvQc/LXBPVcNK4M5xyryseyv3A72hMGUI6Z7GIZALZqtrFe7wIGKCq60WkKfCJqnYsbzs2Z7EB\nXHHIX4+F5r3ccA3RZtNiV0wkcTDwIfjpE1cMtm87JNVxHbWOGeZ6Jiel+hxskArzYfQA2L0ZfvON\n61xnakywcxbXdNu7Jqq6HsD76/P1q4ko6+bBznXRUyxUXEYHuGqS6yj33k2weBp0HAqXvOGKfS58\n0bX3j5QkAK4e59x/wO5NMP33fkdjShG2lcUicgNwA0CrVq18jsaEhdzJrkI0kgZuq6jGneFXM2Db\nSm9cnwivEAdo1tNVYH/xjJub4ejT/I7IFFPTVwQbvCIhvL8bS1tRVUerapaqZmVk+DgFoQkfOdmQ\n2S/8ysKrW3ob19ImGpLAQQNGQcP2MOl22L/L72hMMTWdCCYBV3n3rwKibMYOEzKbFkHeksgZW8gc\nKbG2KyLavho++qPf0ZhiQtl8dDzwFdBRRNaIyHXAY8AgEVkCDPIeG1O+nMnub6eh/sZhKq9Vbzjh\nBpg1GlZ+5Xc0JkDQdQQikqqqu4NdX1UvKWVRFLX7MzUmZ7IbYK5uM78jMVVx+v+5llCTboGbPndX\nCsZ35V4RiMhJIvIjkOM97i4iz4c8MmMO2rYa1s+P3LGFzGG10uCcv0HeUvjECgTCRTBFQ38FzgTy\nAFT1O+DkUAZlzBEOTUlp9QNR4ehToecV8OXfXZNg47ug6ghUdXWxpwpDEIsxJcvNduPmN2rndySm\nupzxiBsG4/1bXO9p46tgEsFqETkJUBFJEpHf4hUTGRNyu/Pc+ELR2oksVtWuD0Ofhg0L4PO/+h1N\nzAsmEdwE/AZoDqwBegA3hzIoYw5ZPNVNo2j1A9Gn0xDXweyzJ8sebM+EXDCJoKOqXqaqTVS1sape\nDnQOdWDGAK61UL2W0LSSY/Wb8HbWE5Bc17UiKrISZ78Ekwj+HuRzxlSv/Tth2ceuWMhmuYpOqY1c\nMlg7B762xoh+KbUfgYj0AU4CMkTkroBFdYH4UAdmDEtnQOF+KxaKdl2Gu6GqZz4CHYe4Gc5MjSrr\niiAJSMMlizoBtx2AzT1nQi8nG1IaQqs+fkdiQknEVRzH13LzLhQV+R1RzCn1ikBVPwU+FZGxqrqy\nBmMyxpuQZbobfz/OLkCjXt2mcOYjLhHMGQPH/8rviGJKMENM7BGRJ4FjgeSDT6qqjSVrQmf5Z7B/\nh3UiiyU9r3BFRB8+CO3PhPot/Y4oZgRTWTwOyAXaAA8DK4BvQxiTMW7ugaQ0NxyziQ0ibvgJVci+\nw/01NSKYRNBQVV8E8lX1U1W9Fugd4rhMLCsqdMNKtB8Eicnlr2+iR4PWMPBB11Dgu/F+RxMzgkkE\n+d7f9SIyVER6Ai1CGJOJdatnuakNrTdxbDr+emjZG6bdBzs3+B1NTAgmETwiIvWAu4HfAv8B7gxp\nVCa25WZDfBK0P8PvSIwf4uLcJDb5e+GDu/2OJiaUmwhUNVtVt6vqAlU9VVWPAz6qgdhMLFJ1vYnb\nnOJ6nJrY1Kg9nHqfOxYWvud3NFGvzEQgIs1FJEtEkrzHjUXkz8CSGonOxJ4NC9zE7daJzPS51Q0t\n8sFvYc8Wv6OJaqUmAhG5A5iPG07iaxG5CjfqaG3guJoJz8ScnGxAXA9TE9viE1wR0d6tMG2U39FE\ntbL6EdyAG3Bui4i0ApYCJ6vq1zUTmolJOZNdT+K0xn5HYsLBUV2h313w2RPQ5ULoYPVGoVBW0dA+\nVd0CoKqrgMWWBExIbfkJNi60YiFzpJN/CxmdXd+CfTv8jiYqlXVF0EJE/hbwuHHgY1W9LXRhmZiU\nk+3+WrNREyihFpz7HLw4ED78PzjnGb8jijplJYJ7ij2eE8pAjCE32xUFNGjtdyQm3LQ4DnrfDF/9\nA7pcAG1s2vTqVNagcy/XZCAmxu3c4DqSDbjP70hMuDr197DoAzcw3a+/hKRUvyOKGkFNXm9MyC2a\nAqjVD5jSJaXAsL/D1hUw81G/o4kqlghMeMjJhgZtoPExfkdiwllmP8i6zs1mttrGvqwu5SYCEekb\nzHPGVNrebbD8U+h8jk1Jaco38CGo2xze/w0U7Pc7mqhgcxYb/y2ZDkUFLhEYU57kunDOs7B5EXz6\nhN/RRAWbs9j4L2cypB0FzbP8jsREivYDofsl8Plf4ZhzoWk3vyOKaDZnsfFX/l439nynIW7USWOC\ndeaf3ZzW7/8GCvPLX9+UyuYsNv5a9jHk77FOZKbiUtJh6F/grSvgy79BfxuyurKCmbO4loiMBjID\n17c5i021yM2GWvUgs7/fkZhIdMwwVzT0yWPux0RGR78jikjBJIK3gRdwE9IUhjYcE1MKC1wHoY6D\nISHJ72hMpBryFCz/DN6/Ba6dBnFWhVlRwRTKFqjqP1V1lqrOOXiryk5F5E4RWSgiC0RkvIjYxLSx\naOUXbohhKxYyVZHWGAY/Bmu/hNLdAAAbzklEQVRmwazRfkcTkYJJBJNF5GYRaSoi6Qdvld2hiDQH\nbgOyVLULrgXSyMpuz0Sw3GxISIZ2p/sdiYl03Ua4qU0/+iNsWe53NBEnmERwFW4Aui9xA8/NAWZX\ncb8JQG0RSQBSgHVV3J6JNKqQOwWOPt3GjDFVJwJn/xUkHibf5o4vE7Rg5ixuU8KtbWV3qKprgaeA\nVcB6YLuqTi++nojcICKzRWT2pk2bKrs7E67WzYUda21sIVN96rWAM/7o6gvm2piZFRHMEBMpIvKA\n13IIEWkvIpX+9opIA+BcoA3QDEgVkcuLr6eqo1U1S1WzMjIyKrs7E65yst2vtw6D/Y7ERJNeV7sW\naNP/ANvX+h1NxAimaOgl4ACulzHAGuCRKuxzILBcVTepaj7wbsC2TazIzYbMvq4tuDHVJS4Ohv3N\ndTCbcpcVEQUpmERwtKo+AeQDqOpeoCojg60CentXGgKcDuRUYXsm0mxaBJsXQ+dhfkdiolF6Wzj9\nD7B4Gvzwjt/RRIRgEsEBEakNKICIHA1Uesg/Vf0GeAeYC/zgxWBtvmJJzmT3t9NQf+Mw0evEm6DF\n8TD1XthldYzlCSYRPAhMA1qKyDjgI+DequxUVR9U1U6q2kVVr1BVG0s2luRmQ/PjoG4zvyMx0Sou\nHob9Aw7sgqnFZ901xQXTauhD4ALgamA8rv3/J6ENy0St7Wtg3TzrRGZCr3EnOPleWDjRNU4wpQp2\nuMfmuI5fScDJInJB6EIyUS13ivtrcw+YmtDvDjiqq6s43rvV72jCVjDNR8cAY4DhwDnezX7OmcrJ\nmQyNOkKj9n5HYmJBfCKc+xzs3gz/fcDvaMJWMIPO9VZVm0jWVN3uPFj5JfS70+9ITCxp2h363g6f\nPw1dzod2A/2OKOwEUzT0lYhYIjBVt3gqaKH1JjY175TfQaMOMPkO2L/T72jCTjCJ4GVcMlgkIt+L\nyA8i8n2oAzNRKCcb6rWEpj38jsTEmsRk14po+xqYcD2snWudzQIEUzQ0BrgC1+a/KLThmKi1fxcs\nmwlZ17gBwoypaa1OdB3NPnncXZ1mdHLzHncbAXWb+h2dr4JJBKtUdVLIIzHRbekMKNxvzUaNv/rf\nDVnXuial88fDjAfho4eh7anQ41LXyTGxtt9R1rhgEkGuiLwOTCagR7GqvhuyqEz0yc2G2unQqo/f\nkZhYV7uBSwZZ18LmpfDdePj+TZhwHdSqC8eeB90vhVa9Y+bqNZhEUBuXAM4IeE5xg8UZU76CA7D4\nv25+2fhgDjljakijdq646NTfw4r/uaTwwwSY+wo0aOOKjrqPhAat/Y40pIL5Vt6tqltCHomJXss/\ng/07oJN1IjNhKi4O2p7ibkOegpxJMP91+OTP7ta6H/S4BI45F2rV8TvaahdMq6FvRORtERnijRZq\nTMXkToakNGg7wO9IjClfrTRXX3B1NtzxA5z6AOxcB+//Bp7qAO/eAMs+hqJCvyOtNsFcEXTAzSFw\nLfB3EXkTGKuqi0MamYkORYWQ+4HrxJOY7Hc0xlRM/VZwyj1w8m9h9Sz47nVYMNHVKdRt7loc9bg0\n4nvKi1agLa2InAq8BqQC3wGjVPWrEMV2SFZWls6eXdVpko0vVn0NY86E4S9C1wv9jsaYqsvfC4s+\ncK2Oln0EWgTNs1zRUZfhrjI6TIjIHFXNKm+9cq8IRKQhcDmuL8EG4FZgEtADeBs35aQxJcuZDHGJ\n0H6Q35EYUz0Sa7sTfpfhsPNn+P4tV8k85W6Ydh90PMu1Omo3MGIaRwQT5VfAq8B5qrom4PnZIvJC\naMIyUUHVNRttewok1/M7GmOqX52joO9tcNKtsP47r9XR2/Dj+5CaAV0vdlcKR3X1O9IylVs0JCKi\nqioidQBV1V01E9phVjQUoX5eAC/0hXOeheOu9jsaY2pGwQFY+qFrdbT4v1CUD026uoTQ9WJIy6ix\nUIItGgqm1dCxIjIPWAD8KCJzRKRLlSM00S9nMiDQcYjfkRhTcxKSXA/lkePg7kVw1pOuiOi/98Nf\nOsLrI9wVQ0H4TMwYTNHQaOAuVf0YQEQGeM+dFMK4TDTIzXa9M9Ma+x2JMf5IbQgn3uBuG3Ndq6Pv\n34LF0yC5vmtA0f1SaN7L117MwVwRpB5MAgDeNJWpIYvIRIcty2HDAhtbyJiDGneCQX+EOxfC5RNc\nZfK81+A/p8FzJ8D/nobta30JLZgrgp9E5A+4CmNwLYiWhy4kExVyvTlibe4BY44UF++SQLuBsG87\nLHzPVTJ/9DB89EfX8bL7JW4616SUGgkpmMriBsDDQD9AgM+Ah1S1xiYAtcriCPTimXBgN/z6c78j\nMSYybPkJvnvDJYVtq1xv/GPOc7OrZXSo1CarrR+Bd8K/rVJRmNi0ayOs/gYG3Od3JMZEjvS2cOr9\ncMooWPWl67D243s10uKu1EQgIpNxo4yWSFWHhSQiE/lypwBqxULGVEZcHGT2c7chT0Bi6IuHyroi\neCrkezfRKWeyG8K3sU11bUyVJNVMu5xSE4GqfnrwvogkAZ1wVwiLVPVADcRmItG+7W7Y6d43xcyk\nHsZEumDGGhoKvAAsw1UWtxGRG1V1aqiDMxFo8XTXk9LmHjAmYgTTfPQvwKmquhRARI4GpgCWCMwv\n5U6GtCbQ4ni/IzHGBCmYDmUbDyYBz0/AxhDFYyJZ/l5YMsMNKREXzKFljAkHwVwRLBSRD4C3cHUE\nFwHfisgFYJPYmwA/fQL5u11HGGNMxAgmESTj5iE4xXu8CUgHzsEmsTeBciZDrXqQ2d/vSIwxFRBM\nh7JrqnunIlIf+A/QBZdMrq2Jmc5MCBUWwKKp0OFMN/qiMSZiBNNqqA1uVrLMwPWr2KHsWWCaql7o\nNU2tmQE1TOis+hL2brFOZMZEoGCKht4DXgQmA0VV3aGI1AVOBq4G8PokWL+ESJeTDQnJbiAtY0xE\nCSYR7FPVv1XjPtvi6hleEpHuwBzgdlXdHbiSiNwA3ADQqlWraty9qXaqbliJo0+rsZ6QxpjqE0wb\nv2dF5EER6SMivQ7eqrDPBKAX8E9V7QnsBkYVX0lVR6tqlqpmZWTU3NRuphLWzYMda6y1kDERKpgr\ngq7AFcBpHC4aUu9xZawB1qjqN97jdyghEZgIkpsNEg8dBvsdiTGmEoJJBOcDbatrfCFV/VlEVotI\nR1VdBJwO/Fgd2zY+yZkMmX0hJd3vSIwxlRBMIvgOqE/19ia+FRjntRj6Caj2JqqmhmxaDJsXw/HX\n+x2JMaaSgkkETYBcEfkW2H/wyao0H1XV+UC5s+aYCJA72f3tNNTfOIwxlRZMIngw5FGYyJWTDc16\nQb3mfkdijKmkclsNefMSrAASvfvfAnNDHJeJBNvXwrq51lrImAhXbiIQketxLXv+5T3VHNfJzMS6\n3CnuryUCYyJaMP0IfgP0BXYAqOoSoHEogzIRImcSNOoIjdr7HYkxpgqCSQT7A5uOikgCZUxqb2LE\nni2w8ksbW8iYKBBMIvhURO4HaovIIOBt3LhDJpYtmgpaCJ0sERgT6YJJBKNwYwP9ANwIfAA8EMqg\nTJjbvRk+ewLqt4ZmPf2OxhhTRcHMR1AE/Nu7mViXvxfGj4SdG+DqKSDid0TGmCoKZj6CvsBDQGtv\nfQFUVduGNjQTdoqKYOKNsGY2jHgVWhznd0TGmGoQTIeyF4E7ccNFF4Y2HBPWPnoIfnwfznjEmowa\nE0WCSQTbVXVqyCMx4W32S/DFs5B1HfS5xe9ojDHVKJhE8LGIPImbpD5wrCHrXRwrls6AKXdDu0Fw\n1hNWL2BMlAkmEZzo/Q0cJK4q8xGYSPLzAnjramh8DFz0EsQHc8gYYyJJMK2GTq2JQEwY2rEeXr8Y\naqXBpW9CrTp+R2SMCYFSE4GI3FXsKQU2A5+r6vKQRmX8t38XjB8B+7bDNVNtdFFjolhZHcrqFLvV\nxRUPTRWRkTUQm/FLUSFM+BX8/ANc+BI07eZ3RMaYECr1ikBVHy7peRFJB2YAb4QqKOOzaffB4qkw\n5CnocIbf0RhjQiyYISaOoKpbcJ3KTDT6+gWY9S/XRPQEm37SmFhQ4UQgIqcBW0MQi/Fb7gcwbZQb\nSG7Qn/yOxhhTQ8qqLP6BXw43nQ6sA64MZVDGB+vmwYTr3CByF/wb4ir8G8EYE6HKaj5afHxhBfJU\ndXcI4zF+2LYKXh8BKY1cM9GkFL8jMsbUoLIqi1fWZCDGJ/u2uySQvw+unARpNvmcMbHGuonGssJ8\neOsq2LwYLp8AjTv5HZExxgeWCGKVKky5C376GM59DtoO8DsiY4xPrEYwVn3xDMx9Bfr/Fnpe7nc0\nxhgfWSKIRQvehRkPQZcL4TSbddSYWGeJINas+gYm3gSt+sB5z9uQ0sYYSwQxZctP8MYlUK8FjHwd\nEmr5HZExJgxYIogVe7bAuItcJfFlb0NKut8RGWPChLUaigUF++HNy13HsSsnQcOj/Y7IGBNGLBFE\nO1WYdCus/AKGvwit+/gdkTEmzPhWNCQi8SIyT0Sy/YohJnzy/+D7N+G0P0DXC/2OxhgThvysI7gd\nyPFx/9Fv/nj49HHXT6D/3X5HY4wJU74kAhFpAQwF/uPH/mPC8v+5IqE2p8DZz1gzUWNMqfy6IngG\nuBco8mn/0W3TInjzMlcpfPErEJ/od0TGmDBW44lARM4GNqrqnHLWu0FEZovI7E2bNtVQdFFg1ybX\nTDS+Flz6FtSu73dExpgw58cVQV9gmIiswM17fJqIvFZ8JVUdrapZqpqVkZFR0zFGpvy9rsPYro1w\n6RvQoLXfERljIkCNJwJVvU9VW6hqJjASmKmqNupZVRUVwbs3wJrZMPw/0Pw4vyMyxkQI60cQLWY8\nCDmT4Mw/Q+fik8sZY0zpfE0EqvoJ8ImfMUSF2WPgy7/B8b+C3jf7HY0xJsLYWEORbskMmPJbaH8G\nDH7cmokaYyrMioYi2c8L4O2rockxcOFLEF+zH2dRkRIXZ4kn1u0vKKTIGoKHTFJCHPEh/p5ZIohU\nO9bD6xdDrTqumWittBrb9dc/5fH/Pshh4bodNG9Qm9YNU8lsmEKr9BQyG6aS2SiFFg1SSE6Mr7GY\nTGht35PPyi27WZG3h1V57u/KvN2szNvDxp37/Q4vqo295ngGdGwc0n1YIohE+3e5JLBvO1w7Deo2\nq5HdLtu0i8em5vLhjxtoVi+Za/pmsn77Plbm7WHeqq3s3FdwaF0RaFo3mVYNXXJo3TCV1g1TvFsq\nabXs0AsnqsrmXQcOndxXHjzZb3H3t+3JP2L9JnVr0bphKqd0yKBlegpJCVbKHCptG4X+R559GyNN\nUSFMuA42LIRL34SjuoZ8l3m79vO3j5Yw7ptVJCfGc8+ZHbmuX5sjfvGrKtv25LPi0InE+8W4ZQ8z\ncjawedeBI7bZKC3JJYd0lxgyGx2+oqifkohYXUe1KypS1u/Yd+hkvyJvN6vy9hz6lb/7QOGhdeME\nd7WXnsrQrk3JbJh6KKm3Sk+hdpJd7UUTSwSRRBWmjYLF02Do09B+UEh3ty+/kLFfruC5mUvZk1/I\nJSe05I6BHWiU9suZzUSEBqlJNEhNomerBr9Yvmt/QcCvzYO/OHfz9U95vDtv7RHr1k1O+MUVRKb3\nuHGdWpYkypBfWMTarXt/kZBX5O1m9da9HCg4XJifFB9Hy3RXtNe7bbpLyo3ce928fm37lR9DLBFE\nkm9egFmj4aRb4fjrQraboiJl8vfreGLaItZu28vpnRpz35BOtGtcp9LbTKuVwLHN6nFss3q/WLYv\nv5DVW/Yc/pW6xf1K/WHtdqYu+JnCIj20bu3EeFofrI9olHroKqJ1wxSa1a8d8kq1cLAvv9C9R5sP\nvleHT/prt+0t8f1q37gOAzs3OVyf0zCFpvVi4/0y5bNEEClyp8C0+6DzOTDwjyHbzbcrtvBI9o98\nt2Y7xzStyxMXdqNvu0Yh2x9AcmI87ZvUoX2TXyaa/MIi1m3bW6yScg/LN+/mk8WbjviFmxgvtGxw\n+Coi8IqiRYPa1EqInOKMHfvyWZV3ODkGXk39vGPfEevWq51IZsMUuresz7k9mh3xv2ek2RWUKZ8l\ngkiwdi5M+BU07wXnj4a46r9kX755N49PzWXawp85qm4yT13UnQt6Nve9eWhifJx3YksFjhxzqqhI\n2bBzHys272HVliNbsny7Yiu79hccsX4k/fgN+FEPQEadWrROT6Fvu0aHftEfvBKqn5LkT5Amalgi\nCHfbVsHrIyC1EVzyBiSlVOvmt+4+wN9mLuHVr1aSlBDH3YM68Kv+bSOiMjAuTmharzZN69Wmz9EN\nj1imquTtPnCojHz1lr0URFBj99RaCV6TXHeyT7VWViaE7OgKZ/u2w7iL3eTzV2dDWvW1Jd5fUMgr\nX67k7zOXsGt/ASOOb8Wdg9rTuE5yte3DTyJCo7RaNEqrxXGtf1l5bYw5zBJBuCrMh7euhLwlcPm7\nkNGxWjarqkz5YT2PT8tl9Za9DOiYwf1DOtOhhPJ5Y0xssEQQjlQh+0746RM475/Q9pRq2eyclVt4\nZEoO81Zto9NRdXj1uhPo397mejAm1lkiCEef/xXmvQon3ws9Lq3y5lbm7eaJaYuY8sN6GtepxRMX\ndmN4rxbWdNAYA1giCD8LJsBHD0PXi+DU+6u0qW17DvD3mUt55asVJMbHcefADlx/chtSkuxjN8Yc\nZmeEcLLqa5j4a2h1Epz7XKWHlD5QUMQrX63g7zOXsnNfPhdnteSuQR1oXDc6KoKNMdXLEkFVqELB\nPjiwBw7sggO7vVux+/l7Snj+4OOAZTt/hnotYOQ4SPjlMA7lh6NMXfAzj0/LZWXeHvq3b8T9QzrT\nuWndEPzzxphoETuJoLAA8oufhIvfL35CD1iWX8oyrUDb9ITakJTq3dIO309r7P4m14c+v4GU9Ar/\ne3NXbeXRKTnMWbmVjk3q8PK1J3BKB6sINsaUL7oTwYcPwtxX3Em7sAJjpku8G98/8GSdlAZpR5V8\nIk9Kcx29Snzeu5+YAnHV30lr9ZY9PD4tl+zv15NRpxaPXdCVi7JaWkWwMSZo0Z0ImnSBLhccPikn\nlnOyPniLTwr7KR+3783nuY+XMvaLFcTFwW2nt+fGk9taD1RjTIVF91mj20XuFkUOFBQx7puVPPvR\nErbvzefCXi24+4yOHFXPKoKNMZUT3Ykgiqgq/124gcen5bJ88276tXMVwcc0s4pgY0zVWCKIAN+t\n3sajU3KYtWIL7Run8dI1xzOgQ4YNL2yMqRaWCMLYmq17ePK/i3h//joapSXx5/O7cnFWCxLibeYo\nY0z1sUQQhnbsy+f5j5cx5ovlCHDLqe24acDRNuG7MSYk7MwSRvILixg/axXPzFjC1j0HOL9nc+45\nsyNN69X2OzRjTBSL6kTw94+WMOm7dX6HEbRte/PZtHM/fdo25PdDO9Ol+S/n9zXGmOoW1Ykgo04t\n2jdJ8zuMoMXHxXFu92ac3rmxVQQbY2pMVCeCkSe0YuQJrfwOwxhjwpo1PzHGmBhnicAYY2KcJQJj\njIlxNZ4IRKSliHwsIjkislBEbq/pGIwxxhzmR2VxAXC3qs4VkTrAHBH5UFV/9CEWY4yJeTV+RaCq\n61V1rnd/J5ADNK/pOIwxxji+1hGISCbQE/imhGU3iMhsEZm9adOmmg7NGGNihm+JQETSgAnAHaq6\no/hyVR2tqlmqmpWRYVMuGmNMqIiq1vxORRKBbOC/qvp0EOtvAlZWcneNgM2VfK0fIineSIoVIive\nSIoVIiveSIoVqhZva1Ut95d0jScCcWMnvAxsUdU7amB/s1U1K9T7qS6RFG8kxQqRFW8kxQqRFW8k\nxQo1E68fRUN9gSuA00Rkvncb4kMcxhhj8KH5qKp+DtiIasYYEyZioWfxaL8DqKBIijeSYoXIijeS\nYoXIijeSYoUaiNeXymJjjDHhIxauCIwxxpTBEoExxsS4qE0EIjJGRDaKyAK/YylPpA3EJyLJIjJL\nRL7z4n3Y75jKIyLxIjJPRLL9jqU8IrJCRH7wWtTN9juesohIfRF5R0RyveO3j98xlUZEOga0VJwv\nIjtEJORN2CtLRO70vl8LRGS8iCSHbF/RWkcgIicDu4BXVLWL3/GURUSaAk0DB+IDzgvXgfi8viCp\nqrrL6xz4OXC7qn7tc2ilEpG7gCygrqqe7Xc8ZRGRFUCWqoZ9pycReRn4n6r+R0SSgBRV3eZ3XOUR\nkXhgLXCiqla2s2rIiEhz3PfqGFXdKyJvAR+o6thQ7C9qrwhU9TNgi99xBCPSBuJTZ5f3MNG7he0v\nChFpAQwF/uN3LNFEROoCJwMvAqjqgUhIAp7TgWXhmAQCJAC1RSQBSAHWhWpHUZsIIlVZA/GFE6+o\nZT6wEfhQVcM53meAe4EivwMJkgLTRWSOiNzgdzBlaAtsAl7yit3+IyKpfgcVpJHAeL+DKI2qrgWe\nAlYB64Htqjo9VPuzRBBGyhuIL5yoaqGq9gBaACeISFgWv4nI2cBGVZ3jdywV0FdVewFnAb/xijnD\nUQLQC/inqvYEdgOj/A2pfF4R1jDgbb9jKY2INADOBdoAzYBUEbk8VPuzRBAmvLL2CcA4VX3X73iC\n5RUFfAIM9jmU0vQFhnnl7m/ghjZ5zd+Qyqaq67y/G4GJwAn+RlSqNcCagKvBd3CJIdydBcxV1Q1+\nB1KGgcByVd2kqvnAu8BJodqZJYIw4FW+vgjkBDMaq99EJENE6nv3a+MO2lx/oyqZqt6nqi1UNRNX\nHDBTVUP2y6qqRCTVazCAV8xyBhCWLd9U9WdgtYh09J46HQjLBg7FXEIYFwt5VgG9RSTFOz+cjqs7\nDImoTQQiMh74CugoImtE5Dq/YypDpA3E1xT4WES+B77F1RGEfbPMCNEE+FxEvgNmAVNUdZrPMZXl\nVmCcdyz0AP7sczxlEpEUYBDuF3bY8q6y3gHmAj/gztUhG2oiapuPGmOMCU7UXhEYY4wJjiUCY4yJ\ncZYIjDEmxlkiMMaYGGeJwBhjYpwlAmMAEVEReTXgcYKIbKrsaKXeqJw3BzweEAkjn5rYZInAGGc3\n0MXrIAeurfnaKmyvPnBzuWsZEwYsERhz2FTcKKVQrPepiKSLyHsi8r2IfC0i3bznH/LmvvhERH4S\nkdu8lzwGHO11DnzSey4tYOz+cV6PUWN8Z4nAmMPeAEZ6E4B048gRYB8G5qlqN+B+4JWAZZ2AM3Fj\nAj3ojRs1CjfMcQ9VvcdbrydwB3AMbuTOvqH8Z4wJliUCYzyq+j2Qibsa+KDY4n7Aq956M4GGIlLP\nWzZFVfd7E8lsxA0TUZJZqrpGVYuA+d6+jPFdgt8BGBNmJuHGgR8ANAx4vqRinIPjs+wPeK6Q0r9X\nwa5nTI2yKwJjjjQG+KOq/lDs+c+Ay8C1AAI2lzNnxE6gTkgiNKaa2S8SYwKo6hrg2RIWPYSbiet7\nYA9wVTnbyRORL0RkAa4Sekp1x2pMdbHRR40xJsZZ0ZAxxsQ4SwTGGBPjLBEYY0yMs0RgjDExzhKB\nMcbEOEsExhgT4ywRGGNMjPv/23wz13agEvEAAAAASUVORK5CYII=\n",
          "text/plain": "<matplotlib.figure.Figure at 0x1a1d8d1898>"
         },
         "metadata": {},
         "output_type": "display_data"
        },
        {
         "name": "stdout",
         "output_type": "stream",
         "text": "\n"
        },
        {
         "data": {
          "text/plain": "'Mean Squared Error: 25.199999999999996'"
         },
         "metadata": {},
         "output_type": "display_data"
        }
       ]
      }
     },
     "6ef3b38e7f5e44399abe1ca9b9c17d4c": {
      "model_module": "@jupyter-widgets/controls",
      "model_module_version": "1.5.0",
      "model_name": "VBoxModel",
      "state": {
       "_dom_classes": [
        "widget-interact"
       ],
       "children": [
        "IPY_MODEL_003ca46184da4f568ae0f6ec2d8634a3",
        "IPY_MODEL_699d586d230f47008a4eaf236b804103"
       ],
       "layout": "IPY_MODEL_ef3bd81c85c14a50b579f049845e9eac"
      }
     },
     "7008e74ed5e24c41a24d83512f9810b3": {
      "model_module": "@jupyter-widgets/base",
      "model_module_version": "1.2.0",
      "model_name": "LayoutModel",
      "state": {}
     },
     "76b38bc8d08e4a2fb598072a39383775": {
      "model_module": "@jupyter-widgets/controls",
      "model_module_version": "1.5.0",
      "model_name": "DropdownModel",
      "state": {
       "_options_labels": [
        "Alabama",
        "Alaska",
        "Arizona",
        "Arkansas",
        "California",
        "Colorado",
        "Connecticut",
        "Delaware",
        "Florida",
        "Georgia",
        "Hawaii",
        "Idaho",
        "Illinois",
        "Indiana",
        "Iowa",
        "Kansas",
        "Kentucky",
        "Louisiana",
        "Maine",
        "Maryland",
        "Massachusetts",
        "Michigan",
        "Minnesota",
        "Mississippi",
        "Missouri",
        "Montana",
        "Nebraska",
        "Nevada",
        "New Hampshire",
        "New Jersey",
        "New Mexico",
        "New York",
        "North Carolina",
        "North Dakota",
        "Ohio",
        "Oklahoma",
        "Oregon",
        "Pennsylvania",
        "Rhode Island",
        "South Carolina",
        "South Dakota",
        "Tennessee",
        "Texas",
        "Utah",
        "Vermont",
        "Virginia",
        "Washington",
        "West Virginia",
        "Wisconsin",
        "Wyoming"
       ],
       "description": "state",
       "index": 0,
       "layout": "IPY_MODEL_82cf6b20f08d4c0188180202d5eb28a2",
       "style": "IPY_MODEL_0886e516163e47e299f70d6590a74988"
      }
     },
     "775113f4e71e4c7b9a59b45f05cdad75": {
      "model_module": "@jupyter-widgets/controls",
      "model_module_version": "1.5.0",
      "model_name": "VBoxModel",
      "state": {
       "_dom_classes": [
        "widget-interact"
       ],
       "children": [
        "IPY_MODEL_a0975ee81a064d4bbced86881e3f93e8",
        "IPY_MODEL_e8c34b3b37f74c9d8bbcd8816d2d18e1"
       ],
       "layout": "IPY_MODEL_0154bcc88ddf4d1cad554a6123026e86"
      }
     },
     "792786346eb343b1b7790bd278ecfb5b": {
      "model_module": "@jupyter-widgets/base",
      "model_module_version": "1.2.0",
      "model_name": "LayoutModel",
      "state": {}
     },
     "7e5447f3cf84476fb1faa2a02a1c86fc": {
      "model_module": "@jupyter-widgets/controls",
      "model_module_version": "1.5.0",
      "model_name": "VBoxModel",
      "state": {
       "_dom_classes": [
        "widget-interact"
       ],
       "children": [
        "IPY_MODEL_e3bf3ccd72bf4c058cc88a28fc6beea9",
        "IPY_MODEL_cc4b484ba3294de4b6e62e3eb6277fe9"
       ],
       "layout": "IPY_MODEL_9100ed790e284562b60163d8f155f56b"
      }
     },
     "7f1bd4dc1fe44e5b827d452309a88abe": {
      "model_module": "@jupyter-widgets/base",
      "model_module_version": "1.2.0",
      "model_name": "LayoutModel",
      "state": {}
     },
     "8100842a195e4a1394b7096c291acc75": {
      "model_module": "@jupyter-widgets/base",
      "model_module_version": "1.2.0",
      "model_name": "LayoutModel",
      "state": {}
     },
     "817f299648bb46b381a2897dabd3933b": {
      "model_module": "@jupyter-widgets/base",
      "model_module_version": "1.2.0",
      "model_name": "LayoutModel",
      "state": {}
     },
     "81d2d55c57bb4b6f906a254484a4a5f8": {
      "model_module": "@jupyter-widgets/output",
      "model_module_version": "1.0.0",
      "model_name": "OutputModel",
      "state": {
       "layout": "IPY_MODEL_9c8752e24f0f4719bcc4a3ce8c11be88",
       "outputs": [
        {
         "data": {
          "image/png": "iVBORw0KGgoAAAANSUhEUgAAAYIAAAEWCAYAAABrDZDcAAAABHNCSVQICAgIfAhkiAAAAAlwSFlz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\nzKzinAjMzCrOicDMrOJ+AqBuYcsdA4hxAAAAAElFTkSuQmCC\n",
          "text/plain": "<matplotlib.figure.Figure at 0x1a1cc4ab00>"
         },
         "metadata": {},
         "output_type": "display_data"
        },
        {
         "name": "stdout",
         "output_type": "stream",
         "text": "\n"
        },
        {
         "data": {
          "text/plain": "'Mean Squared Error: 3.0349999999999984'"
         },
         "metadata": {},
         "output_type": "display_data"
        }
       ]
      }
     },
     "8266076426ce48fba22c01a5a58b4f22": {
      "model_module": "@jupyter-widgets/controls",
      "model_module_version": "1.5.0",
      "model_name": "DescriptionStyleModel",
      "state": {
       "description_width": ""
      }
     },
     "82cf6b20f08d4c0188180202d5eb28a2": {
      "model_module": "@jupyter-widgets/base",
      "model_module_version": "1.2.0",
      "model_name": "LayoutModel",
      "state": {}
     },
     "833d60bc372b4319b48edaa9559a7438": {
      "model_module": "@jupyter-widgets/output",
      "model_module_version": "1.0.0",
      "model_name": "OutputModel",
      "state": {
       "layout": "IPY_MODEL_1e3e0646e59c4d87b6d31068de5a5769",
       "outputs": [
        {
         "data": {
          "image/png": "iVBORw0KGgoAAAANSUhEUgAAAYIAAAEWCAYAAABrDZDcAAAABHNCSVQICAgIfAhkiAAAAAlwSFlz\nAAALEgAACxIB0t1+/AAAADl0RVh0U29mdHdhcmUAbWF0cGxvdGxpYiB2ZXJzaW9uIDIuMS4wLCBo\ndHRwOi8vbWF0cGxvdGxpYi5vcmcvpW3flQAAIABJREFUeJzs3Xd8FHX++PHXO70CSegEkhCa9BKR\nThR7V+wV9Sx49lN/ekWv2O6r5+nd2RtyKljx1FMPFRMQ6UVFIXRIqCEQUkjP5/fHTMImpGyS3Ux2\n834+HvvI7s7szHuzu/Oe+VQxxqCUUqr9CnA6AKWUUs7SRKCUUu2cJgKllGrnNBEopVQ7p4lAKaXa\nOU0ESinVzmki8CMicoGIZIpIgYiMasX9ThaRjAaWzxKRR+pZdqWIzPdSXKkikuXmujNE5DtvxNFe\niEiiiBgRCXI6FtU07TYRiMh2ETnZ6Thc2T+ifi3YxFPAbcaYKGPMmjq2LyJyh4isE5FCEckSkfdF\nZFgL9okxZpExZmAzX/u2MebUluzfPogbEbmkJdtpi+pLZiKSJiK/ciImf9LQSYrLOsb+vRSIyC4R\neVpEAt3cvtsnI05qt4nATyUAPzew/FngTuAOIBYYAHwMnOX90LzqWuCg/VcpbxhhjIkCpgKXAtc7\nHI9nGWPa5Q3YDpxs358BLAb+DuQCW4EJ9vOZwH7gWpfXzgJeBL4C8oF0IMFl+bP26/KAVcBkl2WB\nwG+BLfZrVwG9gYWAAQqBAuDSOmIOAH4P7LBjmg10BELt11S9fksdr+0PVABjG/ifdLS3mW3v4/f2\nPkPt/8tQl3W7AEVAVyAVyHJZNgpYbb+/d4G5wCP17HMG8J3LYwPcAmwCDgHPAdJAzAlAJTAdKAe6\nuSyrHdcDLv/3X4ALasWxGPgncBjYAExzWX4dsN5+7Vbg5tr7Ae63P5c9wPnAmcBGrCT1W5f1xwJL\n7P/pHuBfQEg976/Ge3B5Pg34lX3/j8B79meXj3UykOKybk/gQ/tz3Qbc4bLsj8D7wFv2a3/COkF4\n0H4vmcCptfb7OLDc/j/9B4i1lyXan1+Qy34/sd//ZuBG+/nuwBEgzmW7Y+z4gmn67zEU62p4J7AP\n67cZXuuz+Y3LZ3OdvewmoAwoxfr9fFrPZ2CAfi6P3wOea+y7AURi/UYq7e0X2P+TAI5+F3Ps7cU6\nejx0cueOvvFjE0G5/YEGAo/YX6rn7C/ZqfaHHGWvP8t+PMVe/iw1D2ZXAXFAkP0F3AuE2cvus39s\nAwEBRlT9IGp/4eqI+Xr7B9UXiAI+Av5d3xe21mtvAXY08j+ZjfXDjsb6UW8EbrCXvQ486rLur4Ev\n7fup2AcrIAQridyN9aO+yP6xNSURfAZ0AvpgHRxObyDmPwDL7fs/Afe4LKuOy358scsP8VKspNmj\n1negKu5LsQ50VQe5s4Bk+zObinUgG+2yn3LgIfu1N9pxv2P/L4cAxUBfe/0xwDj7+5GIdRC5q573\nV+M9uDyfRs1EUIyVeAKxDtRL7WUBWCcbD9mfTV+sg9VptV57mh3PbKxk8TuX97Kt1n53AUOxDnQf\nAm/ZyxKpmQjSgeeBMGCk/T+ZZi/7HJjpst2/A/9s5u/xGayEE2v/vz8FHq/12fzZfj9n2p9djMtv\nuc7vZl2/K2AQVjK522V5Y9+NrFrbuwtYCsTb7+clYI6jx0Mnd+7oGz82EWxyWTbM/vBdzy5zgJEu\nX565LsuisM62e9ezr0NYl5YAGcB5jX3h6ln+DXCry+OBWAfZoMZej/XDXtrAtgOBEmCwy3M3A2n2\n/ZOBrS7LFgPX2Perv+xYyXE3LmfxwPf1/dioOxFMcnn8HvBAA3Fvwj6IYp3F/uCy7JgfYa3Xrq36\nLOw4ase9HLi6ntd+DNzpsp8iINB+HG2/jxNc1l8FnF/Ptu4C5tWzrM73wLGJ4GuXZYOBIvv+CcDO\nWq99EHjD5bVfuSw7B+vMtfZ76eSy3ydq7avU/v4k2usGYV3lVgDRLus+Dsyy718KLHb57u3Fvlql\nCb9HrINvIZDssmw8dvJy+WyCXJbvB8a5/JbdSQR59n4MMAcIbWD92t+N2olgPTWvNnvg8jt24qZ1\nBEftc7lfBGCMqf1clMvjzKo7xpgCrMvfngAi8hsRWS8ih0UkF6vIpbO9em+sS8Lm6Il1tl1lB9aP\nrpsbr83B+sLVpzNHz+Zdt9/Lvr8ACBeRE0QkAetHOK+eGHcZ+xvusp2m2Oty/wg1/+/VRGQikIRV\n9ATWGfgwERlZz/rXiMhaEcm1P5ehHP1cqCfuqs/0DBFZKiIH7deeWeu1OcaYCvt+kf23zu+PiAwQ\nkc9EZK+I5AGP1dqWq3KsM9nagrEOHlVq/8/C7NY7CUDPqvdsx/5ban5nasd5oI73Uud3H+t/FFxH\n/D2Bg8aY/FrrVn2f/gMMFpG+wCnAYWPM8gZiqu/32AWIAFa5vL8v7eer5Bhjyl0e1/udasBo+zWX\nYiXXyKoFbnw3aksA5rnEux4rabrzO/YKTQTN17vqjohEYV2W7haRycD/Ay7BuvzshFXEIPbqmViX\nkc2xG+tLVKUP1oFiX92r1/ANEC8iKfUsP4B1YKm9/V0AxphKrLPzy4ErgM9q/cir7AF6iYi4PNfH\njfia41qs/+taEdkLLLOfv6b2inbyegW4DasorhOwjqOfC9Qd924RCcUqAnkK66y0E1bRhuu6TfEC\nVh1Ef2NMB6wDc33b2gl0tr9jVe9FsD4ndxJsJtbZcSeXW7Qx5sxmxg4u332s/1EZ1vfH1W4gVkSi\na61b9X0qxvo+XQlcDfy7mbEcwEoKQ1zeX0djVey6wzS+ir2i5T2s+p2HANz4btS1/UzgjFqfSZgx\nZpe7sXiaJoLmO1NEJolICPAXYJkxJhPrUrocqzw0SEQeAjq4vO5V4C8i0t9uzjlcROLsZfuwynDr\nMwe4W0SS7APDY8C7tc526mSM2YRVXjvHbtIWIiJhInKZiDxgnwG+BzwqItH2gfMerErEKu9gnRFd\nad+vyxL7/d8hIkEiciFW5ahHiUgYVrK9CevqpOp2O3BlHW3ZI7F+lNn266/DuiJw1dWOO1hELgaO\nw/pRh2CV5WYD5SJyBlY5dXNFYxU1FIjIIGBmfSsaY3ZiJbi/ikiUfeC5D+t/vNSNfS0H8kTk/4lI\nuIgEishQETm+BfFfJSKDRSQCq+z9A5criKq4M7GKBB+3v2fDgRuAt11Wm41VDHQuNb9nbrNPUF4B\n/i4iXQFEpJeInObmJhr7zdXlCeAmEelO49+NfUCciHR0ee5FrN9Zgh1vFxE5r4kxeJQmguZ7B3gY\nq0hoDNbBEeB/wBdYFa07sCriXC+ln8Y64M7HOhi8BoTby/4IvGlfMtbVJv51rDOnhVgVesVYBz53\n3YHVQuU5rNYYW4ALsCrXsLdViFWZ+J39Hl+verExZpm9vKf9Ho9hjCkFLsT6gR/CShwfNSFGd52P\ndSY42xizt+qG9f8MBE6vFdcvwN+wEtU+rHLnxbW2uQyrddUB4FHgImNMjn3lcwfW53YI64rokxbE\nfq+9jXysg9i7jax/KVaS2ox1Rj0NONM+q26QfYA+BytJbsN6b69iFVc217+xytb3YlUE31HPepdj\n1RvsxipGfNgY85VLbIuxWtSsNsZsb0E8/w/rf7PULmr7Gqv+zB2vYRVR5YrIx+68wBjzE1ZF+H2N\nfTeMMRuwTuC22vvoidW45BNgvojkYyX0E9yM1yukZpGocoeIzMKqAPq907Eo1ZpEJA2rldCrHtre\nAuAdT21PNY92BVdKOcIunhoNOFosorRoSCnlABF5E6sI5656Gh2oVqRFQ0op1c7pFYFSSrVzPlFH\n0LlzZ5OYmOh0GEop5VNWrVp1wBjTpbH1fCIRJCYmsnLlSqfDUEopnyIibvXq16IhpZRq5zQRKKVU\nO6eJQCml2jmfqCNQSvmfsrIysrKyKC5udKQM1YiwsDDi4+MJDq5roNrGaSJQSjkiKyuL6OhoEhMT\nqTnoq2oKYww5OTlkZWWRlJTUrG1o0ZBSyhHFxcXExcVpEmghESEuLq5FV1aaCJRSjtEk4Bkt/T9q\nIlD+zxhY9SYUHXI6EqXaJE0Eyv/tWgWf3gH/01HDVU2BgYGMHDmSoUOHcvHFF3PkyJFmbystLY2z\nzz4bgE8++YQnnnii3nVzc3N5/vnnm7yPP/7xjzz11FPNjrE+mgiU/8u0Z7Bc+zbsXutsLKpNCQ8P\nZ+3ataxbt46QkBBefPHFGsuNMVRWVjZ5u+eeey4PPPBAvcubmwi8RROB8n9ZKyCqO0TEwv9+ZxUV\nKVXL5MmT2bx5M9u3b+e4447j1ltvZfTo0WRmZjJ//nzGjx/P6NGjufjiiykoKADgyy+/ZNCgQUya\nNImPPjo6Ed+sWbO47bbbANi3bx8XXHABI0aMYMSIEXz//fc88MADbNmyhZEjR3LfffcB8OSTT3L8\n8cczfPhwHn744eptPfroowwcOJCTTz6ZjIwMr7x3bT6q/F/mCkicCH3Gw+f3wobP4LhznI5KufjT\npz/zy+48j25zcM8OPHzOELfWLS8v54svvuD0060ZTjMyMnjjjTd4/vnnOXDgAI888ghff/01kZGR\n/PWvf+Xpp5/m/vvv58Ybb2TBggX069ePSy+9tM5t33HHHUydOpV58+ZRUVFBQUEBTzzxBOvWrWPt\nWusKdf78+WzatInly5djjOHcc89l4cKFREZGMnfuXNasWUN5eTmjR49mzJgxnvkHudBEoPxb3m7I\ny4L422DMdbDiVZj/B+h/KgSFOh2dclhRUREjR44ErCuCG264gd27d5OQkMC4ceMAWLp0Kb/88gsT\nJ04EoLS0lPHjx7NhwwaSkpLo378/AFdddRUvv/zyMftYsGABs2fPBqw6iY4dO3LoUM2GC/Pnz2f+\n/PmMGjUKgIKCAjZt2kR+fj4XXHABERERgFXk5A2aCJR/y1xu/Y0fC4FBcOqj8PZ0WP4yTLjd2dhU\nNXfP3D2tqo6gtsjIyOr7xhhOOeUU5syZU2OdtWvXeqz5qzGGBx98kJtvvrnG888880yrNLHVOgLl\n37JWQFAYdB9mPe5/MvQ7GdKfhMIDzsamfMK4ceNYvHgxmzdvBuDIkSNs3LiRQYMGsW3bNrZs2QJw\nTKKoMm3aNF544QUAKioqyMvLIzo6mvz8ozN0nnbaabz++uvVdQ+7du1i//79TJkyhXnz5lFUVER+\nfj6ffvqpV96jJgLl3zKXQ4+REBRy9LlTH4XSAkh73Lm4lM/o0qULs2bN4vLLL2f48OGMGzeODRs2\nEBYWxssvv8xZZ53FpEmTSEhIqPP1zz77LN9++y3Dhg1jzJgx/Pzzz8TFxTFx4kSGDh3Kfffdx6mn\nnsoVV1zB+PHjGTZsGBdddBH5+fmMHj2aSy+9lJEjRzJ9+nQmT57slffoE3MWp6SkGJ2YRjVZeQk8\nHg8n3AynPlJz2X9/AyvfgJnfQ9dBzsTXzq1fv57jjjvO6TD8Rl3/TxFZZYxJaey1ekWg/Nfen6Ci\n1KofqC31txASBfN/1/pxKdXGaCJQ/qu6ovj4Y5dFxsHU+2Dz17Dp69aNS6k2RhOB8l9Zy6Fjb+jQ\no+7lY2+CmCTrqqCivHVjU6oN0USg/FfmirqvBqoEhcKpf4HsDbDqjdaLS6k2RhOB8k9VHcl611E/\n4GrQ2ZAwCb59DIpyWyc2pdoYTQTKP7l2JGuICJz+mDVE9cInvR+XUm2QJgLln2p3JGtIjxEw8kpY\n9hLkbPF+bKpNmTdvHiLChg0bGlxv1qxZ7N69u9n7cR2muq3RRKD8U9aKYzuSNWTaHyAwBL56yLtx\nqTZnzpw5TJo0iblz5za4XksTQVumiUD5n/JSa96B3g1UFNcW3R0m3W2NTLptkfdiU21KQUEBixcv\n5rXXXquRCP7v//6PYcOGMWLECB544AE++OADVq5cyZVXXsnIkSMpKioiMTGRAwesYUpWrlxJamoq\nAMuXL2fChAmMGjWKCRMmeG3oaE/SQeeU/9n7I1SUNNxiqC4TboNVs+B/v4Wb0iAg0AvBqTp98YDV\nAdCTug+DM+qfJQzg448/5vTTT2fAgAHExsayevVq9u3bx8cff8yyZcuIiIjg4MGDxMbG8q9//Yun\nnnqKlJSGO+oOGjSIhQsXEhQUxNdff81vf/tbPvzwQ0++M4/TRKD8j7sVxbUFh8PJf4SPfgU/zIFR\nV3k6MtXGzJkzh7vuuguAyy67jDlz5lBZWcl1111XPfRzbGxsk7Z5+PBhrr32WjZt2oSIUFZW5vG4\nPc1riUBEXgfOBvYbY4bazz0JnAOUAluA64wx2mZPeVZjHckaMuwiWPYifPNnGHw+hEZ5Pj51rEbO\n3L0hJyeHBQsWsG7dOkSEiooKRITp06e7NfRzUFBQ9TSWxcXF1c//4Q9/4MQTT2TevHls3769usio\nLfNmHcEs4PRaz30FDDXGDAc2Ag96cf+qvWqsI1lDROD0x6FgHyx+xrNxqTblgw8+4JprrmHHjh1s\n376dzMxMkpKSiI2N5fXXX6+eyP7gwYMAxwwdnZiYyKpVqwBqFP0cPnyYXr16AVYFsy/wWiIwxiwE\nDtZ6br4xpqov/1Ig3lv7V+2Uux3JGtJ7LAydDt//E3IzPRebalPmzJnDBRdcUOO56dOns3v3bs49\n91xSUlIYOXIkTz31FAAzZszglltuqa4sfvjhh7nzzjuZPHkygYFH65Puv/9+HnzwQSZOnEhFRUWr\nvqfm8uow1CKSCHxWVTRUa9mnwLvGmLfqee1NwE0Affr0GbNjxw6vxan8yM8fw/vXwq8WQHwL5nbN\n3Qn/Ot6a23j6q56LT1XTYag9y+eGoRaR3wHlwNv1rWOMedkYk2KMSenSpUvrBad8W9YKCAx1ryNZ\nQzr1gfG/hp/ehyydC0P5t1ZPBCJyLVYl8pXGF2bFUb4lawX0bEJHsoZMuhuiusGXD4J+VZUfa9VE\nICKnA/8PONcYc6Q1963agaqOZM2tKK4tNBpO+r3VCmld224H7qv0XNAzWvp/9FoiEJE5wBJgoIhk\nicgNwL+AaOArEVkrIi96a/+qHarqSNaSiuLaRl5pFTN9/UcoK/LcdhVhYWHk5ORoMmghYww5OTmE\nhYU1exte60dgjLm8jqdf89b+lGp2R7KGBATCaY/Bm+fAkudgyr2e23Y7Fx8fT1ZWFtnZ2U6H4vPC\nwsKIj29+I0ztWaz8R0s6kjUkaQoMPAu++zuMuhqiu3l2++1UcHAwSUlJToeh0EHnlD9pSUeyxpz6\nFygvgQV/8c72lXKQJgLlHzzRkawhccnWHMdr3oI9P3pnH0o5RBOB8g9ZK6y/nqwfqG3qfRAeY41O\nqhWcyo9oIlD+IXO5ZzqSNSQ8BlIfhO2LIONz7+1HqVamiUD5B092JGtIynXQeQDM/73Vb0EpP6CJ\nQPk+T3cka0hgMJz6KBzcCite8f7+lGoFmgiU7/NGR7KG9D8Fkk+C9L/CkYONr69UG6eJQPk+b3Qk\na4iIdVVQkg9pj7fOPpXyIk0EyvdlrfBOR7KGdBsMY2bAitcgu+1PTq5UQzQRKN+X5cWOZA058XcQ\nEmlVHCvlwzQRKN+WtwcOZzqTCCI7W2MPbZoPm79p/f0r5SGaCJRvy7LrBxqpKN6wN4/KSi90Ajvh\nFohJhP/9DirKG11dqbZIE4HybdUdyYbXu0rG3nxOf2YRr3631fP7DwqFU/4M2eth9Zue375SrUAT\ngfJtbnQk+2bDPgBeWbSN4jIvTCZ+3LmQMBG+fQyKD3t++0p5mSYC5bvc7EiWnpFNdFgQ2fklfLg6\ny/NxiMBpj8KRHFj4lOe3r5SXaSJQvmvvT412JMsvLmPVjkNceUICI+I78lL6VsorKj0fS89RMOJy\nWPYiHNzm+e0r5UWaCJTvymq8I9nizTmUVxpSB3ZhZmoyOw8e4fN1e70Tz7SHICAIvnrIO9tXyks0\nESjflbkcOsQ32JEsfeN+okKDGJMQw6mDu5PcJZIX0rZ4Z57cDj1g4l2w/hPYvtjz21fKSzQRKN+V\ntQJ6118/YIwhPSObif3iCA4MICBAuGVqMuv35JGW4aV5cifcDh16WXMWVHqhCEopL3A7EYhIpDcD\nUapJqjuS1V8stGl/AbsPF5M6sGv1c+eN7EXPjmE8n7bZO3GFRMC0h2HPWvhxrnf2oZSHNZoIRGSC\niPwCrLcfjxCR570emVINcaMjWbp91j91QJfq50KCArhxSl9WbD/Eiu1eGjl02MXQczR882coLfTO\nPpTyIHeuCP4OnAbkABhjfgCmeDMopRrlRkeytI37GdAtip6dwms8f9nxfYiNDOGFtC3eiS0gAE5/\nHPL3wOJnvbMPpTzIraIhY0xmrae80CtHqSZopCNZYUk5K7YdqnE1UCU8JJAZExJZsGE/6/fkeSe+\nPuNgyAWw+B9weJd39qGUh7iTCDJFZAJgRCRERO7FLiZSyhFudCRbujWH0orKGvUDrq4dn0hkSKD3\nrgoATv4TmEr45k/e24dSHuBOIrgF+DXQC8gCRgK3ejMopRpU1ZGsgUSQlpFNREggKYkxdS7vGBHM\nleMS+OzH3ezI8VI5fkwCjL8VfnwXslZ5Zx9KeYA7iWCgMeZKY0w3Y0xXY8xVwHHeDkypejVSUWyM\nIW3jfiYkxxEaFFjvZm6YlERQQAAvLfTCYHRVJt0DkV2s5qTe6LuglAe4kwj+6eZzSrWO6o5kPetc\nvO1AIZkHi+qsH3DVrUMY08fE88HKLPbnFXsjUgjrACf9HjKXws/zvLMPpVqo3kQgIuNF5DdAFxG5\nx+X2R6D+0yylvK2RjmTpG6uajdZdP+Dq5il9Ka+s5LXFXhwfaNTV0G0ofP0wlHkp4SjVAg1dEYQA\nUUAQEO1yywMuamzDIvK6iOwXkXUuz8WKyFcissn+W3cBrlL1caMjWVpGNn07R9InLqLRzSV2juTM\nYT14e+lODheVeTLSowICrdFJc3fCUu2Co9qeehOBMSbdGPMnYJwx5k8ut6eNMZvc2PYs4PRazz0A\nfGOM6Q98Yz9Wyn2N1A8Ul1WwdGsOUwc2XCzkamZqMgUl5fx7yfaWx1efvqkw4AxY9DQU7PfefpRq\nBnfqCI6IyJMi8rmILKi6NfYiY8xCoHbXzfOAqmmc3gTOb1q4qt3LWtFgR7KlW3MoKa9stH7A1ZCe\nHUkd2IXXF2+nqNSLXWROfQTKi2DBI97bh1LN4E4ieBvYACQBfwK2Ayuaub9uxpg9APbfxgtxlXKV\nuQJ6jKi3I1n6xmxCgwIY1zeuSZu9NbUfBwtLeXfFTk9EWbfO/eD4G2HNv2HvusbXV6qVuJMI4owx\nrwFldnHR9cA4L8eFiNwkIitFZGV2tpdGilS+pbwUdq9pdHyhcX3jCAtuWnuGsUmxpCTE8MqibZR5\nY+KaKlPvh9AO2pxUtSnuJIKqGrQ9InKWiIwC4pu5v30i0gPA/ltvYakx5mVjTIoxJqVLF/cv85Uf\na6Qj2c6cI2w9UEhqE+oHXM1MTWZXbhGfrN3dkigbFhELqQ/CtnTY+KX39qNUE7iTCB4RkY7Ab4B7\ngVeBu5u5v0+Aa+371wL/aeZ2VHvUSEVx+kbrvKIp9QOuThrUlUHdo3khfQuVlV48Wz/+BojrD/N/\nb13lKOWwRhOBMeYzY8xhY8w6Y8yJxpgxWC1+GiQic4AlwEARyRKRG4AngFNEZBNwiv1YKfc00pEs\nfWM2fWIjSOrcvKkzRISZqcls3l/AV+v3tSTShgUGW81JczbDyte8tx+l3NRgIhCRXiKSIiIh9uOu\nIvIY0GjzUWPM5caYHsaYYGNMvDHmNWNMjjFmmjGmv/3XSwPCK7/UQEeykvIKvt+Sw9QBXRCRZu/i\nrGE96BMbwfPems6ySv9Toe+JkPYEHNGfgXJWQz2L7wLWYg0nsVRErsUadTQcGNM64Slla6Qj2crt\nhzhSWtHs+oEqQYEB3DSlLz9k5rJkS06LttUgETjtMSjJg/S/em8/SrmhoSuCm7AGnBuP1d7/FeAs\nY8zdVU1AlWo1WXaL5XoqitMy9hMSGMD45KY1G63LRWPi6RwVyvPeHKIaoNtgGH0trHgVDrjTR1Mp\n72goERRXFd0YY3YCG40xS1snLKVqyVoOgSHQo+6OZOkbsxmbFEtESFCLdxUWHMgNk5L4bvMBfszK\nbfH2GnTi7yA4wqo4VsohDSWCeBH5R9UN6FrrsVKtJ3MF9BgJQaHHLNqdW8TGfQXNbi1Ul6vG9SE6\nLMi7E9cARHWByb+xmpJu+da7+1KqHg0lgvuAVS632o+Vah2NdCSrGm20pfUDrqLDgrlmfAJf/ryX\nzfsLPLbdOo2bCZ0S4H+/g0qdBVa1voYGnXuzoVtrBqnauUY6kqVl7KdnxzD6dY3y6G6vm5hESGAA\nL6V7+aogKBRO+TPs/xlWz/buvpSqg1uT1yvlqAY6kpVVVLJ4cw5TB3ZtUbPRunSOCuWy43szb80u\nducWeXTbxxh8HvSZAN8+CsV53t2XUrVoIlBtX9aKejuSrdpxiIKSco/WD7i6cUpfDPDKIi9OZwl2\nc9JHoTAbFv3Nu/tSqpZGE4GITHTnOaW8JnMFxKfUuSh9YzZBAcLEfi1vNlqX+JgIzhvRk7nLMzlY\n6OXhIHqNhhGXW5PXHNru3X0p5ULnLFZtW/5eOLyz3oritIxsxiTEEB0W7LUQbklNpqisglnfb/fa\nPqpNewgCguCT2633rlQr0DmLVduWadcP1NGjeF9eMev35JE60LvTWgzoFs0pg7vx5vfbKSgp9+q+\n6NDT6nG8cyn8YzQsfErnOVZe57U5i5XyiAY6kh2dpN77w5TfmprM4aIy5izz4sQ1VVKug18vg+QT\nYcFf4Lnj4eePdf4C5TX1dsM0xqQD6SIyyxizoxVjUuqoBjqSpW/Mpmt0KMf1iPZ6GKP6xDC+bxyv\nfreVayYkEBrk5Yvi2L5w2duwNR2+fBDevxYSJsHpj9fbu1qp5nKnjiBURF4WkflNmbNYqRZroCNZ\neUUlizZmt3i00aaYmZrMvrwS5q3e1Sr7A6DvVLh5IZz9d8heDy9NseoPCuqd00mpJnNnYJb3gRex\nJqTRbo+q9TTQkeyHrFzyistyhTBbAAAgAElEQVS9Xj/ganL/zgzt1YGXFm7l4pTeBAa0TgIiMAhS\nrochF8LCJ2HZi7BuHky9D064pc6rJaWawp0rgnJjzAvGmOXGmFVVN69HplQDI46mZWQTIDCpX+dW\nC0dEuDW1H9sOFPLFOgcG4A3vZPU1uHUZJE6Erx6C506A9Z9p/YFqEXcSwacicquI9BCR2Kqb1yNT\nKms5dOgFHXsdsyh9Yzaj+8TQMcJ7zUbrctqQ7vTtHMnz33p54pqGdO4HV7wLV31kXQ28eyXMPg/2\n/exMPMrnuZMIrsUacO57jg44t9KbQSkF2B3Jjr0aOFBQwo9Zh1ultVBtgQHCLVOT+WVPXnWrJcf0\nmwa3LIYznoS9P8KLk+Czu6HwgLNxKZ/jzpzFSXXc+rZGcKoda6Aj2aJNVaONtl79gKvzR/Wie4cw\n709c447AIDjhJrh9NRx/I6x60+p/sOQ5q7JdKTe4M8REhIj8XkReth/3F5GzvR+aatca6EiWlpFN\n56gQhvTs0MpBWUKCAvjV5CSWbzvIqh1tZL7hiFg48/9g5vfWcBz/+y28MB42/k/rD1Sj3CkaegMo\nBSbYj7OAR7wWkVJQb0eyikrDwo3ZTOnfhYDWarVTh8vH9qFTRLD3J65pqq6D4KoP4Yr3AYF3LoG3\npsP+DU5HptowdxJBsjHm/4AyAGNMEeDcL1C1D/V0JPtp12EOHSljqgcnoWmOyNAgZkxI5Ov1+8nY\nm+9oLMcQgQGnwq1L4LTHYddKeGECfH4/HGkjVzCqTXEnEZSKSDhgAEQkGSjxalSqfSsvhT1r66wo\nTs/IRgQm93c2EQDMmJBIREggL6RtdjqUugUGw/hb4fY1MGYGrHgF/jkalr0MFV4eM0n5FHcSwcPA\nl0BvEXkb+Aa436tRqfZt309QXgy96+g/sHE/w+M7ERsZ4kBgNXWKCOGKsX349Mc9ZB484nQ49YuM\ng7Ofhlu+g+7D4Yv74MWJsPlrpyNTbYQ7rYa+Ai4EZgBzgBRjTJp3w1LtWmZVR7KaFcWHCkv5ITOX\nVAeajdbnV5P7EiDw0sI2VldQl25D4Jr/wGXvQHmJVXfw9iVwYJPTkSmHuTtDWS+soadDgCkicqH3\nQlLtXj0dyRZtPkClwfH6AVfdO4Zx4ah43luZRXa+D5SYisCgs6zRTU/5C+xcAs+Pgy9/C0W5Tken\nHOJO89HXgdeB6cA59k2bjyrvqacjWXpGNp0ighkR38mBoOp389S+lFVU8vribU6H4r6gUJh4B9y+\nCkZeac2K9s/RsOI1rT9oh9y5IhhnjEkxxlxrjLnOvl3v9chU+1RPR7LKSkP6xmwm9+/SeoO9ualv\nlyjOHNqDt5bsIK+4zOlwmiaqK5z7D2uE0y7HwX/vsUY43ZrudGSqFbmTCJaIyGCvR6IU1NuR7Jc9\neRwoKGlT9QOuZqYmk19Szr+X+OjUHT2Gw4zP4JLZUJoPs8+FuVdCjg/UfTTEGGvI7swV8OP7kP4k\nZHzpdFRtjjvDUL+JlQz2YjUbFcAYY3R2DOV5WSvq7EhWNa7PlDaaCIb26siUAV14Y/E2bpiURFiw\nD87mKgKDz4P+p8HS52DR01b9wQm3wJT7IMyZntyNKiuC3J1waHvdt7I6WnSd/wKMvKI1o2zT3EkE\nrwNXAz8BlZ7YqYjcDfwKq2/CT8B1xhidmFVZiaDHiGM6kqVnZDO0Vwe6RLfdsfdnTk3m8leW8t7K\nTK4Zn+h0OM0XHAaTf2PVHXzzF/j+n/DDHDjpDzDqKgho5SRXWQkF+2oe3HN3HL2fX2tI8OAIiEm0\nbn1Tj97vlADR3eD9GfCfX0NIpJX4lFuJYKcx5hNP7VBEegF3AIONMUUi8h5wGTDLU/tQPqpqRrKU\nG2o8fbiojFU7D3HL1LY91uG4vrGM6tOJl9K3cvnYPgQHutsor42K7g7nPwdjfwVfPACf3gErXoXT\nn7DmQ/CkkgL74L7j2DP63B1Wv5JqYrUqi0mE5GkQk3D0YB+TCJFdrKub+lz2Dvz7AvjgBrgiEvqd\n7Nn34oPcSQQbROQd4FNcehQbYz5q4X7DRaQMiAB2t2Bbyl/U05Hs+80HqKg0jo026q6qiWtunL2S\nz37czQWj4p0OyTN6joLrv4SfP4KvHoZZZ1pn0qf8xToIu6Oywjpzr6/4prDWkN4h0RCbCJ37Q/9T\n7IN8kn1m37tls7KFRMIV78GbZ8Pcq+DqjyBhQuOv82PuJIJwrARwqstzBmhWIjDG7BKRp4CdQBEw\n3xgzv/Z6InITcBNAnz59mrMr5Wvq6UiWlpFNdFgQo3q3rWajdZk2qCsDukXxQtoWzhvRy9GB8TxK\nBIZOh4FnWkVF3/3dqnSdcBtMugdCo6A4r+6z+UPbrTL8CpdhsSXQ6icSkwgDz6h5Rh+TBOExDZ/V\nt1R4J7hqHrxxhtWpbsanVsJrp6SxWZZEJNYY47GRqkQkBvgQuBTIxZoT+QNjzFv1vSYlJcWsXKlz\n4fi9D66HnUvhnl+qnzLGMP7xBYxO6MTzV45xMDj3zVuTxd3v/sAr16RwyuBuTofjHYd3wTd/hh/n\nWgdtBIpqHSbCOtU6wLvcOsZbYyE57fAueP10KC2A676wRm/1IyKyyhiT0th67lwRLBORtVjDUX9h\nWj4/38nANmNMNoCIfIQ1xHW9iUC1E3V0JMvYl8/evGJHZiNrrnOG9+Rv8zfyfNpmTj6uK+LNM1un\ndOwFF74EY2+EZS9CaPTRCtmYRKvIKDzG6Sgb17EXXPOxdWUw+zyrCCw2yemoWp07tVkDgJexWg5t\nFpHHRGRAC/a5ExhnT3gjwDRgfQu2p/xBVUeyWokgPcMqO546oG3XD7gKCgzgpil9WbMzl6Vb/XzY\n5/gUmP4qnP13mHgnDDkfeo70jSRQJS4Zrv4YKkqs/hN57a/K0p1B54wx5itjzOVYTT6vBZaLSLqI\njG/qDo0xy4APgNVYTUcDsBKNas+y7PqB3sfWDwzqHk33jmEOBNV8l6T0pnNUCC+k+3iHrPai22Br\nQp8jh2D2+e1u3md3xhqKE5E7RWQlcC9wO9AZ+A3wTnN2aox52BgzyBgz1BhztTHGB0brUl6VWTUj\n2YjqpwpKylm542CbGmTOXWHBgVw3MYmFG7NZt+uw0+Eod/QaA1e8a1Vw//sCKG4/n5tbQ0wAHYDz\njTFnGWM+MsaUG2NWAi96NzzVbtTRkez7zQcoqzA+VT/g6urxCUSHBrW96SxV/RInwqVvwf71Vmui\n0kKnI2oV7iSCgcaYvwCHRSTKdYEx5q/eCUu1K1UdyWo1G03fmE1kSCApCbEOBdYyHcKCuWp8Ap+v\n28PW7AKnw1Hu6n8KTH/FGg793ausuRv8nDuJYIiIrAHWAb+IyCoRGerluFR7UkdHMmMMaRnZTOjX\nmZAg3+2he/3EJIIDA3gpfavToaimGHIBnPtP2LLAatbs50Nzu/MLexm4xxiTYIzpg1U3oJW7ynPq\n6Ei2JbuQXblFpPpg/YCrLtGhXJISz0drsthzuMjpcFRTjLrKGk5jw2fW2ESVHhlqrU1yJxFEGmO+\nrXpgT1MZ6bWIVPtTx4xkaRn7AXy2fsDVzVOSqTTw2iIfmrhGWcbNhBN/b3Wc++J+a1hrP+ROItgq\nIn8QkUT79ntAv9HKc7JWWO3RXaRvzKZf1yjiYyIcCspzesdGcM7wHryzfCeHCksbf4FqW6bcCxNu\nhxWvWL2p/ZA7ieB6oAvW2ELz7PvXeTMo1Y7k77PGoXEpFioqrWDZtoN+cTVQZWZqP46UVvDmku1O\nh6KaSsQaYG/MDPjuaWueBj/T6BATxphDWMNGK+V5WfaMZC4dyZZuzaG0vNLn6wdcDewezcnHdWXW\n99u5cXJfIkPdGd1FtRkicNbTVnPSb/5kDakx9kano/KYer+NIvIp1iijdTLGnOuViFT7UkdHsrSM\n/YQHB3J8om82G63PzNR+TH/he+Ys38mvJrftuRVUHQICrZnNSgvh83shJApGXu50VB7R0GnJU60W\nhWq/6uhIlr4xm/HJcb453WMDxiTEMDYpllcXbePq8QmEBvnX+2sXAoPhojfgnYvhP7daw28fd47T\nUbVYvXUExpj0qhtW7+JDwEFgif2cUi1TR0ey7QcK2Z5zxK/qB1zdmprM3rxi/rOm/Q1s5jeCw+Cy\nOdaQFB9cD5u/cTqiFnNnrKGzgC3AP4B/YY1Aeoa3A1PtQB0dyaomqfen+gFXUwd0YUjPDryYvoWK\nSv9sitguhEbBle9D54Ew90rYscTpiFrEnVZDfwNONMakGmOmAicCf/duWKpdyLInG3IZejotYz+J\ncREkxPlnVxURYWZqMlsPFPK/n/c6HY5qifAYa5rLjr3gnUtg91qnI2o2dxLBfmPMZpfHW4H9XopH\ntSeZyyG6pzVbFVBcVsGSrTltfm7iljpjaA8S4yJ4Pm0zLZ/nSTkqqitc8x8I6whvXQjZGU5H1Czu\nJIKfReRzEZkhItdiTWK/QkQuFJELvRyf8mdZy2sUCy3fdpDiskq/rR+oEhgg3Dw1mXW78li0qX2N\ne++XOsZbyUACrVnODm13OqImcycRhAH7gKlAKpANxALnAGd7LTLl3+roSJa+MZuQoADG9Y1zMLDW\nceHoXnTrEMrzaZsbX1m1fXHJ1pSXZUVWMsjb43RETeJOhzLtRaw8r46OZGkZ+zkhKZbwEP9vVhka\nFMivJvXl0c/Xs3rnIUb38aGpHVXdug2Bqz6yprv89/kw43OI9I2TGndaDSWJyNMi8pGIfFJ1a43g\nlB+r1ZEs8+ARtmQX+n39gKvLT+hDx/BgnbjGn8SPgcvnWsVDb13oM7OcuVM09DGwHfgnVguiqptS\nzVerI1lVs1F/rx9wFRUaxLUTEvnql31s3JfvdDjKU5ImwyWzYd86eOdSKD3idESNcicRFBtj/mGM\n+bZWJzOlmqeizO5IVrP/QHxMOMld/LPZaH1mTEgkPDiQF/WqwL8MOA0ufAUyl/nELGfuJIJnReRh\nERkvIqOrbl6PTPmvvXZHMjsRlJZX8v3mA0wd0AURcTi41hUbGcJlY3vznx92k3mw7Z85qiYYeiGc\n8yxs+QY+/FWbnuXMnUQwDLgReIKjxUI6DpFqvix7RjK7onjljoMUlla0q/oBVzdO7kuAwCuLdDpL\nvzP6GjjtcVj/CXxye5ud5cydsXAvAPoaY3RGDeUZtTqSpWdkExwojE/2jRYWntazUzjnj+zFuysy\nuWNafzpHhTb+IuU7xt8KJfmQ9pg1fPUZf7WGtW5D3Lki+AHo5O1AVDtSqyNZ+sZsjk+MJaodj9F/\nS2oypRWVvLFYJ//zS1Pvh/G3wfKXYMEjTkdzDHcSQTdgg4j8T5uPqhar1ZFsz+EiNuzNb1etheqS\n3CWK04d0Z/aSHeQXlzkdjvI0ETj1EauoaNFT8N0zTkdUgzunYA97PQrVftTqSLawerTR9lk/4Gpm\najJfrNvLW0t3MjM12elwlKeJwNnPWBPbfP2wVUx0/A1ORwW4cUVgNxXdDgTb91cAq70cl/JXWSsg\nIBi6DwcgLSOb7h3CGNAtyuHAnDc8vhOT+nXmte+2UVxW4XQ4yhsCAuGCl2DA6fDf38AP7zodEeBe\nz+IbgQ+Al+ynemF1MlOq6TLtjmTBYZRVVPLdpgOkDmx/zUbrc2tqMgcKSpi9ZDuFJW23uaFqgcBg\nuHgWJE6Cj2fC+s+cjsitoqFfA2OBZQDGmE0iotfxqumqOpKlWMNXrdmZS35JebuvH3A1PjmOkb07\n8djnG3js8w2EBwcSFxVC56hQOlf/Da1+Li4qhC72cx3DgwkI0ITqE4LD4fI5MPt8+OA6uOI9SD7R\nsXDcSQQlxpjSqjM2EQmigUnt3SEinYBXgaH2tq43xvj2FD+qcXt/gvKi6o5k6Rv3ExggTOzf2eHA\n2g4R4Y0Zx/P1+n3kFJZyIL/E+ltQQtahIn7IOszBwtI6ZzcLChBiI0OIs5NGF5eE0bmO+8GB7rQV\nUV4TGm3NcjbrbJh7BVz9MfQ5wZFQ3EkE6SLyWyBcRE4BbsWak6AlngW+NMZcJCIhQEQLt6d8Qa2O\nZGkZ2YzpE0OHsGAHg2p7YiJDuDild73LKysNuUVlHCgo4UB+CQeqE0YJB/KtpHGgsJSt2YUcKCih\npLzuTkydIoKJizyaHDpXX2VY9+OiQq2rjegQIkLab9Ner4qIhavnwRtnwNsXw4xPqwdibE3ufLoP\nADcAPwE3A59jnc03i4h0AKYAMwDsjmraWa09cOlItj+/mJ9353HfaQOdjsrnBNhn/rGRIQzoFt3g\nusYYCksrqhNFdn5pjYRRdX/93jwO5JeQV1x3vUR4cCCdo0OIi7SSRpfq+1bCiAoNIjwkkMgQ62+E\ny/2QIL3yaFB0N2tim9dPh39fCNd9AV0GtGoI7sxHUAm8Yt88oS/W5DZviMgIYBVwpzGm0HUlEbkJ\nuAmgT58+Htq1cpRLR7KFG62ZubR+wLtEhKjQIKJCg0js3PiAfiXlFRwsLLUSRaF9xVFQSk5BiZ04\nSsk6dIS1mbkcLCyhjhKqYwQFSHWSiAgJPCZhRNjPN7as9noRIUEE+kudSKfeVjJ443RrYpvrv4SY\nhFbbfaOJQEQmAn8EEuz1BTDGmL4t2Odo4HZjzDIReRbrquMPrisZY14GXgZISUnRiV19XVVHsrE3\nAVZv4i7RoQzp2cHhwJSr0KBAenQMp0fH8EbXraw0HDpSSk5hKYUl5RSVVlBYWsGRUuv+Efv+kVr3\nq5blHilld27NZfUVY9Ufb0CTk8mQnh04oS3Ogte5n1VPMOvMo8kgunur7NqdoqHXgLuxztw90bg5\nC8gyxiyzH3+AlQiUP6uqH4gfS0WlYdGmbKYN6qbNRn1YQIAQZ9cpeEpFpaGorIIjJccmkCOlFRSV\nlVNYUlFnonFdti+/mCMlNdcpd7l8Ofm4rvzurMEkuXGV1Kq6D7VmOXvzXKtF0XWfW/UIXuZOIjhs\njPnCUzs0xuwVkUwRGWiMyQCmAb94avuqjcpabnUk6zGCH7JyyT1SRupALRZSNQUGHC3K8rTS8koK\nS8qZuyKTfy3YxKl/T2fGhERun9a/bTVYiE+BK+bCWxdZs5xd8wmEeffK2Z1anG9F5EkPz0dwO/C2\niPwIjAQea+H2VFvn0pEsLSObAIHJ2mxUtaKQoABiIkOYmZrMt/elcsGoXrz63TZOfDKNt5ftqLNJ\nrmOSpsAlb8K+X2DHYq/vToxp+M2LyLd1PG2MMSd5J6RjpaSkmJUrV7bW7pSnVZTB472tjmSnP855\nzy0mUOCjWyc6HZlq59btOsyfPv2ZFdsPMah7NA+dM5gJyW3oBCVvN3To2eyXi8gqY0xKY+u502rI\nue5uyj+4dCTLKSjhx6xc7prWus3jlKrL0F4dee/m8Xz+014e+3w9V7yyjNOGdON3Zw6mT1wb6N7U\ngiTQFPUmAhG5p9ZTBjgAfGeM0UHTlftcOpJ9t/kAxqD1A6rNEBHOGt6Dacd15dVFW3k+bQsnP53O\n9ZOSuO2kfu1inoyG6giia906ACnAFyJyWSvEpvxF5nKI7gEdepGWkU1sZAjDenV0OiqlaggLDuS2\nk/rz7b2pnD2iBy+mbyH1yTTeW5FJZVuqP/CCelOdMeZPdT0vIrHA18BcbwWl/EzWCog/nkpjzT8w\nuX9nHRxNtVndOoTx9CUjuWZ8In/+9Gfu//BHZi/dzkNnD2FskvebcjqhyX2/jTEHsTqVKdW4gv2Q\nuwN6j2Xd7sPkFJZqsZDyCSN7d+LDmRN49rKR5BSUcslLS/j1O6vJPHjE6dA8rsmJQEROAg55IRbl\njzLtGcnix5KeYc1GNrm/JgLlG0SE80b2YsFvUrnr5P58s34f055O56n/ZfjVfBENVRb/xLHDTccC\nu4FrvBmU8iMuHcnS/rua4fEd6ezBnqhKtYbwkEDuOnkAl6T05q9fbuBf327m/VWZ3H/aIC4Y1cvn\nizobqg4/u9ZjA+TUHhxOqQbZHckOlwWyZuchfn1iP6cjUqrZenYK59nLRlXXH/zm/R+YvXQHD509\nmDEJMU6H12z1Fg0ZY3bUuu3UJKCapGpGst5jWbQ5m0ptNqr8xJiEGObdOpG/XTyCPblFTH/he+6c\nu4bduUVOh9YsOlC48p7qjmQppGdk0yEsiBHxnZyOSimPCAgQpo+J59t7U7ntxH58sW4vJ/0tjWe+\n3khRqSfG52w9mgiU92RZw4KY+ONJ35jN5AFdCNLpEZWfiQwN4t7TBvLNPVOZNqgbz3y9iZP+lsZ/\n1u6isSF82gr9VSrvybI6kq0v7Mj+/BKdhEb5td6xETx35WjevWkcsZEh3Dl3LdNf+J4fMnOdDq1R\nmgiU92Quh/jjSdtkNRtN1USg2oET+sbxyW2T+Ov0Yew8eITznlvMPe+tZV9esdOh1UsTgfIOl45k\n6RnZHNejA107hDkdlVKtIjBAuPT4Pnx7byq3TE3msx/2cOJTafxrwSaKy9pe/YEmAuUddkeywq6j\nWbXjkLYWUu1SdFgwD5wxiK/umcLk/p15av5Gpv0tnf/+uKdN1R9oIlDeYXckW1wYT3ml0foB1a4l\nxEXy0tUpvHPjCUSHBfHrd1Zz6UtLWbfrsNOhAZoIlLdkroAew/l2y2GiQoN8urONUp4yIbkz/71j\nMo9eMJTN2QWc86/vuP+DH9if72z9gSYC5Xl2RzITfzzpGdlM7BdHsDYbVQqw6g+uPCGBb+9N5YaJ\nSXy0ehcnPZXOC2lbKCl3pv5Af53K8/atg/Ii9nQYzu7DxaQO7Op0REq1OR3Dg/n92YOZf/cUxvWN\n5a9fbuCUpxfy5bq9rV5/oIlAeV6mNSNZWmEigNYPKNWAvl2iePXa45l9/VhCgwK45a1VXPHKMtbv\nyWu1GDQRKM+zO5L9d0cAA7pF0bNTuNMRKdXmTRnQhS/unMyfzxvC+r15nPWPRTz40U/kFJR4fd+a\nCJTnZS6nvGcKK7bn6tWAUk0QFBjANeMTSbs3lWvGJ/LeykzW7fb+lYH/z8qsWpfdkWxrwmWUVlRq\n/YBSzdApIoQ/njuEG6f0pVcrXFHrFYHyLLsjWXphIhEhgaQkarNRpZqrNZIAaCJQnpa1HBMQzNxd\nsUxIjiM0KNDpiJRSjdBEoDwrayUlnYey5VCF1g8o5SM0ESjPqSiDXavZEnocAFMHaP2AUr5AE4Hy\nHLsjWdqRJPp2jqRPXITTESml3KCJQHmO3ZHs/X09mKqjjSrlMzQRKM/JWk5JeDe2l8do/YBSPsSx\nRCAigSKyRkQ+cyoG5WGZy9kSehyhQYGM6xvndDRKKTc5eUVwJ7Dewf0rT7I7ki08ksi4vnGEBWuz\nUaV8hSOJQETigbOAV53Yv/KCLKt+4Kv8BJ2NTCkf49QVwTPA/UBlfSuIyE0islJEVmZnZ7deZKp5\nMpdTIUGsM0laP6CUj2n1RCAiZwP7jTGrGlrPGPOyMSbFGJPSpYseWNq8rBXsCO5Ht9hOJHWOdDoa\npVQTOHFFMBE4V0S2A3OBk0TkLQfiUJ5SUYbZtZrviq2rARFxOiKlVBO0eiIwxjxojIk3xiQClwEL\njDFXtXYcyoP2rUPKi1he3k/rB5TyQdqPQLWc3ZHsJxnI+GRtNqqUr3F0PgJjTBqQ5mQMygOylpMj\nsfRO7E9EiE5xoZSv0SsC1WLlO5ezvDyZqToJjVI+SROBapmCbIIO72B1ZX+tH1DKR/l1Ilibmcs3\n6/dxsLDU6VD8V5Y1I9nOiCH06xrlcDBKqebw6wLdt5bu4INVWQAkxkUwuk8Mo/p0YlSfGAZ1jyYo\n0K/zYKuo2LmMShNI14HjtNmoUj7KrxPBn88bwsVj4lm9M5c1Ow+xcNMBPlqzC4Dw4ECGx3dkVJ8Y\nRtvJoUt0qMMR+57CLUvYahKZOCje6VCUUs3k14kgIiSIE/rGcYI9EqYxhqxDRazeeYg1dnJ4ddFW\nyisNAL1jwxnV+2hiOK5HB0KC9KqhXhVlhGf/wBpzIhf102ajSvkqv04EtYkIvWMj6B0bwXkjewFQ\nXFbBul2HWbMzl9U7D7FsWw6f/LAbgNCgAIb16sjohBhG9e7E6IQYunUIc/IttC371hFcWUJe3Eii\nw4KdjkYp1UztKhHUJSw4kJTEWFISY6uf251bVJ0Y1uw8xKzF23m5whofr2fHMEa5JIYhPTsQGtQ+\nh1zO2/Q9HYDYQZOcDkUp1QL+nQh++gB2rYaYBIhJtG6d+kBweIMv69kpnJ6dwjlreA8ASsor+GV3\nXnVdw5qdufz3xz0AhAQGMKRXB6tIKcEqUurZMaxdVJwe2riYItOJMcOGOx2KUqoF/DsR7FsHq96A\nsiM1n4/ucTQx1L5FdYNaB/HQoEBG9YlhVJ8YIMnadF5xdVJYvfMQby/bweuLtwHQNTq0uoXS6IQY\nhvXq6JcTtUTsX8NPAQM5sWcHp0NRSrWAGGOcjqFRKSkpZuXKlc17sTFQmA2Httd9y9sNuPwPgsKg\nU0I9iSIBQuoeYrmsopL1e/JcipRy2XnQSkBBAcLgnh2qi5NG9Y6hd2y4T181lOftI+jpAXzWbSZn\nz3zC6XCUUnUQkVXGmJTG1vPvKwKwzu6julq33mOPXV5eArmZdmLY5pIkdsCO76E0v+b6kV1rFjXZ\nt+CYRIb37MHw+E5cOyERgOz8EtZmHq1reG9lFm8u2QFA56gQRlYVJ/WOYUTvjj41Ts/2td/SD4gd\nNNnpUJRSLeT/VwQtYQwcOWglhtztx15NHM4C4zLJWmCIVQdRXR9RM2GUB0eRsS+/Rl3DtgOF1ksD\nhP5do+gQ3jqtbwJNGWGmmFBTfPRvZTFhpohQl+erllmPiwirLCbUlNC9dAfdK/dSdM92OnbUoiGl\n2iK9IvAEEYiMs27xY45dXlEGhzNrJYgd1t+slVCcW2P1oPBYhsQkMiQmkatjEyE5kfzweNYdiWFJ\nTig/7i6kuKzi6O5NBYPXE0UAAAapSURBVKGmxD44lxw9OFfWPFhX37efr32AP7qspPqAHkQF7qpE\nKJVQiiWcEgmjWEIpDurAqq6nMl6TgFI+TxNBSwQGQ2xf61aXokNHE4PrbfcaWP8JVJYTDYwHxgcE\nQYeeVnVFWSGUFkJ5cdPiCQqD4AirHiMk0r4f43I/AoLtZTXuuywPiTrmfkBwOGEiaA8KpfyTJgJv\nCo+xbj1HHrusohzyd9dMELmZEBDocmCOrHm/rudc7wf4X8skpZT3aSJwSmCQVZ/QqQ8kTXE6GqVU\nO6YD6SilVDuniUAppdo5TQRKKdXOaSJQSql2ThOBUkq1c5oIlFKqndNEoJRS7ZwmAqWUaud8YtA5\nEckGdjTz5Z2BAx4Mx9t8KV5fihV8K15fihV8K15fihVaFm+CMaZLYyv5RCJoCRFZ6c7oe22FL8Xr\nS7GCb8XrS7GCb8XrS7FC68SrRUNKKdXOaSJQSql2rj0kgpedDqCJfCleX4oVfCteX4oVfCteX4oV\nWiFev68jUEop1bD2cEWglFKqAZoIlFKqnfPbRCAir4vIfhFZ53QsjRGR3iLyrYisF5GfReROp2Nq\niIiEichyEfnBjvdPTsfUGBEJFJE1IvKZ07E0RkS2i8hPIrJWRFY6HU9DRKSTiHwgIhvs7+94p2Oq\nj4gMtP+nVbc8EbnL6bjqIyJ327+vdSIyR0S8Nlus39YRiMgUoACYbYwZ6nQ8DRGRHkAPY8xqEYkG\nVgHnG2N+cTi0OomIAJHGmAIRCQa+A+40xix1OLR6icg9QArQwRhzttPxNEREtgMpxpg23+lJRN4E\nFhljXhWRECDCGJPrdFyNEZFAYBdwgjGmuZ1VvUZEemH9rgYbY4pE5D3gc2PMLG/sz2+vCIwxC4GD\nTsfhDmPMHmPMavt+PrAe6OVsVPUzlgL7YbB9a7NnFCISD5wFvOp0LP5ERDoAU4DXAIwxpb6QBGzT\ngC1tMQm4CALCRSQIiAB2e2tHfpsIfJWIJAKjgGXORtIwu6hlLbAf+MoY05bjfQa4H6h0OhA3GWC+\niKwSkZucDqYBfYFs4A272O1VEYl0Oig3XQbMcTqI+hhjdgFPATuBPcBhY8x8b+1PE0EbIiJRwIfA\nXcaYPKfjaYgxpsIYMxKIB8aKSJssfhORs4H9xphVTsfSBBONMaOBM4Bf28WcbVEQMBp4wRgzCigE\nHnA2pMbZRVjnAu87HUt9RCQGOA9IAnoCkSJy1f9v735ebArjOI6/P2XjV2SSlIWyIGliIxkLGb8X\n1iRZ2CmyUdj4sZBSyh/AwphY+JUarJCIKD+GYkVxicFKlMTX4nnkzjRz58Zc55jzeW3u3Oece8/3\n1p37Pc9znvN9WnU8J4KSyGPtZ4HuiDhXdDzNykMB14HVBYcylA5gXR53Pw0sk3Sy2JAai4g3+bEP\nOA8sLDaiIdWAWl1v8AwpMZTdGuB+RLwrOpAGlgMvIuJ9RHwDzgGLW3UwJ4ISyBdfjwFPI+JI0fEM\nR9JUSZPz32NJX9pnxUY1uIjYHREzImImaTjgakS07Mzqb0kanycMkIdZVgKlnPkWEW+BV5Jm56ZO\noJQTHAbYQImHhbKXwCJJ4/LvQyfp2mFLjNpEIOkUcBuYLakmaUvRMTXQAWwina3+mtq2tuigGpgO\nXJPUC9wjXSMo/bTM/8Q04KakR8BdoCcirhQcUyPbgO78XZgPHCw4noYkjQNWkM6wSyv3ss4A94HH\npN/qlpWaGLXTR83MrDmjtkdgZmbNcSIwM6s4JwIzs4pzIjAzqzgnAjOzinMiMAMkhaSuuudjJL3/\n02qluSrn1rrnS/+HyqdWTU4EZslnYF6+QQ7SXPPXf/F+k4Gtw+5lVgJOBGa/XSZVKYUBd59KmiLp\ngqReSXcktef2fXnti+uSnkvanl9yCJiVbw48nNsm1NXu7853jJoVzonA7LfTwPq8AEg7/SvA7gce\nREQ7sAc4UbdtDrCKVBNob64btYtU5nh+ROzM+y0AdgBzSZU7O1r5Ycya5URglkVELzCT1Bu4NGDz\nEqAr73cVaJM0KW/riYiveSGZPlKZiMHcjYhaRPwAHuZjmRVuTNEBmJXMRVId+KVAW137YMM4v+qz\nfK1r+87Q/1fN7mf2T7lHYNbfceBARDwe0H4D2AhpBhDwYZg1Iz4BE1sSodkI8xmJWZ2IqAFHB9m0\nj7QSVy/wBdg8zPt8lHRL0hPSReiekY7VbKS4+qiZWcV5aMjMrOKcCMzMKs6JwMys4pwIzMwqzonA\nzKzinAjMzCrOicDMrOJ+AqBuYcsdA4hxAAAAAElFTkSuQmCC\n",
          "text/plain": "<matplotlib.figure.Figure at 0x1a120fc8d0>"
         },
         "metadata": {},
         "output_type": "display_data"
        },
        {
         "name": "stdout",
         "output_type": "stream",
         "text": "\n"
        },
        {
         "data": {
          "text/plain": "'Mean Squared Error: 3.0349999999999984'"
         },
         "metadata": {},
         "output_type": "display_data"
        }
       ]
      }
     },
     "83890fb2dba74c41b57565f68d811eef": {
      "model_module": "@jupyter-widgets/base",
      "model_module_version": "1.2.0",
      "model_name": "LayoutModel",
      "state": {}
     },
     "8460de5f4da3408faffe16c93b65c2a1": {
      "model_module": "@jupyter-widgets/controls",
      "model_module_version": "1.5.0",
      "model_name": "VBoxModel",
      "state": {
       "_dom_classes": [
        "widget-interact"
       ],
       "children": [
        "IPY_MODEL_d2675fb3d5c843b392985000ab09ee8c",
        "IPY_MODEL_19c8b1efc18c4584b1f77b082d034317"
       ],
       "layout": "IPY_MODEL_13e8c609dcad414cb13564dfd0498f46"
      }
     },
     "878d5bb72bf7452ca59e37aabfe2f703": {
      "model_module": "@jupyter-widgets/base",
      "model_module_version": "1.2.0",
      "model_name": "LayoutModel",
      "state": {}
     },
     "89647c360b6242a9b515c90104e37fb4": {
      "model_module": "@jupyter-widgets/base",
      "model_module_version": "1.2.0",
      "model_name": "LayoutModel",
      "state": {}
     },
     "8ae7dfe586b54c9d94e38a8c51f72a01": {
      "model_module": "@jupyter-widgets/controls",
      "model_module_version": "1.5.0",
      "model_name": "VBoxModel",
      "state": {
       "_dom_classes": [
        "widget-interact"
       ],
       "children": [
        "IPY_MODEL_41a633fecb314238880a0a0951ba23dd",
        "IPY_MODEL_833d60bc372b4319b48edaa9559a7438"
       ],
       "layout": "IPY_MODEL_e846c5c07cd64cf78d4f920deb0d68ad"
      }
     },
     "8b9da15cd3694ab68abcc5f18c7d63c6": {
      "model_module": "@jupyter-widgets/base",
      "model_module_version": "1.2.0",
      "model_name": "LayoutModel",
      "state": {}
     },
     "8f3d408c3e174eb58025dc55e9120b51": {
      "model_module": "@jupyter-widgets/controls",
      "model_module_version": "1.5.0",
      "model_name": "DescriptionStyleModel",
      "state": {
       "description_width": ""
      }
     },
     "9100ed790e284562b60163d8f155f56b": {
      "model_module": "@jupyter-widgets/base",
      "model_module_version": "1.2.0",
      "model_name": "LayoutModel",
      "state": {}
     },
     "91e5f14589dc4589b3289102a7aabc17": {
      "model_module": "@jupyter-widgets/controls",
      "model_module_version": "1.5.0",
      "model_name": "VBoxModel",
      "state": {
       "_dom_classes": [
        "widget-interact"
       ],
       "children": [
        "IPY_MODEL_dade0ceac2e94f99ab61b6019ebcc79c",
        "IPY_MODEL_f9404c08b791433faf221f2a15e8c67f"
       ],
       "layout": "IPY_MODEL_4a0a2abb5dbc4fbe9d905c0b4eff64d4"
      }
     },
     "92a9dbaf06fc41e6ac98baa741c73c3e": {
      "model_module": "@jupyter-widgets/base",
      "model_module_version": "1.2.0",
      "model_name": "LayoutModel",
      "state": {}
     },
     "9c8752e24f0f4719bcc4a3ce8c11be88": {
      "model_module": "@jupyter-widgets/base",
      "model_module_version": "1.2.0",
      "model_name": "LayoutModel",
      "state": {}
     },
     "9d0baea5be7041b0a14753594639cccd": {
      "model_module": "@jupyter-widgets/output",
      "model_module_version": "1.0.0",
      "model_name": "OutputModel",
      "state": {
       "layout": "IPY_MODEL_dc20419b3e014143b16e7e264c7daa66",
       "outputs": [
        {
         "data": {
          "image/png": "iVBORw0KGgoAAAANSUhEUgAAAYIAAAEWCAYAAABrDZDcAAAABHNCSVQICAgIfAhkiAAAAAlwSFlz\nAAALEgAACxIB0t1+/AAAADl0RVh0U29mdHdhcmUAbWF0cGxvdGxpYiB2ZXJzaW9uIDIuMS4wLCBo\ndHRwOi8vbWF0cGxvdGxpYi5vcmcvpW3flQAAIABJREFUeJzt3XeYVNX5wPHvu51tLNuQvqsioHQR\npCpiQTHYo0ZsUTE/E3vDkmiiJsYQo4lRQxSxBQuWRBSDirCKIgEEpYo6wC4gyy5tG1vP749zF4dl\ny2yZvVPez/PMM+XeueedO+Wde86554gxBqWUUuErwu0AlFJKuUsTgVJKhTlNBEopFeY0ESilVJjT\nRKCUUmFOE4FSSoU5TQRhQETOEZFcESkWkSHtWO5YEdnQyPJZIvJgA8suEZH5fohpoYhc3cLn9nT2\nYWQDy+8XkZdaF2Hga80+VIFJE0EdIrJJRE52Ow5vImJE5MhWbGI68CtjTKIx5st6ti8icoOIrBaR\nEhHJE5HXRWRAK8rEGPOJMaZPC5/7sjHm1JY81/lBrnR+tGsvd7RkW3Vi2uLsw+rWbquu+j53InKF\niHza1mWFGxE5UUTymlhnlohUOJ+VXSLygYj0bUYZAfe70RyaCMJDL2BNI8sfB24EbgBSgaOAt4FJ\n/g/Nb151frRrL4+0ZmMiEtVWgamA9YgxJhHoBmwFnnU5nnajiaARzj+yxSLyFxHZIyLfi8go5/Fc\nEckXkcu91p8lIk87/yaKRGSRiPTyWv6487x9IrJcRMZ6LYsUkbtF5DvnuctFpIeI5DirrHL+rVxY\nT5wRInKviGx2YnpBRDqKSKyIFAORzvO/q+e5vYFfAhcbYxYYY8qNMaXOP/KHnXU6Otvc6ZRxr1Nm\nrLNf+nttL0NEykQks+4/MREZIiIrnNf3KhDXxL7/1Ou+EZFfiMhGEdktIn8XEWnqPWxMQ/vNWZbl\nlHmViGwBFng9FuWsk+28x0Ui8gGQXmf7r4vIDyKyV0RyROSYVsRaW/blIrJFRApE5J46r2Wa8/kp\nFJHXRCS1znOvdD5/u519eZyIfOW8h094bav2c/83J/b1IjKhBfvwXRG5vs76X4nI2c5tIyLXOe9p\nkYg8ICJHiMjnznfkNRGJ8XrumSKy0on3MxEZ6LVsk4jc5mx/r4i8KiJxIpIAzAO6yo9Hh10b29fG\nmDLgNWCw1/aPEJEFzr4tEJGXRSTFWfYi0BN4R7yOPkXkeCfOPSKySkRObPRNdpMxRi9eF2ATcLJz\n+wqgCrgS+2P6ILAF+DsQC5wKFAGJzvqznPvjnOWPA596bXsKkAZEAbcCPwBxzrLbga+BPoAAg4A0\nZ5kBjmwk5p8D3wKHA4nAm8CLXssbfD7wC2BzE/vkBeDfQBKQBXwDXOUsmwk85LXuL4H3ndsnAnnO\n7RhgM3AzEA2cD1QCDzZQ5hV19p0B5gIp2C/dTmBiA8+9H3ipgWULgaub2m/O6zTOa08AOng9FuWs\n8znwqPNej3Pe+5e8yvq5s89igceAlb587urbB15l/9OJZRBQDvRzlt8ELAG6O+X9A5hd57lPY5Pv\nqcB+7FFfJvYfcD5wQp3Pfe17dSGwF0ht5j78KfCF1+sZBBQCMV7v6X+AZOAY5/V85GyrI7AWuNxZ\nd6gT4wjsd/FyZ5/Feu2/pUBX7FHtOuAXdT+Hjez/WTifRef9fhFY5bX8SOAUZ99mADnAYw29f84+\nLQTOwP7hPsW5n+H2b1y9r9/tAALtwqGJYKPXsgHOh7ez12OFwGCvD9MrXssSgWqgRwNl7QYGObc3\nAGc1sF5TieAj4Dqv+32wP7JRTT0fuAdY0si2I50v6NFej10LLHRunwx877VsMXCZc/vAFxD7Q7kN\nEK91P6N5iWCM1/3XgGkNPPd+oALY43Xp6ixbyI8/Yg3uN3788Tzca3ntY1HYZFQFJHgt/xcNJ6AU\n57kdm/rc1bcPvMru7rV8KXCRc3sdMMFrWZd6Xku3Op/bC73uvwHc5FVu3fdqKXBpM/dhLLAL6O0s\nmw48Wec9He11fzlwp9f9P+P82AJPAQ/U2T8b+DF5bQKmeC17BHi67uewkc/5LGxy3APUAB5gYCPr\nnw182dD7B9yJ158x57H/4iS2QLto1VDTdnjdLgMwxtR9LNHrfm7tDWNMMfaL0BVARG4VkXXOoese\n7L+e2uqEHsAhVTc+6or9t11rM/aL2NmH5xZifzQaks6P/+a9t9/Nub0A6CAiI8RWgw0G3mogxq3G\n+UZ4bac5fvC6XcrB+72u14wxKV6XbQ3E1NR+y6V+XYHdxpiSOs8HDlT1PexU1ezD/lBAneojL1XY\nf9/eorE/qt4a2ge9gLecaog92MRQXee11P3cNvY5ru+9qq9KpcF9aIwpxybsKSISAVyM/aftzdeY\negG31r4+5zX2qBNTcz4f9ZlujEnBJs4ybFIDQGxV5ysistV5P1+i4feyNt4L6sQ7hsa/a67RRND2\netTeEJFE7GHqNrHtAXdiD5c7OR+4vdhqILA/OEe0sMxt2A9erdp/qzvqX/0gHwHdRWRYA8sLsD9G\ndbe/FcAYU4P9sl8M/AyYa4wpqmc724FuIgfV6/f0IT5/8mW/Geq3Hejk1EF7P7/Wz4CzsEdMHbE/\nLvDj+13XFq91amXje7LMBU6vk/zijDFbfXx+XfW9V/Ul06b24fPAJcAEoNQY83kL48nFVkF6v754\nY8xsH57b0HtY/8rGbMF2nnhcRDo4D//B2c5AY0wytprXe//ULSMXe0TgHW+CcdrdAo0mgrZ3hoiM\ncRq5HsDWkeZi64qrsHXbUSLyG2zdaK1ngAdEpLdYA0UkzVm2A1tv2pDZwM1iGy8Tgd9je81UNRWs\nMWYj8CQwW2zjbozTyHaRiEwztqvka8BDIpLk/Ou/BfuPqNa/sPXIlzi36/O58/pvEJEoETkXGN5U\nfH7Wmv22GVgG/NbZZ2OAn3itkoStUisE4p1tN+ZV4CYR6eu8/8Ow9e+v+Phansa+R73gQKP9WT4+\ntz6Z2PcqWkQuAPoB79WzXqP70Pnhr8FW89Q9GmiOfwK/cI48RUQSRGSSiCT58NwdQFptI7YvjDEf\nYJPcVOehJKAY2CMi3bBtenXL8P6OvgT8REROc44O45zvV3dfY2hPmgja3r+A+7BVQsdifxzB1g/O\nwza0bsbWR3pXOzyK/cGdD+zDdl2r/TdyP/C8c4j503rKnIn9kuVg6zb3A9fXs15DbgCewDaC78FW\nUZ0DvOMsvx4oAb4HPnVe48zaJxtjvnCWd3Ve4yGMMRXAudj6593YxPFmM2L0h9but59hGy93Yd/z\nF7yWvYB9n7diGz2XNLGtfwLPYff5Xuf59xhj3vcxlsexDa/zRaTIKW+Ej8+tzxdAb+wR4UPA+caY\nwnrW82UfvoBtX2vxyXbGmGXANdjP6W5sA/UVPj53PTZhfe98hxrtNeTlT8AdIhIL/BbbYL0XeJdD\nP7t/AO51tn+b8+fvLOBu7J+/XGzyCMjfXDm4GlC1hojMwjZK3et2LEq1lIhcgW0MHtNG27sMmNpW\n21NtLyCzk1IqNIhIPHAdMMPtWFTDNBEopfxCRE7DVovsoOG2IxUA/FY1JCIzgTOBfGNM/zrLbsPW\nv2UYYwr8EoBSSimf+POIYBYwse6DItIDe5bdFj+WrZRSykd+G0jLGJMjIln1LPoLcAd2yAKfpKen\nm6ys+jallFKqIcuXLy8wxmQ0tV67jqgoIpOxZyyukibGCxORqTh9eHv27MmyZcvaIUKllAodIuLT\nCYnt1ljs9B64B/iNL+sbY2YYY4YZY4ZlZDSZ0JRSSrVQe/YaOgJ7yvwqEdmEHSVxhYgc1o4xKKWU\nqqPdqoaMMV9jT1sH7PjhwDDtNaSUUu7yWyIQkdnY4V/TxU5Ocp8xJmxm/FFKNa6yspK8vDz279/v\ndihBLy4uju7duxMdXXcAW9/4s9fQxU0sz/JX2UqpwJeXl0dSUhJZWVk01XlENcwYQ2FhIXl5eWRn\nZ7doG3pmsVLKFfv37yctLU2TQCuJCGlpaa06stJEoJRyjSaBttHa/diu5xEo5YqaGlj6Dyjd5XYk\nvusxAnqf7HYUKkxoIlChL/cLeH+acycY/oEakAiY8iYcMd7tYEJaZGQkAwYMoKqqin79+vH8888T\nHx/fom0tXLiQ6dOnM3fuXP7zn/+wdu1apk2bVu+6e/bs4V//+hfXXXdds8q4//77SUxM5LbbbmtR\njA3RRKBCnycHELjje4hPdTuappUXwzMnw5yfw9SF0KlXU89QLdShQwdWrlwJwCWXXMLTTz/NLbfc\ncmD5gcndI5pXiz558mQmT57c4PI9e/bw5JNPNjsR+Iu2EajQ58mBLgODIwkAxCbCRS9DTTW8OgUq\ny9yOKCyMHTuWb7/9lk2bNtGvXz+uu+46hg4dSm5uLvPnz2fkyJEMHTqUCy64gOLiYgDef/99+vbt\ny5gxY3jzzR8nLZs1axa/+tWvANixYwfnnHMOgwYNYtCgQXz22WdMmzaN7777jsGDB3P77XbWyz/9\n6U8cd9xxDBw4kPvuu+/Ath566CH69OnDySefzIYNG/zy2vWIQIW2ilLIWwojrnU7kuZJOwLOnQGz\nL4S5N8PZT0EIN6z+9p01rN22r023eXTXZO77yTE+rVtVVcW8efOYONEOmLxhwwaee+45nnzySQoK\nCnjwwQf58MMPSUhI4I9//COPPvood9xxB9dccw0LFizgyCOP5MILL6x32zfccAMnnHACb731FtXV\n1RQXF/Pwww+zevXqA0cj8+fPZ+PGjSxduhRjDJMnTyYnJ4eEhAReeeUVvvzyS6qqqhg6dCjHHnts\n2+wgL5oIVGjL/QKqKyD7BLcjab4+E+GEabDoYeh2LAy/xu2IQk5ZWRmDBw8G7BHBVVddxbZt2+jV\nqxfHH388AEuWLGHt2rWMHj0agIqKCkaOHMn69evJzs6md+/eAEyZMoUZMw6diG3BggW88IKdzjoy\nMpKOHTuye/fug9aZP38+8+fPZ8iQIQAUFxezceNGioqKOOeccw60WzRW3dQamghUaPMsgogo6DnS\n7Uha5oQ7YftK29jduT/0CtLX0QRf/7m3Ne82Am8JCQkHbhtjOOWUU5g9e/ZB66xcubLNur8aY7jr\nrru49tqDj1wfe+yxduliq20EKrR5cqDbMFvvHowiIuCcf0BKT3j9cti33e2Iws7xxx/P4sWL+fbb\nbwEoLS3lm2++oW/fvng8Hr777juAQxJFrQkTJvDUU08BUF1dzb59+0hKSqKoqOjAOqeddhozZ848\n0PawdetW8vPzGTduHG+99RZlZWUUFRXxzjvv+OU1aiJQoWv/Xtj2JWSPczuS1umQAhe+bHsTvXYZ\nVFW4HVFYycjIYNasWVx88cUMHDiQ448/nvXr1xMXF8eMGTOYNGkSY8aMoVev+nt3Pf7443z88ccM\nGDCAY489ljVr1pCWlsbo0aPp378/t99+O6eeeio/+9nPGDlyJAMGDOD888+nqKiIoUOHcuGFFzJ4\n8GDOO+88xo4d65fX6Lc5i9vSsGHDjE5Mo5ptwzyYfRFcPhey/fMFaler34Q5V8Kwq+DMR92OptXW\nrVtHv3793A4jZNS3P0VkuTFmWFPP1SMCFbo8ORAVB92PczuSttH/XBh1Ayx7Fr58ye1oVAjRRKBC\nlyfHDtUQHed2JG1nwn22B9TcW2DrCrejUSFCE4EKTSUFsGN18LcP1BUZBec/B4mZ8Oql9nUq1Uqa\nCFRo2vSJvQ7G8weakpAGF74IJTttm0F1ldsRqSCniUCFJk8OxCRB1yFuR+IfXYfATx6zr/PD+5pe\nX6lGaCJQocmTA71G2aqUUDX4Z3DcNfD5E7D6DbejUUFME4EKPXu3QuG3odc+UJ/Tfg89jod//wp2\nrHE7mqD01ltvISKsX7++0fVmzZrFtm3bWlzOwoULOfPMM1v8fH/SRKBCjyfHXh8egu0DdUXFwE+f\nh9hkeOUSKNvd9HPUQWbPns2YMWN45ZVXGl2vtYkgkGkiUKHHkwMdUiHTnfFr2l3SYfDTF2BvHrw5\n1c7IpnxSXFzM4sWLefbZZw9KBI888ggDBgxg0KBBTJs2jTlz5rBs2TIuueQSBg8eTFlZGVlZWRQU\n2F5by5Yt48QTTwRg6dKljBo1iiFDhjBq1Ci/DR3dlkK4AlWFJWNsIsgea8fpCRc9R8DEP8B7t9nR\nSsff7XZEzTNvGvzwddtu87ABcPrDja7y9ttvM3HiRI466ihSU1NZsWIFO3bs4O233+aLL74gPj6e\nXbt2kZqayhNPPMH06dMZNqzxE3X79u1LTk4OUVFRfPjhh9x999288UZgt+FoIlChZdf3sC8Psm92\nO5L2d9zVdmylRX+ELoOh7xluRxTwZs+ezU033QTARRddxOzZs6mpqeHKK688MPRzamrzJjTau3cv\nl19+ORs3bkREqKysbPO425omAhVaatsHQvH8gaaIwKRHbaPxW9fCNQsgvbfbUfmmiX/u/lBYWMiC\nBQtYvXo1IkJ1dTUiwnnnnefT0M9RUVHUONVw+/fvP/D4r3/9a8aPH89bb73Fpk2bDlQZBbIwOnZW\nYcGTA0ldIO1ItyNxR3QcXPgSREbbaS7Li5p+TpiaM2cOl112GZs3b2bTpk3k5uaSnZ1NamoqM2fO\npLS0FIBdu3YBHDJ0dFZWFsuXLwc4qOpn7969dOvWDbANzMFAE4EKHQfaB8aF9LSOTUrpYYehKPgG\n/v1Lu1/UIWbPns0555xz0GPnnXce27ZtY/LkyQwbNozBgwczffp0AK644gp+8YtfHGgsvu+++7jx\nxhsZO3YskZGRB7Zxxx13cNdddzF69Giqq6vb9TW1lA5DrULHjrXw1Eg46+8wZIrb0bhv8V/hg1/D\nyffDmMBrM9FhqNuWDkOtFHi1D4TBiWS+GHU9HHMufPQ7+G6B29GoAOa3RCAiM0UkX0RWez32JxFZ\nLyJfichbIpLir/JVGPIsgk5ZdlpHZavHznoCMvrCnJ/D7s1uR6QClD+PCGYBE+s89gHQ3xgzEPgG\nuMuP5atwUl0Fmz4Nz95CjYlJsI3HNTW28biyzO2IDhIMVdPBoLX70W+JwBiTA+yq89h8Y0ztmLlL\ngO7+Kl+FmR9WQfk+rRaqT9oRcN4/7Qlb79wUMI3HcXFxFBYWajJoJWMMhYWFxMW1fAImN88j+Dnw\nakMLRWQqMBWgZ0891FdN0PaBxh11Gpx4Fyz8PXQ7FkZMdTsiunfvTl5eHjt37nQ7lKAXFxdH9+4t\n/1/tSiIQkXuAKuDlhtYxxswAZoDtNdROoalg5cmBjH525i5Vv3G32zOP/3sXHNbfDtPtoujoaLKz\ns12NQVnt3mtIRC4HzgQuMXpMqNpCVQVs/lyPBpoSEQHn/gNSesFrl8O+0BxJUzVfuyYCEZkI3AlM\nNsaUtmfZKoRtXQZVZZoIfBHXES56GSpK4LXLoKrc7YhUAPBn99HZwOdAHxHJE5GrgCeAJOADEVkp\nIk/7q3wVRjw5gEDWaLcjCQ6Z/eDsJyHvf/D+NLejUQHAb20ExpiL63n4WX+Vp8KYJwe6DIIOndyO\nJHgcczZsuxEWPw5dh8LQS92OSLlIzyxWwa2iFHKXarVQS5z0Gzj8RHj3Fti63O1o/G9vHsz/tR16\nQx1Eh6FWwW3L51BTGR7TUra1yCg7ON0/ToBXL4WpiyAxw+2o2t6OtfDZX+Hr16HGOY2pxwg7mY8C\n9IhABTtPDkREQc+RbkcSnOJT4cIXobQQ5lxpz9AOBcbA5s/g5Z/agQjX/huOuwau+wKSu9mjoFB5\nrW1AE4EKbp4c6H6cHUpBtUzXwXDmY7DpE/jwPrejaZ2aGlg3F549BZ473fYoG38P3LzGTn6T2Rcm\nPgw7VsPSGW5HGzC0akgFr7I9sH2lPVFKtc7gi2HbCvj8Ceg6BAac73ZEzVNVDl+9auv/CzfacyXO\nmA6DL4GY+IPX7fcTOPIU+Pgh22ie3NWdmAOIHhGo4LX5MzA12lDcVk59yFax/ftX8MPqptcPBPv3\nwqePwWMD4T/XQ3QHOH8mXL8Chl9zaBIAOyrrGY9AdSX89572jzkAaSJQwcuTA1FxtmpItV5UDFzw\nvD3p7NVLoGy32xE1bN92+OA38Jf+tjorsx9c+jZcmwP9z7MN4Y1JPRzG3gpr3tS5GtBEoIKZJwd6\nHg9RsW5HEjqSOtvG471b4Y1roCbAplrc+Y09Ynl8IHz2NzjyZNvb6bK34YjxzZuidPSNNiG8e1vY\nn2GtiUAFp+KdkL9Gq4X8ocdwOP2P8O0HsPBht6OxcpfCK5fA34fbbqBDL7PVPxc8Zxu7WyI6zrYj\n7Pou7M8t0MZiFZw2fWKvdSIa/xj2c9t4nPOI/aHtO6n9Y6ipgY3z7dnPWz6DuBTbMWDEtZCQ3jZl\nHDkBjj4bPpluG8hTw3M0VD0iUMHJswhik6FLC/8NqsaJwBl/tj2I3rwWCja2X9lVFbByNjw1CmZf\nCHtzbZfPm9fASfe0XRKoNfEP9lyUeXcEzKQ97U0TgQpOnhzoNbrpRkHVctFx8NMXbSPyK5dAeZF/\nyysvgs//Dn8dDG//AiQCzpkBN3wJx/8fxCb6p9zkrnbSno3zYf27/ikjwGkiUMFnTy7s+l7bB9pD\nSg+4YBYUfgtv/59//jEX58NHD8BfjoH/3m0bcC+ZA/+3GAZdCJHRbV9mXSOuhcxjYN6ddojuMKOJ\nQAWfA+0DmgjaRfY4OOV3sO4d+PQvbbfdwu9g7s22C+gnf7btPVd/BFfMhd6nNK8HUGtFRsOkP8O+\nPFj0SPuVGyD0uFoFH08OxKdB5tFuRxI+Rv7SNh4veMAO+X3khJZva+sK2wC87j+2bn7QxTDqBkg/\nsu3ibYleI2HwFHt29aCL7XAUYcLnIwIR0cFclPuMsYkga6ydelG1DxGY/Dc7L/QbV8HuTc17vjHw\n7Yfw/E/gn+Phu49tP/6bvobJf3U/CdQ65bcQkwjv3RZWDcdNfpNEZJSIrAXWOfcHiciTfo9Mqfrs\n+h72bdVqITfEJMBFL9lhPV6dYueCaEp1FXz1Ojw9Fl46z/Y+OuUBuHk1nHw/JB3m76ibJyHdxrXp\nE3u+Qpjw5S/VX4DTgEIAY8wqQL+Fyh2eRfZazx9wR+rhcO4zdiyiuTc1/K+5ogS++Af8bQi8eTVU\nl8NZf4cbv4LRN0BccvvG3RxDL4dux9pxiMr2uB1Nu/Dp2NoYk1vnoQA771yFDU8OJHWFtCPcjiR8\nHXUqjL/bjvb5xT8OXlZSCB//wTYAz7sDkrrARbPtPABDptiuqIEuIsI2HJcW2BFKw4AvjcW5IjIK\nMCISA9yAU02kVLuqqQHPJ3Z8mfbsUaIONfY22PYlzL8HDhsAHbvbcwBWvABVZXDU6TDmJjsWVDDq\nOgSOuxr+9wwM/pm9H8J8SQS/AB4HugF5wHzgOn8GpVS98tfaf2naPuC+iAg452n450nwrwuhstSe\nADbwp7YHUCj0uBl/D6x5G+beAld/CBGRbkfkN75UDfUxxlxijOlsjMk0xkwB+vk7MKUO4cmx15oI\nAkNcR7jwZeiUZc/8vXEVnP1kaCQBgA4pcNpDttvsiufdjsavfEkEf/PxMaX8y5NjGytTergdiaqV\n2Rf+71P7g9mxm9vRtL0BF9iuyh/+1o54G6IarBoSkZHAKCBDRG7xWpQMhO4xkgpM1VWweTH0P9ft\nSFQ4EbENx0+NshPgnB2aPecbOyKIARKxySLJ67IPCLIJTVXQ274KyvdptZBqfxl9YNT1sPJlOz1q\nCGrwiMAYswhYJCKzjDGb2zEmpQ5Ve/5A1lh341Dhadzt8PUcePdWOx1mewyE1458aSMoFZE/ich7\nIrKg9uL3yJTy5smxYwslZrodiQpHMQl21rb8tfDF025H0+Z8SQQvA+uBbOC3wCbgf009SURmiki+\niKz2eixVRD4QkY3OdacWxq3CSVU5bFmi1ULKXX3OgKMm2hPm9m51O5o25UsiSDPGPAtUGmMWGWN+\nDvhylsgsYGKdx6YBHxljegMfOfeValzeMnuSkiYC5SYRe1RgquG/d7kdTZvyJRFUOtfbRWSSiAwB\nujf1JGNMDrCrzsNnAbUdcp8HzvY1UBXGPDn2ZKVeo92ORIW7Tlkw7jZY+287mmqI8CURPCgiHYFb\ngduAZ4CbW1heZ2PMdgDnusEKXxGZKiLLRGTZzp2h239X+cCzyM5N3CHF7UiUsmdOpx0J790Olfvd\njqZNNJkIjDFzjTF7jTGrjTHjjTHHYqt1/MoYM8MYM8wYMywjI8PfxalAVVECef/TaiEVOKJi4Yzp\ndkj0xY+7HU2baDQRiEg3ERnmDDaHiGSKyO+BjS0sb4eIdHG21QXIb+F2VLjY8jnUVGkiUIHliPHQ\n/zw7xeau792OptUaTAQichOwEjucxBIRuRw76mgH4NgWlvcf4HLn9uXAv1u4HRUuPDkQER28o1iq\n0HXqQxAZY6uIgnw2s8ZGH52KHXBul4j0BL4FxhljlviyYRGZDZwIpItIHnAf8DDwmohcBWwBLmhN\n8CoMeHKg+3G2H7dSgSS5i52X4b93wbp34OjJbkfUYo0lgv3GmF0AxpgtIvKNr0nAec7FDSxqxazX\nKqyU7bZDS4y7w+1IlKrf8Kl26In3p8ERJ0FsotsRtUhjiaC7iPzV636m931jzA3+C0sp7Lgupkbb\nB1TgioyCSY/CzFNh0R/h1AfcjqhFGksEt9e5v9yfgSh1CE8ORHWA7sPcjkSphvUcAUMuhSVPwqCL\nofPRbkfUbI0NOhfaMzGowOfJsY3EUbFuR6JU407+Layfawelu/K9oJtK1afJ65Vqd8X5doAvrRZS\nwSAhzSaDLZ/BqlfcjqbZNBGowFQ7LeXhJ7gbh1K+GnKp7eE2/17b0SGINJkIROSQAV7qe0ypNuXJ\ngdiOcNggtyNRyjcREbbhuGwXfBRcjcY6Z7EKTJ4cyBpte2UoFSy6DITh18KymbA1ePrX6JzFKvDs\n2QK7PTDiWrcjUar5xt8Na96CubfANQsgIvB/LnXOYhV4PJ/Ya20oVsEoLhlOewi2r7RHBkFA5yxW\ngceTA/HpkNHP7UiUapn+58ENq5wyAAAepklEQVSKF2xbwdFnBfwUq760EcSKyAwRma9zFiu/M8Ym\nguyxtvFNqWAkApP+DJWl8MFv3I6mSb60xL0OPI2dkKbav+GosFf4HRRt02ohFfzSe8PoG+GT6TBk\nCmSNcTuiBvnyl6vKGPOUMWapMWZ57cXvkanw5Flkr7P1/AEVAsbeCh172jOOqyubXt8lviSCd0Tk\nOhHpIiKptRe/R6bCk2cRJHeD1MPdjkSp1ouJhzMegZ3r7VhEAcqXqqHaiWS8B6EzgH5TVduqqbE9\nho6aGHRjtSjVoD6nQ58zYOHDthG5Y3e3IzqEL3MWZ9dz0SSg2l7+GntWprYPqFAz8WHbEeL9aW5H\nUi9fhpiIF5F7RWSGc7+3iJzp/9BU2KkdXyh7rLtxKNXWOvWCE263M5l9M9/taA7hSxvBc0AF9ixj\ngDzgQb9FpMKXJwdSjwjIQ2elWm3k9ZB+FMy7HSrL3I7mIL4kgiOMMY8AlQDGmDJAK3BV26qugk2L\ntVpIha6oGDhjOuzeBJ/+xe1oDuJLIqgQkQ7YBmJE5Aig3K9RqfCzfSVUFGkiUKHt8BNgwAU2ERR+\n53Y0B/iSCO4D3gd6iMjLwEeAziau2lbt+QNZ2j6gQtypD0JUHLx3m21ADgC+9Br6ADgXuAKYDQwz\nxiz0b1gq7HhyIPMYSMxwOxKl/CvpMDjpXvhuAax92+1oAN9nKOuGHXo6BhgnIuf6LyQVdqrKYcsS\nrRZS4WPYVXDYQHj/Ligvcjsan7qPzgRmAucBP3Eu2n1UtZ3cpVC1X6elVOEjMgrO/AsU/WBPNHOZ\nL2cWH2+MOdrvkajw5ckBiYBeo5peV6lQ0X0YHHs5LHkKBv8MOh/jWii+VA19LiKaCJT/eHKg6xCI\n6+h2JEq1rwn3QYcUO5tZTY1rYfiSCJ7HJoMNIvKViHwtIl/5OzAVJsqLYesybR9Q4Sk+FU75HeQu\ngVWzXQvDl6qhmcClwNeAeylLhaYtS6CmShOBCl+DfmZnM/vg13aAuvj2H9zZlyOCLcaY/xhjPMaY\nzbWX1hQqIjeLyBoRWS0is0UkrjXbU0HMswgioqHH8W5HopQ7IiJg0qNQtgc++p07IfiwznoR+ZeI\nXCwi59ZeWlqgiHQDbsCej9Af2y31opZuTwU5Tw70GG7HbVcqXB3WH0b8ApbPgrxl7V68L4mgA3ZI\niVNpu+6jUUAHEYkC4oFtrdyeCkZlu2H7Kq0WUgrgxGn2ZLO5N0NN+84K7Esbwa3GmF1tVaAxZquI\nTAe2AGXAfGPMIeOyishUYCpAz54926p4FUg2LQaMJgKlAOKS4bTfw5wr4X/Pwoip7Va0L0cEX4jI\n6yJyhkjrp40SkU7AWUA20BVIEJEpddczxswwxgwzxgzLyNBhB0KSJwei46HbMLcjUSowHHMOHD4e\nFjwARTvarVhfEsFRwAxsz6FvReT3InJUK8o8GfAYY3YaYyqBN/lxrgMVTjyLoOdIOzyvUspO0XrG\ndHum/fx7261YXwadM8aYD4wxFwNXY+cwXioii0RkZAvK3AIc78x8JsAEYF0LtqOCWdEOO6G3Vgsp\ndbD0I2H0TfD1az/O2udnvow1lCYiN4rIMuA24HogHbgV+FdzCzTGfAHMAVZgz02IwB5xqHCy6RN7\nrYlAqUONvQVSesG7t0JVhd+L82mICSAZONsYM8kY86YxpsoYswx4uiWFGmPuM8b0Ncb0N8ZcaozR\niW7CjWcRxHaELoPcjkSpwBPdwVYRFXwD6+f6vThfeg31McYYEUkSkURjTHHtAmPMH/0YmwplnhzI\nGgMRkW5HolRgOupUuPojOzidn/lyRHCMiHwJrAbWishyEenv57hUKNu92c7bqtVCSjWuHZIA+JYI\nZgC3GGN6GWN6YtsGtE5ftZy2DygVUHxJBAnGmI9r7zjTVCb4LSIV+jw5EJ8Omf3cjkQphW9tBN+L\nyK+BF537UwCP/0JSIc0Ymwiyx9k+00op1/lyRPBzIAN74tdbzu0r/RmUCmEFG6Fou1YLKRVAmjwi\nMMbsxo4WqlTreRbZa52fWKmA0WAiEJF3ANPQcmPMZL9EpEKbJwc69oBO2W5HopRyNHZEML3dolDh\noabG9hjqc4a2DygVQBpMBMaYRbW3RSQG6Is9QthgjPH/Oc8q9OxYbecg0PYBpQJKk20EIjIJO5TE\nd4AA2SJyrTFmnr+DUyGmdgCtrLHuxqGUOogv3Uf/DIw3xnwLICJHAO8CmghU83hyIO1I6NjN7UiU\nUl586T6aX5sEHN8D+X6KR4Wq6krYvFirhZQKQL4cEawRkfeA17BtBBcA/6udwN4Y86Yf41OhYttK\nqCjWRKBUAPIlEcQBO4Dajt87gVTsJPYGe6KZUo2rPX9A2weUCji+nFCmZxGr1vMsgs4DICHd7UiU\nUnX40msoGzsrWZb3+npCmfJZ5X7Y8gUcd7XbkSil6uFL1dDbwLPAO0CNf8NRISlvKVSXa/uAUgHK\nl0Sw3xjzV79HokKXJwckEnqNcjsSpVQ9fEkEj4vIfcB84MDcwsaYFX6LSoUWTw50HQJxyW5HopSq\nhy+JYABwKXASP1YNGee+Uo0rL4Kty2GUDmCrVKDyJRGcAxyu4wupFtmyBGqqtH1AqQDmy5nFq4AU\nfweiQpRnEUTGQI8RbkeilGqAL0cEnYH1IvI/Dm4j0O6jqmmeHOg+HGLi3Y5EKdUAXxLBfX6PQoWm\n0l2w/Ss48S63I1FKNcKXM4sXiUgvoLcx5kMRiQci/R+aCnqbPgWMTkupVIBrso1ARK4B5gD/cB7q\nhj3JTKnGeXIgOgG6DnU7EqVUI3xpLP4lMBrYB2CM2QhktqZQEUkRkTkisl5E1onIyNZsTwUoTw70\nGglRMW5HopRqhC+JoNy766iIRNHIpPY+ehx43xjTFxgErGvl9lSgKfoBCjZot1GlgoAviWCRiNwN\ndBCRU4DXseMOtYiIJAPjsOMXYYypMMbsaen2VIDyfGKvNREoFfB8SQTTsHMQfA1cC7wH3NuKMg93\ntveciHwpIs+ISEIrtqcCkWcRxHWEwwa6HYlSqglNJgJjTI0x5p/GmAuMMec7t1tTNRQFDAWeMsYM\nAUqwyeYgIjJVRJaJyLKdO3e2ojjlCk+OnYQmQjuYKRXofOk1NFpEPhCRb0TkexHxiMj3rSgzD8gz\nxnzh3J+DTQwHMcbMMMYMM8YMy8jIaEVxqt3t3gR7Nmu1kFJBwpcTyp4FbgaWA9WtLdAY84OI5IpI\nH2PMBmACsLa121UBRNsHlAoqviSCvcaYeW1c7vXAyyISA3wP6HSYocSTAwmZkNHX7UiUUj7wJRF8\nLCJ/wk5S3ybzERhjVgLDWvp8FcCMsQ3F2eNAxO1olFI+8CUR1A4b6f3DrfMRqPoVfAPFO7RaSKkg\n4stYQ+PbIxAVIjw59loTgVJBo8FEICK31HnIAAXAp8YYj1+jUsHLswg69oROWW5HopTyUWPdR5Pq\nXJKx1UPzROSidohNBZuaGttjSNsHlAoqDR4RGGN+W9/jIpIKfAi84q+gVJDa8TXs36PVQkoFGV+G\nmDiIMWYXoH/31KEOtA+MdTcOpVSzNDsRiMhJwG4/xKKCnScH0npDcle3I1FKNUNjjcVfc+hw06nA\nNuAyfwalglB1JWz+DAZe6HYkSqlmaqz76Jl17hug0BhT4sd4VLDaugIqinVaSqWCUGONxZvbMxAV\n5GrbB7K0fUCpYNPsNgKl6uVZBIcNgPhUtyNRSjWTJgLVepVlkLsUsrVaSKlg5MtYQ0o1LncpVJcH\n7PkD/13zAw++u5Z9ZVVuh+KzmKgI0hJiSE+MJTUhhrTEGNISYkhz7qcnxpCaEEtaYgxJsVGInsCn\nWkETgWo9Tw5IJPQc6XYkBymtqOKBueuYvXQLR3dJZkLfzm6H5LOyimoKSyrYVVJO7u5SdhVXUFRe\nfyKLiYw4kCxS6ySP9ATvRGITR3xMpCYOdRBNBKr1PDnQbSjEJbsdyQGrt+7lhle+xFNQwrUnHM6t\np/QhJiq4a0L3V1azq6SCXSUVFBSXs6ukgsLiCgpLKigsLrfXJRV4CkrYVVJBaUX980jFRkXUOdKI\nPXDEUTeRpCXE0iFGpxsNdZoIVOuUF8HW5TDmJrcjAaCmxvDspx4e+e96UhNiePmqEYw6Mt3tsNpE\nXHQkXVM60DWlg0/r26OKcgqLf0wehfUkko07iikoLqe8qqbe7cTHRDpHG7GkO8kiLTHWqaqKISMp\nlsE9UkiKi27Ll6vakSYC1TqbPwdTHRDtAzv27ee211fxycYCTjumMw+fO5BOCTFuh+WaDjGRdI+J\np3un+CbXNcZQWlFNYXEFBSXl7CqusEnESRa1yeOHfftZs20fu0oqqKj+MXFERwrDs1MZ3yeTCf06\nk52e4M+XptqYJgLVOp5FEBkLPUY0va4ffbB2B3fMWUVZZTW/P2cAFw/vofXgzSAiJMRGkRAbRc80\n3xJHUXkVhcUVbNtTRs7GnSxYl8+D767jwXfXkZ2ewEl9MzmpbybHZaUGfbVcqBNj6o4iEXiGDRtm\nli1b5nYYqj5Pj4G4FLhirivFl1VU89B7a3lpyRaO6ZrM4xcN4cjMRFdiUZC7q5QF6/NZsD6fz78v\npKKqhsTYKMb2Tmd830zG98kkIynW7TDDhogsN8Y0OS2wHhGolivdBT98DePvdaX4tdv2ccMrX/Jt\nfjFTxx3OraceRWyUNmy6qUdqPJePyuLyUVmUVlSx+NtCJzHsYN7qHwAY1L0j4/tmMqFvZ47pmkxE\nhB65uU0TgWq5TZ/Y63ZuH6ipMcxc7OGR9zeQEh/Ni1cNZ2zvjHaNQTUtPiaKU47uzClHd8aY/qzd\nvo8F6/JZsCGfxz/ayGMfbiQjKZaT+mQyvm8mY3qnkxirP0lu0L2uWs6TA9EJtutoO8kv2s+tr9kG\n4ZP7deaR8weSGsYNwsFCRDima0eO6dqR6yf0prC4nIUbdrJgQz7vfb2dV5flEhMZwYjDaxucM+mV\npg3O7UXbCFTLPXEcpPSCKXPapbiP1u3gjjlfUVJRxb2TjuaSET21QTgEVFbXsGzTbhas38GC9fl8\nt9MOcHx4RgIT+tqjheOyUomO1Abn5tI2AuVf+7ZDwTcw5FK/F7W/sprfv7eOFz7fTL8uyfzt4sEc\nmZnk93JV+4iOjGDkEWmMPCKNeyYdzebCkgMNzs9/tpl/fuIhKTaKcUdlML5vJif2ySA9URuc25Im\nAtUy7dQ+sG77Pm585Uu+2VHMVWOyuWNiH20QDnG90hK4cnQ2V47OpqS8ik+/LWDBunw+3pDPu19v\nRwQGdU850D31mK7JemTYSlo1pJpv82fw719C2R64/VuIaPsfZmMMsz7bxB/mrSc5LppHfzqIcUdp\ng3A4q6kxrN2+j4+cBudVuXsA6Jwcy0lO19QxvdOJj9H/t7V8rRrSRKB8V7YbPrgPVjwPHXvCWU/4\nZUaynUXl3D5nFQs37GRC30weOX8gaVoVoOrYWVTOwg22CumTjQUUl1cRExXB8YenMcE5WuiR2vTJ\ncaFME4FqO8bAmrdg3p1QWgDHXwfj74aYtu/V8fH6fG6fs4qi/VXcM6kflx7fSw/7VZMqqmpYtmkX\nH63P5+P1+XxfYBuce2cm2qOFvpkc26tT2DU4B3wiEJFIYBmw1RhTd37kg2gicNGeLfDubbDxv9Bl\nMPzkceg6uM2L2V9ZzcPz1jPrs030PSyJv148hKM6a4OwahlPQcmBE9mWenZRWW1IjrMNziOyU+me\nGk+PTvF079SBuOjQbXMKhkRwCzAMSNZEEICqq2DpP2DBg4DASffA8Gshsu3rXzf8UMSNr3zJ+h+K\nuHJ0FndO7BvSX07Vvor2V/LpxgIWrM/n4w07KSguP2h5emIsPVI70N1JDLUJonunDnTr1CGoOycE\ndPdREekOTAIeAm5xIwbViG0r4Z0bYPsq6H0aTJoOKT3bvBhjDC98vpmH3ltHclwUs648jhP7ZLZ5\nOSq8JcVFc/qALpw+oAs1NYadxeXk7iolb3cZebtLyd1VRt6eUr7K28O8r7dTVXPwn+POybF07xRP\nj05eySLVXnfp2CEkBtRzq3n9MeAOoMFjfxGZCkwF6Nmz7X+EVD0qSuDj38OSJyE+Hc5/Do45B/xQ\nR19QXM4dc75iwfp8xvfJ4JHzB+lgZMrvIiKEzslxdE6OY1jWocuraww79u0nb3fZwclidynLNu/m\nna+2U+2VKCIEDkuOO5Aguqf+eDTRo1M8XTrGERUE7RLtnghE5Ewg3xizXERObGg9Y8wMYAbYqqF2\nCi98fTMf3r0V9m6BY6+Ak++HDp38UtTCDfnc9vpX7Ntfyf0/OZrLR2Vpg7AKCJERcmDyn+HZqYcs\nr6quYfve/V4Jwl7n7S5jyfeF/LByK94HFJERwmHJcfVXPaXGc1hyHJEBMOieG0cEo4HJInIGEAck\ni8hLxpgpLsSiivPh/Wmw+g1I7wNXvg+9/DP38P7Kah55fwMzF3vo0zmJl64eTt/DAmd6S6WaEhUZ\nQY/UeKdbatohyyuqavhh735yd5ceSBC1RxafbixgR9F+vJtlo5zEc3CCqL0dT2ZSbLuMzupq91Hn\niOA2bSx2QU0NfPkifPBrqCyDsbfZ6Saj/FM9s3FHEdfPtg3CV4zKYtrp2iCswk95VTXb9uz/sW2i\nNlk41zuLDm7IjomM4B+XHcv4FradBXRjsXLZzm/gnRthy2fQa7TtEpre2y9FGWN4aclmHnx3HYmx\nUcy8Yhgn9e3sl7KUCnSxUZFkpyc0OJXn/srqA9VOtQni8HaY9tPVRGCMWQgsdDOGsFJVDp88Cp8+\nCtHxMPlvMHgKRPinMauwuJw73/iKD9flc8JRGfzpgoFkJsX5pSylQkFcdCRHZia2+yx7ekQQLjYt\nhrk32RFD+58PE/8Aif7rqvnJxp3c8toq9pZW8pszj+aKUVk6E5VSAUoTQajzHh8opSdc8gb0Ptlv\nxZVXVfOn9zfwzKceemcm8sLPh9OvizYIKxXINBGEKmNgzZswbxqUFsKo6+HEu/wyPlCtb/OLuGH2\nStZu38elx/finkn9tEFYqSCgiSAU7dlizwnYON+ODzRlDnQZ5LfijDH8a+kWHpi7lviYKJ65bBgn\nH60NwkoFC00EoaS6Cr54Gj5+CBCY+DAMn+qX+QJq7Sqp4M43vuKDtTsY2zudP18wiMxkbRBWKpho\nIggV2760XUK3r4KjJsIZ0yGlh1+L/HRjAbe8tpI9pZXcO6kfPx+drQ3CSgUhTQTBrrwYFv7Bjg+U\nkAEXPA9Hn+WX8YF2l1SwKm8PX+XtZcWW3SzcsJMjMhJ47srjOKZrxzYvTynVPjQRBLNv5sO7t8De\nXDj2Smd8oJQ22fT+ymrWbNvLyty9rMrdw6q8PWwuLAVsjjkyI5Frxx3OTScfRYcYbRBWKphpIghG\nRTvg/TvtrGFtMD5QdY1hY34Rq3L3HPjh37Cj6MAoi107xjGoRwoXD+/JwO4dGdCtI0lx0W31apRS\nLtNEEExqauDLF+CD39jxgcbfA6NvbNb4QMYYtu4pY1XuXlbl7WFl7h5Wb91LaUU1AMlxUQzqkcL/\n9T2CQT1SGNS9ozb+KhXiNBEEi50b4J2bnPGBxsBPHvNpfKDaev3aH/5VuXsoLKkAICYqgmO6JvPT\nYT0Y3COFQT1S6JUarw2+SoWZ0E4E21bCvm22ETUhzV7HJPqlIdVvascH+uTP9mSwyU/AkCn1voay\nCluvvyqv4Xr98X0zGdQjhcHdU+hzWFJIzK6klGqd0E4Ey2fB8ucOfiwy1kkM6c4lA+LTvB7LsLNz\n1d6OiXcldMCOD/TOjVC4EQZcAKf9ARIzgObV6w/qnkL/bslar6+UqldoJ4Lx98DQy6CkAEoLoGSn\ncym016UFtsqlZCdU7a9/G9HxNinEp9eTQNIPPtqIT4foNqhPL9tt2wFWvAApPTGXvEFe2ihWfb+H\nVblrWZW3V+v1lVJtJrQTQWLGgX/QjTLGztdbWmCTRolX0ih1kkZJARRthx2r7f3qivq3FZN0cGJI\nSK9ztOF19BGfDlExB8ex+g1q5k1DynaxvNulPBP5U/73SjmFJR/bzWu9vlKqjYV2IvCVCMQm2kun\nrKbXNwbKi+okip2YkgKqi/KpKS7AlOyEws1E5C0nsmwXEaaq3k3tj0ykOKoTRZEpUF1Jdvl6vq45\nnLsqb2bd91n0zjRar6+U8quwSwSV1TWUVlRTVlFNWWU1pRVVlFVU28cqqw/crn3cruM8Xln7vKof\nH6uopqwylrKKLpRWZFBj+tVTqiGZEtJlH6nsI032kSZFpLGXjJpiMqv3kS5FJEklr6X/kt39r+DX\nPdIY0L0jibFh9xYppdpZSP/K/PWjjbz15daDftQrq5s3R3N0pBAXHUl8TCTxMVF0iI6kQ0wkibFR\nZCTGEh9j73eIjjpwOz4m8sB68TH28R+3Ubu+vURFHvzvvk9b7gCllPJBSCeCzKRY+nfrSHx0wz/Q\ntT/KP/6IR3mtE0l0pFbDKKVCW0gngouG9+Si4T3dDkMppQKa/t1VSqkwp4lAKaXCnCYCpZQKc5oI\nlFIqzGkiUEqpMKeJQCmlwpwmAqWUCnOaCJRSKsyJMc0bcsENIrIT2NzCp6cDBW0Yjr8FU7zBFCsE\nV7zBFCsEV7zBFCu0Lt5expgmh2AOikTQGiKyzBgzzO04fBVM8QZTrBBc8QZTrBBc8QZTrNA+8WrV\nkFJKhTlNBEopFebCIRHMcDuAZgqmeIMpVgiueIMpVgiueIMpVmiHeEO+jUAppVTjwuGIQCmlVCM0\nESilVJgL2UQgIjNFJF9EVrsdS1NEpIeIfCwi60RkjYjc6HZMjRGROBFZKiKrnHh/63ZMTRGRSBH5\nUkTmuh1LU0Rkk4h8LSIrRWSZ2/E0RkRSRGSOiKx3Pr8j3Y6pISLSx9mntZd9InKT23E1RERudr5f\nq0VktojE+a2sUG0jEJFxQDHwgjGmv9vxNEZEugBdjDErRCQJWA6cbYxZ63Jo9RIRARKMMcUiEg18\nCtxojFnicmgNEpFbgGFAsjHmTLfjaYyIbAKGGWMC/qQnEXke+MQY84yIxADxxpg9bsfVFBGJBLYC\nI4wxLT1Z1W9EpBv2e3W0MaZMRF4D3jPGzPJHeSF7RGCMyQF2uR2HL4wx240xK5zbRcA6oJu7UTXM\nWMXO3WjnErD/KESkOzAJeMbtWEKJiCQD44BnAYwxFcGQBBwTgO8CMQl4iQI6iEgUEA9s81dBIZsI\ngpWIZAFDgC/cjaRxTlXLSiAf+MAYE8jxPgbcAdS4HYiPDDBfRJaLyFS3g2nE4cBO4Dmn2u0ZEUlw\nOygfXQTMdjuIhhhjtgLTgS3AdmCvMWa+v8rTRBBARCQReAO4yRizz+14GmOMqTbGDAa6A8NFJCCr\n30TkTCDfGLPc7ViaYbQxZihwOvBLp5ozEEUBQ4GnjDFDgBJgmrshNc2pwpoMvO52LA0RkU7AWUA2\n0BVIEJEp/ipPE0GAcOra3wBeNsa86XY8vnKqAhYCE10OpSGjgclOvfsrwEki8pK7ITXOGLPNuc4H\n3gKGuxtRg/KAPK+jwTnYxBDoTgdWGGN2uB1II04GPMaYncaYSuBNYJS/CtNEEACcxtdngXXGmEfd\njqcpIpIhIinO7Q7YD+16d6OqnzHmLmNMd2NMFrY6YIExxm//rFpLRBKcDgM41SynAgHZ880Y8wOQ\nKyJ9nIcmAAHZwaGOiwngaiHHFuB4EYl3fh8mYNsO/SJkE4GIzAY+B/qISJ6IXOV2TI0YDVyK/bda\n27XtDLeDakQX4GMR+Qr4H7aNIOC7ZQaJzsCnIrIKWAq8a4x53+WYGnM98LLzWRgM/N7leBolIvHA\nKdh/2AHLOcqaA6wAvsb+VvttqImQ7T6qlFLKNyF7RKCUUso3mgiUUirMaSJQSqkwp4lAKaXCnCYC\npZQKc5oIlAJExIjIi173o0RkZ0tHK3VG5bzO6/6JwTDyqQpPmgiUskqA/s4JcmD7mm9txfZSgOua\nXEupAKCJQKkfzcOOUgp1zj4VkVQReVtEvhKRJSIy0Hn8fmfui4Ui8r2I3OA85WHgCOfkwD85jyV6\njd3/snPGqFKu00Sg1I9eAS5yJgAZyMEjwP4W+NIYMxC4G3jBa1lf4DTsmED3OeNGTcMOczzYGHO7\ns94Q4CbgaOzInaP9+WKU8pUmAqUcxpivgCzs0cB7dRaPAV501lsApIlIR2fZu8aYcmcimXzsMBH1\nWWqMyTPG1AArnbKUcl2U2wEoFWD+gx0H/kQgzevx+qpxasdnKfd6rJqGv1e+rqdUu9IjAqUONhP4\nnTHm6zqP5wCXgO0BBBQ0MWdEEZDklwiVamP6j0QpL8aYPODxehbdj52J6yugFLi8ie0UishiEVmN\nbYR+t61jVaqt6OijSikV5rRqSCmlwpwmAqWUCnOaCJRSKsxpIlBKqTCniUAppcKcJgKllApzmgiU\nUirM/T+lbO0+a1L9xgAAAABJRU5ErkJggg==\n",
          "text/plain": "<matplotlib.figure.Figure at 0x1a1da11358>"
         },
         "metadata": {},
         "output_type": "display_data"
        },
        {
         "name": "stdout",
         "output_type": "stream",
         "text": "\n"
        },
        {
         "data": {
          "text/plain": "'Mean Squared Error: 31.192500000000003'"
         },
         "metadata": {},
         "output_type": "display_data"
        }
       ]
      }
     },
     "9ff8ee3e03984c2bbd2af50a0576e3f8": {
      "model_module": "@jupyter-widgets/controls",
      "model_module_version": "1.5.0",
      "model_name": "VBoxModel",
      "state": {
       "_dom_classes": [
        "widget-interact"
       ],
       "children": [
        "IPY_MODEL_d905c545452745439800fd6a24031706",
        "IPY_MODEL_5422a8694d6c4895be43e5ba1237a7ce"
       ],
       "layout": "IPY_MODEL_817f299648bb46b381a2897dabd3933b"
      }
     },
     "a0975ee81a064d4bbced86881e3f93e8": {
      "model_module": "@jupyter-widgets/controls",
      "model_module_version": "1.5.0",
      "model_name": "DropdownModel",
      "state": {
       "_options_labels": [
        "Alabama",
        "Alaska",
        "Arizona",
        "Arkansas",
        "California",
        "Colorado",
        "Connecticut",
        "Delaware",
        "Florida",
        "Georgia",
        "Hawaii",
        "Idaho",
        "Illinois",
        "Indiana",
        "Iowa",
        "Kansas",
        "Kentucky",
        "Louisiana",
        "Maine",
        "Maryland",
        "Massachusetts",
        "Michigan",
        "Minnesota",
        "Mississippi",
        "Missouri",
        "Montana",
        "Nebraska",
        "Nevada",
        "New Hampshire",
        "New Jersey",
        "New Mexico",
        "New York",
        "North Carolina",
        "North Dakota",
        "Ohio",
        "Oklahoma",
        "Oregon",
        "Pennsylvania",
        "Rhode Island",
        "South Carolina",
        "South Dakota",
        "Tennessee",
        "Texas",
        "Utah",
        "Vermont",
        "Virginia",
        "Washington",
        "West Virginia",
        "Wisconsin",
        "Wyoming"
       ],
       "description": "state",
       "index": 29,
       "layout": "IPY_MODEL_878d5bb72bf7452ca59e37aabfe2f703",
       "style": "IPY_MODEL_418d7af4500d464c9e12c68805c52cdb"
      }
     },
     "a5c3d37a09384cb0ab11e0e79498a3c8": {
      "model_module": "@jupyter-widgets/base",
      "model_module_version": "1.2.0",
      "model_name": "LayoutModel",
      "state": {}
     },
     "a8bf5f7a83684ce59b5ad0dd791b4eba": {
      "model_module": "@jupyter-widgets/base",
      "model_module_version": "1.2.0",
      "model_name": "LayoutModel",
      "state": {}
     },
     "ac907e329ca847ecb1b14dbb0d463ec5": {
      "model_module": "@jupyter-widgets/controls",
      "model_module_version": "1.5.0",
      "model_name": "DescriptionStyleModel",
      "state": {
       "description_width": ""
      }
     },
     "ad9dea3ec3ff42f5a8563f20c5698786": {
      "model_module": "@jupyter-widgets/base",
      "model_module_version": "1.2.0",
      "model_name": "LayoutModel",
      "state": {}
     },
     "aff0ea56ae774cf0ad480c54b1d0dc38": {
      "model_module": "@jupyter-widgets/controls",
      "model_module_version": "1.5.0",
      "model_name": "VBoxModel",
      "state": {
       "_dom_classes": [
        "widget-interact"
       ],
       "children": [
        "IPY_MODEL_02426d14d2ff48358071074ed25051ba",
        "IPY_MODEL_9d0baea5be7041b0a14753594639cccd"
       ],
       "layout": "IPY_MODEL_018c7a1cfa6d42c2a95d082312bb7838"
      }
     },
     "b0d2a8909cb743a3aa74c6c5e1868292": {
      "model_module": "@jupyter-widgets/base",
      "model_module_version": "1.2.0",
      "model_name": "LayoutModel",
      "state": {}
     },
     "b3cbf0978cc94d28955175208ee2ced1": {
      "model_module": "@jupyter-widgets/base",
      "model_module_version": "1.2.0",
      "model_name": "LayoutModel",
      "state": {}
     },
     "b5bb88a36e644b4dbfb9eb0feddcdb5a": {
      "model_module": "@jupyter-widgets/base",
      "model_module_version": "1.2.0",
      "model_name": "LayoutModel",
      "state": {}
     },
     "bcb908cb56d24cc38fbce3e0f5e48cd2": {
      "model_module": "@jupyter-widgets/controls",
      "model_module_version": "1.5.0",
      "model_name": "DescriptionStyleModel",
      "state": {
       "description_width": ""
      }
     },
     "beef84147b22419d82f834bfe0ed45bf": {
      "model_module": "@jupyter-widgets/controls",
      "model_module_version": "1.5.0",
      "model_name": "DescriptionStyleModel",
      "state": {
       "description_width": ""
      }
     },
     "c711e16b634b4c42b919a608a4aca6a9": {
      "model_module": "@jupyter-widgets/controls",
      "model_module_version": "1.5.0",
      "model_name": "DropdownModel",
      "state": {
       "_options_labels": [
        "Alabama",
        "Alaska",
        "Arizona",
        "Arkansas",
        "California",
        "Colorado",
        "Connecticut",
        "Delaware",
        "Florida",
        "Georgia",
        "Hawaii",
        "Idaho",
        "Illinois",
        "Indiana",
        "Iowa",
        "Kansas",
        "Kentucky",
        "Louisiana",
        "Maine",
        "Maryland",
        "Massachusetts",
        "Michigan",
        "Minnesota",
        "Mississippi",
        "Missouri",
        "Montana",
        "Nebraska",
        "Nevada",
        "New Hampshire",
        "New Jersey",
        "New Mexico",
        "New York",
        "North Carolina",
        "North Dakota",
        "Ohio",
        "Oklahoma",
        "Oregon",
        "Pennsylvania",
        "Rhode Island",
        "South Carolina",
        "South Dakota",
        "Tennessee",
        "Texas",
        "Utah",
        "Vermont",
        "Virginia",
        "Washington",
        "West Virginia",
        "Wisconsin",
        "Wyoming"
       ],
       "description": "state",
       "index": 0,
       "layout": "IPY_MODEL_2cf528f9d9d948438baf89c2fc144d27",
       "style": "IPY_MODEL_de16e646c0f4412a89e30fbc2ee241b4"
      }
     },
     "c821a3c31d3a4b4992ab51c68cd7d0e2": {
      "model_module": "@jupyter-widgets/controls",
      "model_module_version": "1.5.0",
      "model_name": "VBoxModel",
      "state": {
       "_dom_classes": [
        "widget-interact"
       ],
       "layout": "IPY_MODEL_f6f010f767a549c0ae432e0af0dd000d"
      }
     },
     "c96f13035d444bdc9fdeab70779a5a68": {
      "model_module": "@jupyter-widgets/controls",
      "model_module_version": "1.5.0",
      "model_name": "DropdownModel",
      "state": {
       "_options_labels": [
        "Alabama",
        "Alaska",
        "Arizona",
        "Arkansas",
        "California",
        "Colorado",
        "Connecticut",
        "Delaware",
        "Florida",
        "Georgia",
        "Hawaii",
        "Idaho",
        "Illinois",
        "Indiana",
        "Iowa",
        "Kansas",
        "Kentucky",
        "Louisiana",
        "Maine",
        "Maryland",
        "Massachusetts",
        "Michigan",
        "Minnesota",
        "Mississippi",
        "Missouri",
        "Montana",
        "Nebraska",
        "Nevada",
        "New Hampshire",
        "New Jersey",
        "New Mexico",
        "New York",
        "North Carolina",
        "North Dakota",
        "Ohio",
        "Oklahoma",
        "Oregon",
        "Pennsylvania",
        "Rhode Island",
        "South Carolina",
        "South Dakota",
        "Tennessee",
        "Texas",
        "Utah",
        "Vermont",
        "Virginia",
        "Washington",
        "West Virginia",
        "Wisconsin",
        "Wyoming"
       ],
       "description": "state",
       "index": 0,
       "layout": "IPY_MODEL_8100842a195e4a1394b7096c291acc75",
       "style": "IPY_MODEL_128075bd2c954f96921823cfd955c212"
      }
     },
     "cc4b484ba3294de4b6e62e3eb6277fe9": {
      "model_module": "@jupyter-widgets/output",
      "model_module_version": "1.0.0",
      "model_name": "OutputModel",
      "state": {
       "layout": "IPY_MODEL_2e3b9ce35378472db6bf487efab53a90",
       "outputs": [
        {
         "data": {
          "image/png": "iVBORw0KGgoAAAANSUhEUgAAAYIAAAEWCAYAAABrDZDcAAAABHNCSVQICAgIfAhkiAAAAAlwSFlz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\nRK5CYII=\n",
          "text/plain": "<matplotlib.figure.Figure at 0x1a1d01db38>"
         },
         "metadata": {},
         "output_type": "display_data"
        },
        {
         "name": "stdout",
         "output_type": "stream",
         "text": "\n"
        },
        {
         "data": {
          "text/plain": "'Mean Squared Error: 18.06125'"
         },
         "metadata": {},
         "output_type": "display_data"
        }
       ]
      }
     },
     "cff580c899c24e3787916326b15ce626": {
      "model_module": "@jupyter-widgets/controls",
      "model_module_version": "1.5.0",
      "model_name": "VBoxModel",
      "state": {
       "_dom_classes": [
        "widget-interact"
       ],
       "children": [
        "IPY_MODEL_ffe649b9d2d249d989b66b0c9f41e683",
        "IPY_MODEL_81d2d55c57bb4b6f906a254484a4a5f8"
       ],
       "layout": "IPY_MODEL_069216dc399a4cb0a9bcf581f2dbe933"
      }
     },
     "d1f40bde37fa44d49f98186be2395664": {
      "model_module": "@jupyter-widgets/controls",
      "model_module_version": "1.5.0",
      "model_name": "DropdownModel",
      "state": {
       "_options_labels": [
        "Alabama",
        "Alaska",
        "Arizona",
        "Arkansas",
        "California",
        "Colorado",
        "Connecticut",
        "Delaware",
        "Florida",
        "Georgia",
        "Hawaii",
        "Idaho",
        "Illinois",
        "Indiana",
        "Iowa",
        "Kansas",
        "Kentucky",
        "Louisiana",
        "Maine",
        "Maryland",
        "Massachusetts",
        "Michigan",
        "Minnesota",
        "Mississippi",
        "Missouri",
        "Montana",
        "Nebraska",
        "Nevada",
        "New Hampshire",
        "New Jersey",
        "New Mexico",
        "New York",
        "North Carolina",
        "North Dakota",
        "Ohio",
        "Oklahoma",
        "Oregon",
        "Pennsylvania",
        "Rhode Island",
        "South Carolina",
        "South Dakota",
        "Tennessee",
        "Texas",
        "Utah",
        "Vermont",
        "Virginia",
        "Washington",
        "West Virginia",
        "Wisconsin",
        "Wyoming"
       ],
       "description": "state",
       "index": 3,
       "layout": "IPY_MODEL_371cd73211a64731ac33ffd6dd1dc329",
       "style": "IPY_MODEL_1add5825c51b40e797cc45743be5e749"
      }
     },
     "d214d8a3a62b48c2ace86d4f85b76584": {
      "model_module": "@jupyter-widgets/controls",
      "model_module_version": "1.5.0",
      "model_name": "DescriptionStyleModel",
      "state": {
       "description_width": ""
      }
     },
     "d2675fb3d5c843b392985000ab09ee8c": {
      "model_module": "@jupyter-widgets/controls",
      "model_module_version": "1.5.0",
      "model_name": "DropdownModel",
      "state": {
       "_options_labels": [
        "California",
        "New York"
       ],
       "description": "state",
       "index": 0,
       "layout": "IPY_MODEL_3630f5f06d864a59a39d53f6c95dd9ad",
       "style": "IPY_MODEL_8f3d408c3e174eb58025dc55e9120b51"
      }
     },
     "d7cc9d53404e4247bf7263b3abf2ac51": {
      "model_module": "@jupyter-widgets/controls",
      "model_module_version": "1.5.0",
      "model_name": "DescriptionStyleModel",
      "state": {
       "description_width": ""
      }
     },
     "d905c545452745439800fd6a24031706": {
      "model_module": "@jupyter-widgets/controls",
      "model_module_version": "1.5.0",
      "model_name": "DropdownModel",
      "state": {
       "_options_labels": [
        "Alabama",
        "Alaska",
        "Arizona",
        "Arkansas",
        "California",
        "Colorado",
        "Connecticut",
        "Delaware",
        "Florida",
        "Georgia",
        "Hawaii",
        "Idaho",
        "Illinois",
        "Indiana",
        "Iowa",
        "Kansas",
        "Kentucky",
        "Louisiana",
        "Maine",
        "Maryland",
        "Massachusetts",
        "Michigan",
        "Minnesota",
        "Mississippi",
        "Missouri",
        "Montana",
        "Nebraska",
        "Nevada",
        "New Hampshire",
        "New Jersey",
        "New Mexico",
        "New York",
        "North Carolina",
        "North Dakota",
        "Ohio",
        "Oklahoma",
        "Oregon",
        "Pennsylvania",
        "Rhode Island",
        "South Carolina",
        "South Dakota",
        "Tennessee",
        "Texas",
        "Utah",
        "Vermont",
        "Virginia",
        "Washington",
        "West Virginia",
        "Wisconsin",
        "Wyoming"
       ],
       "description": "state",
       "index": 0,
       "layout": "IPY_MODEL_faf0e32fcfa9494da078d686e2fda29e",
       "style": "IPY_MODEL_d7cc9d53404e4247bf7263b3abf2ac51"
      }
     },
     "dade0ceac2e94f99ab61b6019ebcc79c": {
      "model_module": "@jupyter-widgets/controls",
      "model_module_version": "1.5.0",
      "model_name": "DropdownModel",
      "state": {
       "_options_labels": [
        "California",
        "New York"
       ],
       "description": "state",
       "index": 0,
       "layout": "IPY_MODEL_3fdba4dfd2784f7dbb4d4470cf2fdd16",
       "style": "IPY_MODEL_beef84147b22419d82f834bfe0ed45bf"
      }
     },
     "dc20419b3e014143b16e7e264c7daa66": {
      "model_module": "@jupyter-widgets/base",
      "model_module_version": "1.2.0",
      "model_name": "LayoutModel",
      "state": {}
     },
     "dd4f541e62714ef58e87475afff213f4": {
      "model_module": "@jupyter-widgets/controls",
      "model_module_version": "1.5.0",
      "model_name": "DescriptionStyleModel",
      "state": {
       "description_width": ""
      }
     },
     "de16e646c0f4412a89e30fbc2ee241b4": {
      "model_module": "@jupyter-widgets/controls",
      "model_module_version": "1.5.0",
      "model_name": "DescriptionStyleModel",
      "state": {
       "description_width": ""
      }
     },
     "dfae5080058c44058a2d47eaf5729de5": {
      "model_module": "@jupyter-widgets/controls",
      "model_module_version": "1.5.0",
      "model_name": "DropdownModel",
      "state": {
       "_options_labels": [
        "Alabama",
        "Alaska",
        "Arizona",
        "Arkansas",
        "California",
        "Colorado",
        "Connecticut",
        "Delaware",
        "Florida",
        "Georgia",
        "Hawaii",
        "Idaho",
        "Illinois",
        "Indiana",
        "Iowa",
        "Kansas",
        "Kentucky",
        "Louisiana",
        "Maine",
        "Maryland",
        "Massachusetts",
        "Michigan",
        "Minnesota",
        "Mississippi",
        "Missouri",
        "Montana",
        "Nebraska",
        "Nevada",
        "New Hampshire",
        "New Jersey",
        "New Mexico",
        "New York",
        "North Carolina",
        "North Dakota",
        "Ohio",
        "Oklahoma",
        "Oregon",
        "Pennsylvania",
        "Rhode Island",
        "South Carolina",
        "South Dakota",
        "Tennessee",
        "Texas",
        "Utah",
        "Vermont",
        "Virginia",
        "Washington",
        "West Virginia",
        "Wisconsin",
        "Wyoming"
       ],
       "description": "state",
       "index": 3,
       "layout": "IPY_MODEL_92a9dbaf06fc41e6ac98baa741c73c3e",
       "style": "IPY_MODEL_ac907e329ca847ecb1b14dbb0d463ec5"
      }
     },
     "e31e620047d443a689fcfc49358f92c1": {
      "model_module": "@jupyter-widgets/base",
      "model_module_version": "1.2.0",
      "model_name": "LayoutModel",
      "state": {}
     },
     "e3bf3ccd72bf4c058cc88a28fc6beea9": {
      "model_module": "@jupyter-widgets/controls",
      "model_module_version": "1.5.0",
      "model_name": "DropdownModel",
      "state": {
       "_options_labels": [
        "Alabama",
        "Alaska",
        "Arizona",
        "Arkansas",
        "California",
        "Colorado",
        "Connecticut",
        "Delaware",
        "Florida",
        "Georgia",
        "Hawaii",
        "Idaho",
        "Illinois",
        "Indiana",
        "Iowa",
        "Kansas",
        "Kentucky",
        "Louisiana",
        "Maine",
        "Maryland",
        "Massachusetts",
        "Michigan",
        "Minnesota",
        "Mississippi",
        "Missouri",
        "Montana",
        "Nebraska",
        "Nevada",
        "New Hampshire",
        "New Jersey",
        "New Mexico",
        "New York",
        "North Carolina",
        "North Dakota",
        "Ohio",
        "Oklahoma",
        "Oregon",
        "Pennsylvania",
        "Rhode Island",
        "South Carolina",
        "South Dakota",
        "Tennessee",
        "Texas",
        "Utah",
        "Vermont",
        "Virginia",
        "Washington",
        "West Virginia",
        "Wisconsin",
        "Wyoming"
       ],
       "description": "state",
       "index": 4,
       "layout": "IPY_MODEL_6912f93bc3ef4bab8b8fe0b942c973e5",
       "style": "IPY_MODEL_dd4f541e62714ef58e87475afff213f4"
      }
     },
     "e846c5c07cd64cf78d4f920deb0d68ad": {
      "model_module": "@jupyter-widgets/base",
      "model_module_version": "1.2.0",
      "model_name": "LayoutModel",
      "state": {}
     },
     "e8c34b3b37f74c9d8bbcd8816d2d18e1": {
      "model_module": "@jupyter-widgets/output",
      "model_module_version": "1.0.0",
      "model_name": "OutputModel",
      "state": {
       "layout": "IPY_MODEL_3ecb4a723e174b7bafa42350aa3dd322",
       "outputs": [
        {
         "data": {
          "image/png": "iVBORw0KGgoAAAANSUhEUgAAAYIAAAEWCAYAAABrDZDcAAAABHNCSVQICAgIfAhkiAAAAAlwSFlz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\nlgiMMSbOWSIwxpg4Z4nAGGPi3P8D7VpQ8So2O5wAAAAASUVORK5CYII=\n",
          "text/plain": "<matplotlib.figure.Figure at 0x1a15c5d898>"
         },
         "metadata": {},
         "output_type": "display_data"
        },
        {
         "name": "stdout",
         "output_type": "stream",
         "text": "\n"
        },
        {
         "data": {
          "text/plain": "'Mean Squared Error: 16.036250000000006'"
         },
         "metadata": {},
         "output_type": "display_data"
        }
       ]
      }
     },
     "eafe77dd1f2141119fdda2ff5553b213": {
      "model_module": "@jupyter-widgets/output",
      "model_module_version": "1.0.0",
      "model_name": "OutputModel",
      "state": {
       "layout": "IPY_MODEL_1ea43d78bc7c4ed6ba3403fa884746cd",
       "outputs": [
        {
         "data": {
          "image/png": "iVBORw0KGgoAAAANSUhEUgAAAYIAAAEWCAYAAABrDZDcAAAABHNCSVQICAgIfAhkiAAAAAlwSFlz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\nzKzinAjMzCrOicDMrOJ+AqBuYcsdA4hxAAAAAElFTkSuQmCC\n",
          "text/plain": "<matplotlib.figure.Figure at 0x1a1cc99780>"
         },
         "metadata": {},
         "output_type": "display_data"
        },
        {
         "name": "stdout",
         "output_type": "stream",
         "text": "\n"
        },
        {
         "data": {
          "text/plain": "'Mean Squared Error: 3.0349999999999984'"
         },
         "metadata": {},
         "output_type": "display_data"
        }
       ]
      }
     },
     "ef3bd81c85c14a50b579f049845e9eac": {
      "model_module": "@jupyter-widgets/base",
      "model_module_version": "1.2.0",
      "model_name": "LayoutModel",
      "state": {}
     },
     "f032566b94e344549748b715daa110d6": {
      "model_module": "@jupyter-widgets/controls",
      "model_module_version": "1.5.0",
      "model_name": "IntSliderModel",
      "state": {
       "layout": "IPY_MODEL_83890fb2dba74c41b57565f68d811eef",
       "style": "IPY_MODEL_0579eb9226434336929450fe87533ae7",
       "value": 40
      }
     },
     "f1bfdd8c737d47fdbd9b0e78a028bb44": {
      "model_module": "@jupyter-widgets/controls",
      "model_module_version": "1.5.0",
      "model_name": "VBoxModel",
      "state": {
       "_dom_classes": [
        "widget-interact"
       ],
       "children": [
        "IPY_MODEL_c711e16b634b4c42b919a608a4aca6a9",
        "IPY_MODEL_eafe77dd1f2141119fdda2ff5553b213"
       ],
       "layout": "IPY_MODEL_b5bb88a36e644b4dbfb9eb0feddcdb5a"
      }
     },
     "f6f010f767a549c0ae432e0af0dd000d": {
      "model_module": "@jupyter-widgets/base",
      "model_module_version": "1.2.0",
      "model_name": "LayoutModel",
      "state": {}
     },
     "f9404c08b791433faf221f2a15e8c67f": {
      "model_module": "@jupyter-widgets/output",
      "model_module_version": "1.0.0",
      "model_name": "OutputModel",
      "state": {
       "layout": "IPY_MODEL_7f1bd4dc1fe44e5b827d452309a88abe",
       "outputs": [
        {
         "data": {
          "image/png": "iVBORw0KGgoAAAANSUhEUgAAAYIAAAEWCAYAAABrDZDcAAAABHNCSVQICAgIfAhkiAAAAAlwSFlz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\nRK5CYII=\n",
          "text/plain": "<matplotlib.figure.Figure at 0x1a1cf0fa58>"
         },
         "metadata": {},
         "output_type": "display_data"
        },
        {
         "data": {
          "text/plain": "(array([4.4, 4.4, 4.7, 10.2, 10.2, 10.2, 8.4, 7.2], dtype=object),\n array([4.3, 4.3, 5.8, 16.2, 16.0, 15.1, 13.9, 11.6], dtype=object))"
         },
         "metadata": {},
         "output_type": "display_data"
        }
       ]
      }
     },
     "f968d1d6cfd54347bd6393188b694f44": {
      "model_module": "@jupyter-widgets/output",
      "model_module_version": "1.0.0",
      "model_name": "OutputModel",
      "state": {
       "layout": "IPY_MODEL_52993e8346fe47d3812ac91ea3436178",
       "outputs": [
        {
         "data": {
          "image/png": "iVBORw0KGgoAAAANSUhEUgAAAYIAAAEWCAYAAABrDZDcAAAABHNCSVQICAgIfAhkiAAAAAlwSFlz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\nPHuHWuMAAAAASUVORK5CYII=\n",
          "text/plain": "<matplotlib.figure.Figure at 0x1a1cf2b3c8>"
         },
         "metadata": {},
         "output_type": "display_data"
        },
        {
         "data": {
          "text/plain": "(array([4.1, 3.6, 4.1, 7.2, 7.7, 6.0, 6.0, 4.3], dtype=object),\n array([4.1, 3.9, 4.9, 10.3, 9.4, 8.3, 7.5, 7.4], dtype=object))"
         },
         "metadata": {},
         "output_type": "display_data"
        }
       ]
      }
     },
     "faf0e32fcfa9494da078d686e2fda29e": {
      "model_module": "@jupyter-widgets/base",
      "model_module_version": "1.2.0",
      "model_name": "LayoutModel",
      "state": {}
     },
     "ffe649b9d2d249d989b66b0c9f41e683": {
      "model_module": "@jupyter-widgets/controls",
      "model_module_version": "1.5.0",
      "model_name": "DropdownModel",
      "state": {
       "_options_labels": [
        "Alabama",
        "Alaska",
        "Arizona",
        "Arkansas",
        "California",
        "Colorado",
        "Connecticut",
        "Delaware",
        "Florida",
        "Georgia",
        "Hawaii",
        "Idaho",
        "Illinois",
        "Indiana",
        "Iowa",
        "Kansas",
        "Kentucky",
        "Louisiana",
        "Maine",
        "Maryland",
        "Massachusetts",
        "Michigan",
        "Minnesota",
        "Mississippi",
        "Missouri",
        "Montana",
        "Nebraska",
        "Nevada",
        "New Hampshire",
        "New Jersey",
        "New Mexico",
        "New York",
        "North Carolina",
        "North Dakota",
        "Ohio",
        "Oklahoma",
        "Oregon",
        "Pennsylvania",
        "Rhode Island",
        "South Carolina",
        "South Dakota",
        "Tennessee",
        "Texas",
        "Utah",
        "Vermont",
        "Virginia",
        "Washington",
        "West Virginia",
        "Wisconsin",
        "Wyoming"
       ],
       "description": "state",
       "index": 0,
       "layout": "IPY_MODEL_7008e74ed5e24c41a24d83512f9810b3",
       "style": "IPY_MODEL_bcb908cb56d24cc38fbce3e0f5e48cd2"
      }
     }
    },
    "version_major": 2,
    "version_minor": 0
   }
  }
 },
 "nbformat": 4,
 "nbformat_minor": 2
}
